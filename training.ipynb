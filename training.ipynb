{
  "cells": [
    {
      "cell_type": "code",
      "execution_count": null,
      "metadata": {
        "id": "T_ps47B5lWEC",
        "outputId": "d1872e55-2f1d-4ef1-c8d7-e0f75ef32003",
        "colab": {
          "base_uri": "https://localhost:8080/"
        }
      },
      "outputs": [
        {
          "output_type": "stream",
          "name": "stdout",
          "text": [
            "Collecting ultralytics\n",
            "  Downloading ultralytics-8.2.78-py3-none-any.whl.metadata (41 kB)\n",
            "\u001b[?25l     \u001b[90m━━━━━━━━━━━━━━━━━━━━━━━━━━━━━━━━━━━━━━━━\u001b[0m \u001b[32m0.0/41.3 kB\u001b[0m \u001b[31m?\u001b[0m eta \u001b[36m-:--:--\u001b[0m\r\u001b[2K     \u001b[90m━━━━━━━━━━━━━━━━━━━━━━━━━━━━━━━━━━━━━━━━\u001b[0m \u001b[32m41.3/41.3 kB\u001b[0m \u001b[31m2.4 MB/s\u001b[0m eta \u001b[36m0:00:00\u001b[0m\n",
            "\u001b[?25hRequirement already satisfied: numpy<2.0.0,>=1.23.0 in /usr/local/lib/python3.10/dist-packages (from ultralytics) (1.26.4)\n",
            "Requirement already satisfied: matplotlib>=3.3.0 in /usr/local/lib/python3.10/dist-packages (from ultralytics) (3.7.1)\n",
            "Requirement already satisfied: opencv-python>=4.6.0 in /usr/local/lib/python3.10/dist-packages (from ultralytics) (4.10.0.84)\n",
            "Requirement already satisfied: pillow>=7.1.2 in /usr/local/lib/python3.10/dist-packages (from ultralytics) (9.4.0)\n",
            "Requirement already satisfied: pyyaml>=5.3.1 in /usr/local/lib/python3.10/dist-packages (from ultralytics) (6.0.2)\n",
            "Requirement already satisfied: requests>=2.23.0 in /usr/local/lib/python3.10/dist-packages (from ultralytics) (2.32.3)\n",
            "Requirement already satisfied: scipy>=1.4.1 in /usr/local/lib/python3.10/dist-packages (from ultralytics) (1.13.1)\n",
            "Requirement already satisfied: torch>=1.8.0 in /usr/local/lib/python3.10/dist-packages (from ultralytics) (2.3.1+cu121)\n",
            "Requirement already satisfied: torchvision>=0.9.0 in /usr/local/lib/python3.10/dist-packages (from ultralytics) (0.18.1+cu121)\n",
            "Requirement already satisfied: tqdm>=4.64.0 in /usr/local/lib/python3.10/dist-packages (from ultralytics) (4.66.5)\n",
            "Requirement already satisfied: psutil in /usr/local/lib/python3.10/dist-packages (from ultralytics) (5.9.5)\n",
            "Requirement already satisfied: py-cpuinfo in /usr/local/lib/python3.10/dist-packages (from ultralytics) (9.0.0)\n",
            "Requirement already satisfied: pandas>=1.1.4 in /usr/local/lib/python3.10/dist-packages (from ultralytics) (2.1.4)\n",
            "Requirement already satisfied: seaborn>=0.11.0 in /usr/local/lib/python3.10/dist-packages (from ultralytics) (0.13.1)\n",
            "Collecting ultralytics-thop>=2.0.0 (from ultralytics)\n",
            "  Downloading ultralytics_thop-2.0.0-py3-none-any.whl.metadata (8.5 kB)\n",
            "Requirement already satisfied: contourpy>=1.0.1 in /usr/local/lib/python3.10/dist-packages (from matplotlib>=3.3.0->ultralytics) (1.2.1)\n",
            "Requirement already satisfied: cycler>=0.10 in /usr/local/lib/python3.10/dist-packages (from matplotlib>=3.3.0->ultralytics) (0.12.1)\n",
            "Requirement already satisfied: fonttools>=4.22.0 in /usr/local/lib/python3.10/dist-packages (from matplotlib>=3.3.0->ultralytics) (4.53.1)\n",
            "Requirement already satisfied: kiwisolver>=1.0.1 in /usr/local/lib/python3.10/dist-packages (from matplotlib>=3.3.0->ultralytics) (1.4.5)\n",
            "Requirement already satisfied: packaging>=20.0 in /usr/local/lib/python3.10/dist-packages (from matplotlib>=3.3.0->ultralytics) (24.1)\n",
            "Requirement already satisfied: pyparsing>=2.3.1 in /usr/local/lib/python3.10/dist-packages (from matplotlib>=3.3.0->ultralytics) (3.1.2)\n",
            "Requirement already satisfied: python-dateutil>=2.7 in /usr/local/lib/python3.10/dist-packages (from matplotlib>=3.3.0->ultralytics) (2.8.2)\n",
            "Requirement already satisfied: pytz>=2020.1 in /usr/local/lib/python3.10/dist-packages (from pandas>=1.1.4->ultralytics) (2024.1)\n",
            "Requirement already satisfied: tzdata>=2022.1 in /usr/local/lib/python3.10/dist-packages (from pandas>=1.1.4->ultralytics) (2024.1)\n",
            "Requirement already satisfied: charset-normalizer<4,>=2 in /usr/local/lib/python3.10/dist-packages (from requests>=2.23.0->ultralytics) (3.3.2)\n",
            "Requirement already satisfied: idna<4,>=2.5 in /usr/local/lib/python3.10/dist-packages (from requests>=2.23.0->ultralytics) (3.7)\n",
            "Requirement already satisfied: urllib3<3,>=1.21.1 in /usr/local/lib/python3.10/dist-packages (from requests>=2.23.0->ultralytics) (2.0.7)\n",
            "Requirement already satisfied: certifi>=2017.4.17 in /usr/local/lib/python3.10/dist-packages (from requests>=2.23.0->ultralytics) (2024.7.4)\n",
            "Requirement already satisfied: filelock in /usr/local/lib/python3.10/dist-packages (from torch>=1.8.0->ultralytics) (3.15.4)\n",
            "Requirement already satisfied: typing-extensions>=4.8.0 in /usr/local/lib/python3.10/dist-packages (from torch>=1.8.0->ultralytics) (4.12.2)\n",
            "Requirement already satisfied: sympy in /usr/local/lib/python3.10/dist-packages (from torch>=1.8.0->ultralytics) (1.13.1)\n",
            "Requirement already satisfied: networkx in /usr/local/lib/python3.10/dist-packages (from torch>=1.8.0->ultralytics) (3.3)\n",
            "Requirement already satisfied: jinja2 in /usr/local/lib/python3.10/dist-packages (from torch>=1.8.0->ultralytics) (3.1.4)\n",
            "Requirement already satisfied: fsspec in /usr/local/lib/python3.10/dist-packages (from torch>=1.8.0->ultralytics) (2024.6.1)\n",
            "Collecting nvidia-cuda-nvrtc-cu12==12.1.105 (from torch>=1.8.0->ultralytics)\n",
            "  Using cached nvidia_cuda_nvrtc_cu12-12.1.105-py3-none-manylinux1_x86_64.whl.metadata (1.5 kB)\n",
            "Collecting nvidia-cuda-runtime-cu12==12.1.105 (from torch>=1.8.0->ultralytics)\n",
            "  Using cached nvidia_cuda_runtime_cu12-12.1.105-py3-none-manylinux1_x86_64.whl.metadata (1.5 kB)\n",
            "Collecting nvidia-cuda-cupti-cu12==12.1.105 (from torch>=1.8.0->ultralytics)\n",
            "  Using cached nvidia_cuda_cupti_cu12-12.1.105-py3-none-manylinux1_x86_64.whl.metadata (1.6 kB)\n",
            "Collecting nvidia-cudnn-cu12==8.9.2.26 (from torch>=1.8.0->ultralytics)\n",
            "  Using cached nvidia_cudnn_cu12-8.9.2.26-py3-none-manylinux1_x86_64.whl.metadata (1.6 kB)\n",
            "Collecting nvidia-cublas-cu12==12.1.3.1 (from torch>=1.8.0->ultralytics)\n",
            "  Using cached nvidia_cublas_cu12-12.1.3.1-py3-none-manylinux1_x86_64.whl.metadata (1.5 kB)\n",
            "Collecting nvidia-cufft-cu12==11.0.2.54 (from torch>=1.8.0->ultralytics)\n",
            "  Using cached nvidia_cufft_cu12-11.0.2.54-py3-none-manylinux1_x86_64.whl.metadata (1.5 kB)\n",
            "Collecting nvidia-curand-cu12==10.3.2.106 (from torch>=1.8.0->ultralytics)\n",
            "  Using cached nvidia_curand_cu12-10.3.2.106-py3-none-manylinux1_x86_64.whl.metadata (1.5 kB)\n",
            "Collecting nvidia-cusolver-cu12==11.4.5.107 (from torch>=1.8.0->ultralytics)\n",
            "  Using cached nvidia_cusolver_cu12-11.4.5.107-py3-none-manylinux1_x86_64.whl.metadata (1.6 kB)\n",
            "Collecting nvidia-cusparse-cu12==12.1.0.106 (from torch>=1.8.0->ultralytics)\n",
            "  Using cached nvidia_cusparse_cu12-12.1.0.106-py3-none-manylinux1_x86_64.whl.metadata (1.6 kB)\n",
            "Collecting nvidia-nccl-cu12==2.20.5 (from torch>=1.8.0->ultralytics)\n",
            "  Using cached nvidia_nccl_cu12-2.20.5-py3-none-manylinux2014_x86_64.whl.metadata (1.8 kB)\n",
            "Collecting nvidia-nvtx-cu12==12.1.105 (from torch>=1.8.0->ultralytics)\n",
            "  Using cached nvidia_nvtx_cu12-12.1.105-py3-none-manylinux1_x86_64.whl.metadata (1.7 kB)\n",
            "Requirement already satisfied: triton==2.3.1 in /usr/local/lib/python3.10/dist-packages (from torch>=1.8.0->ultralytics) (2.3.1)\n",
            "Collecting nvidia-nvjitlink-cu12 (from nvidia-cusolver-cu12==11.4.5.107->torch>=1.8.0->ultralytics)\n",
            "  Using cached nvidia_nvjitlink_cu12-12.6.20-py3-none-manylinux2014_x86_64.whl.metadata (1.5 kB)\n",
            "Requirement already satisfied: six>=1.5 in /usr/local/lib/python3.10/dist-packages (from python-dateutil>=2.7->matplotlib>=3.3.0->ultralytics) (1.16.0)\n",
            "Requirement already satisfied: MarkupSafe>=2.0 in /usr/local/lib/python3.10/dist-packages (from jinja2->torch>=1.8.0->ultralytics) (2.1.5)\n",
            "Requirement already satisfied: mpmath<1.4,>=1.1.0 in /usr/local/lib/python3.10/dist-packages (from sympy->torch>=1.8.0->ultralytics) (1.3.0)\n",
            "Downloading ultralytics-8.2.78-py3-none-any.whl (869 kB)\n",
            "\u001b[2K   \u001b[90m━━━━━━━━━━━━━━━━━━━━━━━━━━━━━━━━━━━━━━━━\u001b[0m \u001b[32m869.0/869.0 kB\u001b[0m \u001b[31m23.5 MB/s\u001b[0m eta \u001b[36m0:00:00\u001b[0m\n",
            "\u001b[?25hUsing cached nvidia_cublas_cu12-12.1.3.1-py3-none-manylinux1_x86_64.whl (410.6 MB)\n",
            "Using cached nvidia_cuda_cupti_cu12-12.1.105-py3-none-manylinux1_x86_64.whl (14.1 MB)\n",
            "Using cached nvidia_cuda_nvrtc_cu12-12.1.105-py3-none-manylinux1_x86_64.whl (23.7 MB)\n",
            "Using cached nvidia_cuda_runtime_cu12-12.1.105-py3-none-manylinux1_x86_64.whl (823 kB)\n",
            "Using cached nvidia_cudnn_cu12-8.9.2.26-py3-none-manylinux1_x86_64.whl (731.7 MB)\n",
            "Using cached nvidia_cufft_cu12-11.0.2.54-py3-none-manylinux1_x86_64.whl (121.6 MB)\n",
            "Using cached nvidia_curand_cu12-10.3.2.106-py3-none-manylinux1_x86_64.whl (56.5 MB)\n",
            "Using cached nvidia_cusolver_cu12-11.4.5.107-py3-none-manylinux1_x86_64.whl (124.2 MB)\n",
            "Using cached nvidia_cusparse_cu12-12.1.0.106-py3-none-manylinux1_x86_64.whl (196.0 MB)\n",
            "Using cached nvidia_nccl_cu12-2.20.5-py3-none-manylinux2014_x86_64.whl (176.2 MB)\n",
            "Using cached nvidia_nvtx_cu12-12.1.105-py3-none-manylinux1_x86_64.whl (99 kB)\n",
            "Downloading ultralytics_thop-2.0.0-py3-none-any.whl (25 kB)\n",
            "Using cached nvidia_nvjitlink_cu12-12.6.20-py3-none-manylinux2014_x86_64.whl (19.7 MB)\n",
            "Installing collected packages: nvidia-nvtx-cu12, nvidia-nvjitlink-cu12, nvidia-nccl-cu12, nvidia-curand-cu12, nvidia-cufft-cu12, nvidia-cuda-runtime-cu12, nvidia-cuda-nvrtc-cu12, nvidia-cuda-cupti-cu12, nvidia-cublas-cu12, nvidia-cusparse-cu12, nvidia-cudnn-cu12, nvidia-cusolver-cu12, ultralytics-thop, ultralytics\n",
            "Successfully installed nvidia-cublas-cu12-12.1.3.1 nvidia-cuda-cupti-cu12-12.1.105 nvidia-cuda-nvrtc-cu12-12.1.105 nvidia-cuda-runtime-cu12-12.1.105 nvidia-cudnn-cu12-8.9.2.26 nvidia-cufft-cu12-11.0.2.54 nvidia-curand-cu12-10.3.2.106 nvidia-cusolver-cu12-11.4.5.107 nvidia-cusparse-cu12-12.1.0.106 nvidia-nccl-cu12-2.20.5 nvidia-nvjitlink-cu12-12.6.20 nvidia-nvtx-cu12-12.1.105 ultralytics-8.2.78 ultralytics-thop-2.0.0\n"
          ]
        }
      ],
      "source": [
        "!pip install ultralytics"
      ]
    },
    {
      "cell_type": "code",
      "source": [
        "!unzip \"/content/License Plates.v3-original-license-plates.yolov9.zip\""
      ],
      "metadata": {
        "colab": {
          "base_uri": "https://localhost:8080/"
        },
        "id": "dXbc76PyBqsZ",
        "outputId": "2443ab80-0c2e-48eb-b710-57738237a917"
      },
      "execution_count": 2,
      "outputs": [
        {
          "output_type": "stream",
          "name": "stdout",
          "text": [
            "Archive:  /content/License Plates.v3-original-license-plates.yolov9.zip\n",
            " extracting: README.dataset.txt      \n",
            " extracting: README.roboflow.txt     \n",
            " extracting: data.yaml               \n",
            "   creating: test/\n",
            "   creating: test/images/\n",
            " extracting: test/images/b15d6c0bdf90226d_jpg.rf.775557ba6aaf7d76a8d4bb04f66d8fc5.jpg  \n",
            " extracting: test/images/b193070a9c45b5ab_jpg.rf.57e5987eb896a7bf9fc7a1a96a660c7e.jpg  \n",
            " extracting: test/images/b1a50a3824887ee2_jpg.rf.68a4fd34fce20184287592f2680f895b.jpg  \n",
            " extracting: test/images/b25d7d2cb7abf86b_jpg.rf.36edce738b0e69965e001035d6f85ab3.jpg  \n",
            " extracting: test/images/b32671b7cc279583_jpg.rf.f898026e2169a3b6adc4d21aee6d06c5.jpg  \n",
            " extracting: test/images/b3b61da98e22cd4a_jpg.rf.e5f31065702d60c5746652895714f770.jpg  \n",
            " extracting: test/images/b5e7183b6a5abe6c_jpg.rf.fa89af80aebfc925bb0121ab5b024260.jpg  \n",
            " extracting: test/images/b6580dec5ada277d_jpg.rf.3ec17c0d68df1e6818d590e410bc3d00.jpg  \n",
            " extracting: test/images/b6e55f97085c3732_jpg.rf.09a6d8dc1a08e66131bdb8b57377b05b.jpg  \n",
            " extracting: test/images/b6ecda23586a6ba5_jpg.rf.d737139968dd3f08447305aa7b7f6002.jpg  \n",
            " extracting: test/images/b7cdb5c0c99002b7_jpg.rf.2c46810fbf4036039cb03a135e20e9c3.jpg  \n",
            " extracting: test/images/b8a3f2ea385e45b3_jpg.rf.1b19b61606bd9199fa0f774c35cf8986.jpg  \n",
            " extracting: test/images/b91c3aaba25bf914_jpg.rf.1f03184f0c412a59b83c4099861cedcf.jpg  \n",
            " extracting: test/images/b94993a2d67b455e_jpg.rf.62712d980344cb842644f82e63b13092.jpg  \n",
            " extracting: test/images/b9f5b9acf1777acf_jpg.rf.b92969d5c3738ece6a84dcd2d0ea3ce0.jpg  \n",
            " extracting: test/images/bbcac63e32bd8137_jpg.rf.ef4704b0ada4fbbf613143abf52f6f86.jpg  \n",
            " extracting: test/images/bd12ea92bcab1afd_jpg.rf.fe51aa4c3da615ae6656ea88fc7250e3.jpg  \n",
            " extracting: test/images/be654a7eabe0e891_jpg.rf.5e43d4106641423a278d096d24822902.jpg  \n",
            " extracting: test/images/be9fd0014b5a4f2a_jpg.rf.20dc7369d0a83ad74a123727228dce11.jpg  \n",
            " extracting: test/images/bf0aac0878b0a3d2_jpg.rf.43ce523ba85e649db07055557d72cc9e.jpg  \n",
            " extracting: test/images/bf2f25f3ed9ff4d5_jpg.rf.e9d07ec8b85372d40366bc2770b7d537.jpg  \n",
            " extracting: test/images/c1d8b110186e095a_jpg.rf.1515701021c709417f9e92537a1d3714.jpg  \n",
            " extracting: test/images/c274e026ac907eb9_jpg.rf.2388de7229ba0dd3051326f64c1a770b.jpg  \n",
            " extracting: test/images/c650ff8d3e8e75b3_jpg.rf.a469a8f0edb8fddf8e2b70b102f5a5eb.jpg  \n",
            " extracting: test/images/c7df5232291486a3_jpg.rf.d18b52a383576cfe6c4ec343fca07a80.jpg  \n",
            " extracting: test/images/c91ee912164d8ecb_jpg.rf.5a70d8b40bde25a3a4cb09337bf0c6f9.jpg  \n",
            " extracting: test/images/cb4b754537798d23_jpg.rf.310e3c4544bf89d2f3109956b301db20.jpg  \n",
            " extracting: test/images/cb8c75fc1c7ccf73_jpg.rf.a6d315cf4a3ef0824075df8c8561838b.jpg  \n",
            " extracting: test/images/ccc1a2d44a290368_jpg.rf.8e8d6f87f1d1327caf5f80e0c96cdad9.jpg  \n",
            " extracting: test/images/cdb1e8621d1c624e_jpg.rf.b744b93a7af0771f1e5cb955155c8451.jpg  \n",
            " extracting: test/images/ce97f7bc90e97109_jpg.rf.0ee971ca2acc7c8826290a5a80153777.jpg  \n",
            " extracting: test/images/d027c6e32db60e3c_jpg.rf.15a865d02f390ef84fca8e053946db31.jpg  \n",
            " extracting: test/images/d27e094e98374ff8_jpg.rf.a0e0eba539117b97eb6433295c4cfb44.jpg  \n",
            " extracting: test/images/d28d71c2690c16ed_jpg.rf.b7c4b2a5e5870d9fcf8644c109c5457f.jpg  \n",
            " extracting: test/images/d2fe2b47668e9d8e_jpg.rf.c3c019d146ec1fc0bcf7fbeb12c7bc7f.jpg  \n",
            "   creating: test/labels/\n",
            " extracting: test/labels/b15d6c0bdf90226d_jpg.rf.775557ba6aaf7d76a8d4bb04f66d8fc5.txt  \n",
            " extracting: test/labels/b193070a9c45b5ab_jpg.rf.57e5987eb896a7bf9fc7a1a96a660c7e.txt  \n",
            " extracting: test/labels/b1a50a3824887ee2_jpg.rf.68a4fd34fce20184287592f2680f895b.txt  \n",
            " extracting: test/labels/b25d7d2cb7abf86b_jpg.rf.36edce738b0e69965e001035d6f85ab3.txt  \n",
            " extracting: test/labels/b32671b7cc279583_jpg.rf.f898026e2169a3b6adc4d21aee6d06c5.txt  \n",
            " extracting: test/labels/b3b61da98e22cd4a_jpg.rf.e5f31065702d60c5746652895714f770.txt  \n",
            " extracting: test/labels/b5e7183b6a5abe6c_jpg.rf.fa89af80aebfc925bb0121ab5b024260.txt  \n",
            " extracting: test/labels/b6580dec5ada277d_jpg.rf.3ec17c0d68df1e6818d590e410bc3d00.txt  \n",
            " extracting: test/labels/b6e55f97085c3732_jpg.rf.09a6d8dc1a08e66131bdb8b57377b05b.txt  \n",
            " extracting: test/labels/b6ecda23586a6ba5_jpg.rf.d737139968dd3f08447305aa7b7f6002.txt  \n",
            " extracting: test/labels/b7cdb5c0c99002b7_jpg.rf.2c46810fbf4036039cb03a135e20e9c3.txt  \n",
            " extracting: test/labels/b8a3f2ea385e45b3_jpg.rf.1b19b61606bd9199fa0f774c35cf8986.txt  \n",
            " extracting: test/labels/b91c3aaba25bf914_jpg.rf.1f03184f0c412a59b83c4099861cedcf.txt  \n",
            " extracting: test/labels/b94993a2d67b455e_jpg.rf.62712d980344cb842644f82e63b13092.txt  \n",
            " extracting: test/labels/b9f5b9acf1777acf_jpg.rf.b92969d5c3738ece6a84dcd2d0ea3ce0.txt  \n",
            " extracting: test/labels/bbcac63e32bd8137_jpg.rf.ef4704b0ada4fbbf613143abf52f6f86.txt  \n",
            " extracting: test/labels/bd12ea92bcab1afd_jpg.rf.fe51aa4c3da615ae6656ea88fc7250e3.txt  \n",
            " extracting: test/labels/be654a7eabe0e891_jpg.rf.5e43d4106641423a278d096d24822902.txt  \n",
            " extracting: test/labels/be9fd0014b5a4f2a_jpg.rf.20dc7369d0a83ad74a123727228dce11.txt  \n",
            " extracting: test/labels/bf0aac0878b0a3d2_jpg.rf.43ce523ba85e649db07055557d72cc9e.txt  \n",
            " extracting: test/labels/bf2f25f3ed9ff4d5_jpg.rf.e9d07ec8b85372d40366bc2770b7d537.txt  \n",
            " extracting: test/labels/c1d8b110186e095a_jpg.rf.1515701021c709417f9e92537a1d3714.txt  \n",
            " extracting: test/labels/c274e026ac907eb9_jpg.rf.2388de7229ba0dd3051326f64c1a770b.txt  \n",
            " extracting: test/labels/c650ff8d3e8e75b3_jpg.rf.a469a8f0edb8fddf8e2b70b102f5a5eb.txt  \n",
            " extracting: test/labels/c7df5232291486a3_jpg.rf.d18b52a383576cfe6c4ec343fca07a80.txt  \n",
            " extracting: test/labels/c91ee912164d8ecb_jpg.rf.5a70d8b40bde25a3a4cb09337bf0c6f9.txt  \n",
            " extracting: test/labels/cb4b754537798d23_jpg.rf.310e3c4544bf89d2f3109956b301db20.txt  \n",
            " extracting: test/labels/cb8c75fc1c7ccf73_jpg.rf.a6d315cf4a3ef0824075df8c8561838b.txt  \n",
            " extracting: test/labels/ccc1a2d44a290368_jpg.rf.8e8d6f87f1d1327caf5f80e0c96cdad9.txt  \n",
            " extracting: test/labels/cdb1e8621d1c624e_jpg.rf.b744b93a7af0771f1e5cb955155c8451.txt  \n",
            " extracting: test/labels/ce97f7bc90e97109_jpg.rf.0ee971ca2acc7c8826290a5a80153777.txt  \n",
            " extracting: test/labels/d027c6e32db60e3c_jpg.rf.15a865d02f390ef84fca8e053946db31.txt  \n",
            " extracting: test/labels/d27e094e98374ff8_jpg.rf.a0e0eba539117b97eb6433295c4cfb44.txt  \n",
            " extracting: test/labels/d28d71c2690c16ed_jpg.rf.b7c4b2a5e5870d9fcf8644c109c5457f.txt  \n",
            " extracting: test/labels/d2fe2b47668e9d8e_jpg.rf.c3c019d146ec1fc0bcf7fbeb12c7bc7f.txt  \n",
            "   creating: train/\n",
            "   creating: train/images/\n",
            " extracting: train/images/003a5aaf6d17c917_jpg.rf.60e9d14047fc5cd445db13a7bb7264d4.jpg  \n",
            " extracting: train/images/00723dac8201a83e_jpg.rf.d9a3c0ebd7bf1f3382b17ac4fb609474.jpg  \n",
            " extracting: train/images/008637722500f239_jpg.rf.ba1b8c4fa65629e6fa77040edbec4a87.jpg  \n",
            " extracting: train/images/0170ea8e1a33375a_jpg.rf.cf0bc32e208fca4f66def753277ff9e0.jpg  \n",
            " extracting: train/images/017527da8bfeb97d_jpg.rf.17672ad4e825cf9ef7ec613f6be6347e.jpg  \n",
            " extracting: train/images/02a6ef3d9bd68e91_jpg.rf.f6172d85f89f248839c13f938daf08f1.jpg  \n",
            " extracting: train/images/03b7b71e1ffcb7a8_jpg.rf.73fadea76a5c1ed0c8638d5ba36979ec.jpg  \n",
            " extracting: train/images/044417ca6134604f_jpg.rf.ed7aa69d470a19404ab882bf24cf27fd.jpg  \n",
            " extracting: train/images/057569768fd6303e_jpg.rf.3e38991d0e4c36542cc100f55c38b78e.jpg  \n",
            " extracting: train/images/064a8def3049d040_jpg.rf.90625fa7457d5b6a2ed8d1981c370f07.jpg  \n",
            " extracting: train/images/0673b967f8c68eec_jpg.rf.4faffea417c05ccc1ee9698260279192.jpg  \n",
            " extracting: train/images/06b024413ad385a7_jpg.rf.31adef3948b22c2f24716638c98e543b.jpg  \n",
            " extracting: train/images/0727983dd5f9e4e6_jpg.rf.8c94837c18980170b58739110124bac8.jpg  \n",
            " extracting: train/images/0787b0fa95f545a5_jpg.rf.5918f5ea12fee9653f005937787e7cd2.jpg  \n",
            " extracting: train/images/0801961485534636_jpg.rf.6a30289a294b84db92e68e901cefb15e.jpg  \n",
            " extracting: train/images/081f5a6bc61b9c48_jpg.rf.49240c093b301a8a596f1212de40d56e.jpg  \n",
            " extracting: train/images/08481c03daf6f35d_jpg.rf.227b7230a71039b5f5a5b6803aa1e22c.jpg  \n",
            " extracting: train/images/091c033b2a7df15b_jpg.rf.40e8c5f73ca1cdb7cd643d110312847b.jpg  \n",
            " extracting: train/images/09453a7c716a9ef3_jpg.rf.5776237b99f425a57da152b3a1adecc3.jpg  \n",
            " extracting: train/images/0c756c9366a8cb10_jpg.rf.5448d5081af4eddc034b35111e17a035.jpg  \n",
            " extracting: train/images/0cacb08195a3e2d7_jpg.rf.c476bb424132c7c128aff2715b9016e8.jpg  \n",
            " extracting: train/images/0d6ca8553971fefd_jpg.rf.4bd76ae57d750580089a25e947c1d8d5.jpg  \n",
            " extracting: train/images/0e50ea14c4fc1353_jpg.rf.af1e1459644dca272075519bbb44bed1.jpg  \n",
            " extracting: train/images/0ee91c4938b6e7ee_jpg.rf.fee1f92dd461febca82abd99efd9a362.jpg  \n",
            " extracting: train/images/0f0596b1c511e071_jpg.rf.815f845f246014dbc136b0522c7e5c46.jpg  \n",
            " extracting: train/images/0f4bfc46402a9f52_jpg.rf.408104f7cd2af92e7076cdb6e8102861.jpg  \n",
            " extracting: train/images/0fbd1b85fc01d2ae_jpg.rf.fe227b3fd4422d42c57f875929dce42c.jpg  \n",
            " extracting: train/images/1071b237587a698b_jpg.rf.bcd0aa0b1744a53862781d3e777753e2.jpg  \n",
            " extracting: train/images/11b155ab5b3331cf_jpg.rf.337311fe1741878589b3954bee0547f5.jpg  \n",
            " extracting: train/images/11f80fda2c38011c_jpg.rf.46f9e991992916fd43ee643794a15634.jpg  \n",
            " extracting: train/images/125622a2508e3b1d_jpg.rf.54dfdcb44977cd21fe102c79e2af2014.jpg  \n",
            " extracting: train/images/128a59bca025bed6_jpg.rf.53f85602d60bdfd64057a8987fd20456.jpg  \n",
            " extracting: train/images/12b7ea40074d3b20_jpg.rf.1d9f76176d57b1dfce50f79ed0082b87.jpg  \n",
            " extracting: train/images/12d3b6665f7e1cf6_jpg.rf.55b98df77fa4f2a3c9b773ec28593a99.jpg  \n",
            " extracting: train/images/140e8d10ff02e7e7_jpg.rf.4d75a1fb3e22c9901df909c9c4e7b62d.jpg  \n",
            " extracting: train/images/1545c73bdecb3e2f_jpg.rf.8e1564eaf230480319dc4101f4452d61.jpg  \n",
            " extracting: train/images/15a51e29f5ceffd8_jpg.rf.b7fbeeef929ab35ccc982de040787e4a.jpg  \n",
            " extracting: train/images/16789af24af158d8_jpg.rf.fc736339c7e162dd985aca4b4dbc827c.jpg  \n",
            " extracting: train/images/16c15b29b30148c2_jpg.rf.2f2dd33f4c36d5984bac383e9c9c2972.jpg  \n",
            " extracting: train/images/17585ef2efb5ef9b_jpg.rf.48aabb44e83473e79e289879d41f2fe1.jpg  \n",
            " extracting: train/images/18098dc9ee6aad80_jpg.rf.78b900dcb3a8fdc95c0566f08f8657ac.jpg  \n",
            " extracting: train/images/182268e1f8c6525f_jpg.rf.9fc08ed4e7919ff159c56a86f16a6aa7.jpg  \n",
            " extracting: train/images/185d5dfa193c4ced_jpg.rf.9cdd189acc892f114ce63a76457ffd73.jpg  \n",
            " extracting: train/images/185fd6653258d3ed_jpg.rf.4fc8daf7d5edd887812b41e5abb28373.jpg  \n",
            " extracting: train/images/19eba8ac64eed194_jpg.rf.20bd6b9a33aa4534c8e62a5f61ee41af.jpg  \n",
            " extracting: train/images/19ff847d0cd1c5ec_jpg.rf.cb12b9c6bd8b9dacb3640fa83c2cdca2.jpg  \n",
            " extracting: train/images/1a3e9d87d733ff7f_jpg.rf.ba1b45c533408790cfb186090a5bd673.jpg  \n",
            " extracting: train/images/1ca1155083156d72_jpg.rf.f69458ccf7481ccdd8833b28b4a83f7a.jpg  \n",
            " extracting: train/images/1db3793d7c84faa1_jpg.rf.cecec81b21ef77ef9194e0761437fa62.jpg  \n",
            " extracting: train/images/1e6e75488d7878aa_jpg.rf.2675fb5270fce9c1aa1b1ea02f0f6b12.jpg  \n",
            " extracting: train/images/1ead26febde18ce9_jpg.rf.8d4edb2d9b2cbd16add0b5473d70930e.jpg  \n",
            " extracting: train/images/1eb2ebab9cd7adf6_jpg.rf.39854bfdfc1184d20ae4aac31229ac4f.jpg  \n",
            " extracting: train/images/1edfbe8c28a86caf_jpg.rf.1dd07633abdf8f17e32a3d1aa530a454.jpg  \n",
            " extracting: train/images/1f0e643b125f00ec_jpg.rf.e24a4bdd168a8b7bc4da455a76e103b1.jpg  \n",
            " extracting: train/images/1f1d5bc31e444cc1_jpg.rf.f48852eee96aafdff1d90bb9f3e5f27c.jpg  \n",
            " extracting: train/images/1f34454c4c073e1b_jpg.rf.51b3784a16f91c427d67f4972ed26c39.jpg  \n",
            " extracting: train/images/228bd52bbe043677_jpg.rf.6ad711db0f4e140e223c20f4a024a92c.jpg  \n",
            " extracting: train/images/23c2c79a9febbf3e_jpg.rf.b25deda249c3ead5d9305237cd03f8bb.jpg  \n",
            " extracting: train/images/246a0e4264a39433_jpg.rf.c7b49864a35b789817e56971401cb8a6.jpg  \n",
            " extracting: train/images/25d5c2fbd8b99662_jpg.rf.161b81359c98dba156768154d68ad57a.jpg  \n",
            " extracting: train/images/26183d88c4f8012f_jpg.rf.b9d1ec7045a2a9131859b0b18c8d203e.jpg  \n",
            " extracting: train/images/2619ec27a314e69c_jpg.rf.0d1598cec705deb61d2274477036771f.jpg  \n",
            " extracting: train/images/2753536137929411_jpg.rf.465d4a26af196ed442beff2c3857d81e.jpg  \n",
            " extracting: train/images/27798906120ea394_jpg.rf.c89a5445810fcb7ae742548327364234.jpg  \n",
            " extracting: train/images/288a95c01e43cd14_jpg.rf.2317f3638256e47c39e6f64d50c4fa47.jpg  \n",
            " extracting: train/images/28bd6c6b1050e055_jpg.rf.4f139b7736ed163fe5f362bb412f0209.jpg  \n",
            " extracting: train/images/28e26a4eb646c67a_jpg.rf.ebc297ef09ec5a7f8dcb0d0989d793ad.jpg  \n",
            " extracting: train/images/2956bcbedfc167b6_jpg.rf.364ddd3b803dfc2c2680bd5cf12dce1c.jpg  \n",
            " extracting: train/images/299f0363ae21d1c3_jpg.rf.5bfac70601a5bc5ad1e57f96a4b14b77.jpg  \n",
            " extracting: train/images/29f7991e696e6e3f_jpg.rf.2c4c1f752b2f0b3f446eb9d16983df5a.jpg  \n",
            " extracting: train/images/2a3e44107826e876_jpg.rf.a81310fb9b5e4656c8bad4af68958d5a.jpg  \n",
            " extracting: train/images/2adddd0b09bb0f17_jpg.rf.fe13745361c1126ce4fb283ff48380c0.jpg  \n",
            " extracting: train/images/2b97f5bf137ee8d1_jpg.rf.35201e41c2fa53a6d61c66417c17ea7f.jpg  \n",
            " extracting: train/images/2bd26c63ebf598b7_jpg.rf.e7aa2dc7e2a75ad66d167482a105558b.jpg  \n",
            " extracting: train/images/2c09fab0221652c5_jpg.rf.c43866861098c55fd261403806f6041e.jpg  \n",
            " extracting: train/images/2d40d6e377c82ec9_jpg.rf.28e8161f6c504b302c1a50f27dd59e45.jpg  \n",
            " extracting: train/images/2d6640fb230770fd_jpg.rf.c61f1b3533c7d1f81f55ef17c74de8b4.jpg  \n",
            " extracting: train/images/2e8a83cfb1afe7ba_jpg.rf.8ce8069b705d20adcd2ef9f147d3fc25.jpg  \n",
            " extracting: train/images/2e95d7a799e23e11_jpg.rf.871ccc4fc83b814cf2b75d6be4294c7c.jpg  \n",
            " extracting: train/images/2f3887024d298547_jpg.rf.960facd047ab9b5b06dc78aebb995cc6.jpg  \n",
            " extracting: train/images/2f90aaa72744452d_jpg.rf.0e17c4efd3453d01e55c27ab451054f3.jpg  \n",
            " extracting: train/images/2fe1f00b77a110a0_jpg.rf.212176020f6182f5999a3a839e194fa3.jpg  \n",
            " extracting: train/images/302d636c896c263f_jpg.rf.d64928a4b88a0aaf74b75c74308f1eae.jpg  \n",
            " extracting: train/images/30b6cfb60bf44533_jpg.rf.fbc07d315feb804c56614187c2c35784.jpg  \n",
            " extracting: train/images/315aead7766727b8_jpg.rf.7068a7942b48cb749f1012c83be82822.jpg  \n",
            " extracting: train/images/321ffb38656f7311_jpg.rf.cb821b1d26396bcec3659fade1554f50.jpg  \n",
            " extracting: train/images/3241f09a8964ddfb_jpg.rf.48b943cc08d0bae515a4fb8df9a30e7a.jpg  \n",
            " extracting: train/images/326c3286bcb5b2b0_jpg.rf.4226352a687f0e2c245f33d90ce7340b.jpg  \n",
            " extracting: train/images/334f31e809ec9a77_jpg.rf.792f706c95fcd893ad449ca9ece06e6b.jpg  \n",
            " extracting: train/images/33e0333ff031c4fb_jpg.rf.ca039e5ff2fb0f38d8febfb218a10187.jpg  \n",
            " extracting: train/images/343326e127297379_jpg.rf.881dc6b24cd6b354295df65f3f4914d0.jpg  \n",
            " extracting: train/images/35875c388efcddf0_jpg.rf.2e4bfdef8ff7d2c5a6ace544622b8dce.jpg  \n",
            " extracting: train/images/36d7b8b3cca3b0f5_jpg.rf.88cbef001e85fc6ff058ecdfa68f258c.jpg  \n",
            " extracting: train/images/37ff77d13a54aac2_jpg.rf.9067ae4e51914e97340679f7da4761e7.jpg  \n",
            " extracting: train/images/39c193bcc0c00f9e_jpg.rf.781a5ff666724fcd66548b039c467617.jpg  \n",
            " extracting: train/images/3d98e3713783e82d_jpg.rf.2b09c12e7a3230ae02ba57e52fec82f2.jpg  \n",
            " extracting: train/images/3e156de979eb0828_jpg.rf.a769843005b0a65849c1293762618561.jpg  \n",
            " extracting: train/images/3e2306f2cf4b2c67_jpg.rf.0ecdd619e71bd71e2b12f742672c5229.jpg  \n",
            " extracting: train/images/3ecd5af7c4f11963_jpg.rf.a5b5b9de5c3a8e7ee286add86d4ffb84.jpg  \n",
            " extracting: train/images/3ed000628c6a0587_jpg.rf.ee04a5eaab345281520634902816a9bb.jpg  \n",
            " extracting: train/images/3feecc5809a29627_jpg.rf.4ca7d27a3985622ef8b265bf7bbcd39c.jpg  \n",
            " extracting: train/images/4148b2126f0986a4_jpg.rf.7b070a1be82b860bec503b46c8d60895.jpg  \n",
            " extracting: train/images/415d64bf8cfe82f2_jpg.rf.a5807ed8f33a1a8c33926249f0c4cd70.jpg  \n",
            " extracting: train/images/428a5131c8cff7da_jpg.rf.605747487689d2b3195531eee0aa91e2.jpg  \n",
            " extracting: train/images/43339d9cbca470e4_jpg.rf.2092d252b23417fbd449789aa17aea91.jpg  \n",
            " extracting: train/images/43b1b0028dd2db8d_jpg.rf.163eebe0fa7241a2fa3fe53c59813adf.jpg  \n",
            " extracting: train/images/44afab29f5fa0abf_jpg.rf.189fa2c400a597627c68eb9a0d010e8b.jpg  \n",
            " extracting: train/images/460753acbd6e6dad_jpg.rf.1837e1f26757e554951ae5e0a65aa2b4.jpg  \n",
            " extracting: train/images/46a7991da6461831_jpg.rf.3b1f3b3c75ea936ef74a52b0c71aa89e.jpg  \n",
            " extracting: train/images/4793138df3c05610_jpg.rf.972e072f212d074b837a92141438cd97.jpg  \n",
            " extracting: train/images/485e5f37dd13ffab_jpg.rf.b37feba1bce7e1ebf78258013aa553e8.jpg  \n",
            " extracting: train/images/488722909dd9c0ac_jpg.rf.bb9d52abec20804520e1e3e5055a0bf5.jpg  \n",
            " extracting: train/images/49595029959689b7_jpg.rf.8c8035268f7f715b849ad01988a4152b.jpg  \n",
            " extracting: train/images/4b3aba5dfb7a0492_jpg.rf.c3c61189479caf4a4fe01f7e671dac56.jpg  \n",
            " extracting: train/images/4c04b488ddc48225_jpg.rf.a63b3e99374c3f3079498faf390ef77b.jpg  \n",
            " extracting: train/images/4cb48c8bf41b70a4_jpg.rf.1a2d8feecb685c397886de880db57c5d.jpg  \n",
            " extracting: train/images/4df1448703257ff0_jpg.rf.eab3701cdae0218bfee38fe737fbf553.jpg  \n",
            " extracting: train/images/4e2cb95b9c509b10_jpg.rf.d177639b266e4251c585929be0e93e16.jpg  \n",
            " extracting: train/images/4e593c88022ff6b1_jpg.rf.b6761e5b6e9a54de7368c75df91714e5.jpg  \n",
            " extracting: train/images/4ee3f0e9a2fb20a9_jpg.rf.42e5d0ba82f281e92ede5f34c1d13f3e.jpg  \n",
            " extracting: train/images/4fa24c1abe969cb7_jpg.rf.448070d70a410db1573fe2482dc8e1f3.jpg  \n",
            " extracting: train/images/4ff8bebd6d6a0361_jpg.rf.4292650a6004e752add372b8c8b59e91.jpg  \n",
            " extracting: train/images/5021041c726b6ee4_jpg.rf.3e879ba8155ca73e1ae584acc52ce60d.jpg  \n",
            " extracting: train/images/50631041f74001aa_jpg.rf.86535271a5bf51fb4ed1535b47488a0e.jpg  \n",
            " extracting: train/images/50c37aeaf19acd5b_jpg.rf.6a6a60ed65b0f96558ecd406377ef6c9.jpg  \n",
            " extracting: train/images/5290f4027491d09b_jpg.rf.3f3b30829f571d5321712f126e797f07.jpg  \n",
            " extracting: train/images/53386dae3cf13cc3_jpg.rf.a9d7fb9d64339bd7dc4426d411e6b667.jpg  \n",
            " extracting: train/images/5373ec295ea62c47_jpg.rf.4c37ba375aae44010abec238c2958a80.jpg  \n",
            " extracting: train/images/53925df03b471f5d_jpg.rf.4a37171cc642509f5596aed76fc4ad9a.jpg  \n",
            " extracting: train/images/53ad98b12752ad16_jpg.rf.9258a099cae4a3a6c3321898f3b4766c.jpg  \n",
            " extracting: train/images/548a8e997a66a0c4_jpg.rf.0139e770d085929090f1bc9a1b969325.jpg  \n",
            " extracting: train/images/54bd93e5a4de808a_jpg.rf.d3e95629c84e58d0676109ec3ca19f76.jpg  \n",
            " extracting: train/images/54ebca2064066a49_jpg.rf.a718edf5920c4ba66db0ead0996d0fc1.jpg  \n",
            " extracting: train/images/5581a1b7d2f0f2b4_jpg.rf.af51de43f942942ee217eaf28521a4bb.jpg  \n",
            " extracting: train/images/5641e6ad7d2600f2_jpg.rf.aef41a174f61796cd3abbde588cd31c8.jpg  \n",
            " extracting: train/images/575d96d014e4fbab_jpg.rf.44ac0961e4e6bfe5faef53681f1f774f.jpg  \n",
            " extracting: train/images/593e594137f374ab_jpg.rf.81dcafde18cc4442d88e438683cbcf7e.jpg  \n",
            " extracting: train/images/5a122adbb1a776b7_jpg.rf.e400aa454d644ea63d6f81365c11d74e.jpg  \n",
            " extracting: train/images/5a3f94aa35766f31_jpg.rf.f259f4cd77838504054fa33a7a8116ef.jpg  \n",
            " extracting: train/images/5a96f5e1f9be8d42_jpg.rf.1e4bf1c059627c1d842115568aec203b.jpg  \n",
            " extracting: train/images/5cc19b450a51ee4c_jpg.rf.72020ac43e4fff7a3e380836ace872d0.jpg  \n",
            " extracting: train/images/5daafbcf76fa6602_jpg.rf.14442dd74aa0e629fe892e73fb65e71f.jpg  \n",
            " extracting: train/images/5df8816356fc2b29_jpg.rf.8b6570bf909e9ad42b82f42c4db06483.jpg  \n",
            " extracting: train/images/5fb888d79b551331_jpg.rf.b5fee649bb7814d73d90fdd22ce129bc.jpg  \n",
            " extracting: train/images/5ff91ccfc6f15d04_jpg.rf.5a4938c97fb03b185fc5566a62266c88.jpg  \n",
            " extracting: train/images/61a69ad713142e45_jpg.rf.788c2385590e08a29253fb003fbcc98d.jpg  \n",
            " extracting: train/images/620bd952592bc0e9_jpg.rf.38c15cb6b6cdfd2810cc6221e45f04ee.jpg  \n",
            " extracting: train/images/621837d55c229864_jpg.rf.fce67724dbce8d9e18ee66ea428c333d.jpg  \n",
            " extracting: train/images/628a23a43f19c4db_jpg.rf.6c065a9352d55fe6451308834531f738.jpg  \n",
            " extracting: train/images/62bb93bbd270dd9a_jpg.rf.dd3a0c825232320775f78cc5bdf443b6.jpg  \n",
            " extracting: train/images/6306fc7f3573eb70_jpg.rf.5d8fa9eef0a6ce20bae6ff3a323efe5a.jpg  \n",
            " extracting: train/images/63d3df798bc8840f_jpg.rf.b3f8f6505f221285a61d9390931055b0.jpg  \n",
            " extracting: train/images/643c3cc1a4e85db2_jpg.rf.2db01eb9959635d88ef16759960038d9.jpg  \n",
            " extracting: train/images/647ff22cf6950211_jpg.rf.2e33af1b9b6ee5f8e0c7044a8eb805a7.jpg  \n",
            " extracting: train/images/64de505bd2bac82b_jpg.rf.9f33368fad743b9bfe748d39a949493e.jpg  \n",
            " extracting: train/images/6504632e0dc25997_jpg.rf.9e46d812fbb564225472ef94851d0d85.jpg  \n",
            " extracting: train/images/659dbf4f8c0fd29d_jpg.rf.0a5d58d700e7266920ed6d9418308f84.jpg  \n",
            " extracting: train/images/65e080f9ac466664_jpg.rf.fae5ecbf7651136ef2463314b3e1c16b.jpg  \n",
            " extracting: train/images/665cac5fd1cc2186_jpg.rf.32764bd596007aa6c4bbfd89e911b1f6.jpg  \n",
            " extracting: train/images/66771a4870c324f9_jpg.rf.7e0e8a08694e661e565a4131de8f9bd1.jpg  \n",
            " extracting: train/images/66be6b583048fa94_jpg.rf.72b80d2d10de42c54a02c6441d4ab0eb.jpg  \n",
            " extracting: train/images/67945cf7a6beccdf_jpg.rf.bfb9fa6162dc1affd39b6fb9ff3cb899.jpg  \n",
            " extracting: train/images/67c834b73882a9f9_jpg.rf.9244beb39fba4d02d40c4524e03e8528.jpg  \n",
            " extracting: train/images/6846c275ded01f85_jpg.rf.c927b24a8935e84fe7071c427d154e43.jpg  \n",
            " extracting: train/images/693acf98575cbe27_jpg.rf.9850e018cf310923df2d29a1800c0f6a.jpg  \n",
            " extracting: train/images/6a0ef049e5ec4b16_jpg.rf.98d8e331aee243bde7dc31bc5f8fd0f4.jpg  \n",
            " extracting: train/images/6aff04e9c32aec0f_jpg.rf.4dc1bc81208b8075bb0cd009c1673409.jpg  \n",
            " extracting: train/images/6c144e47161867c2_jpg.rf.ec2a50f3926a6f39eb4c39fbec843f9f.jpg  \n",
            " extracting: train/images/6e819dc674a74078_jpg.rf.ab8eef002d1ac35ef709ed968ff0d568.jpg  \n",
            " extracting: train/images/6eb18d1ad17cd174_jpg.rf.ef74db2cf0ca9cd341fe1b0ab9a510ad.jpg  \n",
            " extracting: train/images/70e7b5173fe1e289_jpg.rf.ee52c521f328265822a8bbd3ccac8051.jpg  \n",
            " extracting: train/images/71881a9c0f7f0a86_jpg.rf.9ef668aae602f3126b2c84a232ef173b.jpg  \n",
            " extracting: train/images/71dbb47ebe504abe_jpg.rf.c9d8f50a3aef825f849eff7581545c54.jpg  \n",
            " extracting: train/images/724307be418b2ed2_jpg.rf.18376617b09decaf0d49b8f748c8977e.jpg  \n",
            " extracting: train/images/7275e72e1996267f_jpg.rf.783fcc2e29a1935f15dff26a476366ac.jpg  \n",
            " extracting: train/images/73467682c5995b65_jpg.rf.c50f3fdd706c7932c40b0b4ebdb46d87.jpg  \n",
            " extracting: train/images/747b0f12f54703ee_jpg.rf.9cfeb83d4a6b1cf3dd2c4ecd4455a22d.jpg  \n",
            " extracting: train/images/749b4451492fc250_jpg.rf.ce98aad3e8eb5705d412fc643b49c6ac.jpg  \n",
            " extracting: train/images/74ee6d1b58ae2e70_jpg.rf.1bd30d8bd1c71d1656ca9de97251ad27.jpg  \n",
            " extracting: train/images/76e14d05ee8acb6d_jpg.rf.e4c4ee19a7059beb1609a04bf4145c4b.jpg  \n",
            " extracting: train/images/7a1f9520c7ecd5b1_jpg.rf.230911c4289f614e8c90428e64a43de5.jpg  \n",
            " extracting: train/images/7b4e86e1c94d65de_jpg.rf.c9f2c7cca1d2fd9dd2f29ee4264e4eb9.jpg  \n",
            " extracting: train/images/7bcf6b4ec09f1ea7_jpg.rf.cc7174ad530e182914ce764ed5589f06.jpg  \n",
            " extracting: train/images/7cbc7ee444622a66_jpg.rf.c413df997fe7fc1b53477b73be804506.jpg  \n",
            " extracting: train/images/7f56adf4b9306ac9_jpg.rf.9dc9ab3c02db3fe6b64b764724260709.jpg  \n",
            " extracting: train/images/7f9740e95a74f2b9_jpg.rf.1e44a6577ba658d57491a4836bbd3f58.jpg  \n",
            " extracting: train/images/80d21c58a71a0751_jpg.rf.a790b0cb81061f58c17bd18f225c96fd.jpg  \n",
            " extracting: train/images/80e02a518ffe4cb2_jpg.rf.f8e889ac521be67cbdd6cdb84ecdd52d.jpg  \n",
            " extracting: train/images/82b53fe7f9147c96_jpg.rf.42e22dcc3ad6808fd24630b8c8d3a416.jpg  \n",
            " extracting: train/images/844adfe06e003c09_jpg.rf.bfc4c5ed5206fd5b58c831bca3a52256.jpg  \n",
            " extracting: train/images/85f0b4db3eb512ce_jpg.rf.5f776753915463096616a41c6587c07f.jpg  \n",
            " extracting: train/images/86c92b0402fec141_jpg.rf.a35170b73727f3b88b332b02251071d2.jpg  \n",
            " extracting: train/images/87793700161a7a6b_jpg.rf.22eb55ad16b7ad20478d19ee6b3ff877.jpg  \n",
            " extracting: train/images/87b4f1202cd06440_jpg.rf.2ac9ee95057ccf91f52c0e43dfe0de40.jpg  \n",
            " extracting: train/images/88fc866f92860d70_jpg.rf.15f733df4a6ad896778e8f8a196acfc1.jpg  \n",
            " extracting: train/images/894cacdb385fdb6b_jpg.rf.587b44f08db587e1ed7408d5b50b5334.jpg  \n",
            " extracting: train/images/895d440e05b2a8d8_jpg.rf.8730ed5c7eb062a29fce357c2dc3d302.jpg  \n",
            " extracting: train/images/8c63cf76166c3bd7_jpg.rf.e63842fc74bf98e39a233a53024821f3.jpg  \n",
            " extracting: train/images/8cb5553e75d3d311_jpg.rf.e3806d0ad5061051e7cbb6b4d9cd132d.jpg  \n",
            " extracting: train/images/8cca720c410ee7f8_jpg.rf.ca0d7c13ca8a8e78ff4de32fd69e151a.jpg  \n",
            " extracting: train/images/8cdcb833ef1ef049_jpg.rf.21382d2e408d3ccd7dc74c1f356df6f1.jpg  \n",
            " extracting: train/images/8ceed1ec9bc3ac45_jpg.rf.7dbd6a94b27f469811be78b617890df9.jpg  \n",
            " extracting: train/images/9034927e7438bdd6_jpg.rf.485aa01eaf4bdb88bd528c8a3d60a779.jpg  \n",
            " extracting: train/images/90596bf3313e72e3_jpg.rf.df87060473558e1509ed512a8ca1246c.jpg  \n",
            " extracting: train/images/908a3ac555a1a509_jpg.rf.9b6de09ca6fe8651c3fae8fcdda598c1.jpg  \n",
            " extracting: train/images/90abd4265adf5a00_jpg.rf.c965a37748146270cec658114a0df1a7.jpg  \n",
            " extracting: train/images/911e694dcc0814bf_jpg.rf.14c36fe93e30afbdbb6c158735e6e3fd.jpg  \n",
            " extracting: train/images/9238f5062ff1dc8d_jpg.rf.6187b2d577f93cd320ee3739456d428b.jpg  \n",
            " extracting: train/images/9286a99f243b359a_jpg.rf.a414b722f5e0981c32f1700c12433877.jpg  \n",
            " extracting: train/images/932eef14e5ee78b2_jpg.rf.205053889cf761b26dc8164b3548848c.jpg  \n",
            " extracting: train/images/934645379fe657e1_jpg.rf.a3883e752400120dfbe2f5008e3e2989.jpg  \n",
            " extracting: train/images/944281d0485869f0_jpg.rf.e5e018531362887fed53a198f15bc095.jpg  \n",
            " extracting: train/images/9498d0aff8f9ff8c_jpg.rf.48f45d52c4fbc491cd6d5b54d706b9dd.jpg  \n",
            " extracting: train/images/955a8e4c8ba8116e_jpg.rf.1cacebe375a3efadbb23d3e523f19763.jpg  \n",
            " extracting: train/images/98bcfbc4d3c8abbc_jpg.rf.87f26a782d63947d12c83d7a5fd91530.jpg  \n",
            " extracting: train/images/99732f172ac80128_jpg.rf.d51afc783137845b30c14b7f2ce13ff4.jpg  \n",
            " extracting: train/images/9995dfc6e0eae5a1_jpg.rf.6c9d2c34969fc3f8057e7ca71f5b3abd.jpg  \n",
            " extracting: train/images/99c9c657582f958f_jpg.rf.1426668ee2023032845d5c518d164012.jpg  \n",
            " extracting: train/images/9a4fe6361597f264_jpg.rf.54e8f86f1239f5b98911c90550acff79.jpg  \n",
            " extracting: train/images/9a795bbf4e94d630_jpg.rf.c4e7bd53f92019ae6ed8d5146852676d.jpg  \n",
            " extracting: train/images/9c92cadb0f6237c0_jpg.rf.def344d07f125fcce5761b8dc175769e.jpg  \n",
            " extracting: train/images/9ebbaf4d1f8d6e7b_jpg.rf.0ba4adf37e24b2b3287ca9cccec3e92b.jpg  \n",
            " extracting: train/images/a21aa7c1d7b93d12_jpg.rf.459bae358e3f6ecb28c0f6c3dcf7704a.jpg  \n",
            " extracting: train/images/a3ad91fabd188be3_jpg.rf.d5fe6164cf78cca8450a1d4be5190d53.jpg  \n",
            " extracting: train/images/a52079c6cc4050cd_jpg.rf.55cdcc8e9eed5f8a6d1ef3dc9b702ce4.jpg  \n",
            " extracting: train/images/a54e7bb80448f3b0_jpg.rf.9c47e418b7a796c755e1747d631eec3d.jpg  \n",
            " extracting: train/images/a56e82026bb71ad5_jpg.rf.6c3d68f3c6749220361374273692fb06.jpg  \n",
            " extracting: train/images/a67bc3f5f8650c73_jpg.rf.6e3a3bd824cd48f87ce46581e83b6e05.jpg  \n",
            " extracting: train/images/a6e3b0b73220cd32_jpg.rf.b36ceec258cb3cae076a055265e16c9f.jpg  \n",
            " extracting: train/images/a72a8cda1bb31e34_jpg.rf.cb56cb539638d5d422b633311ab1ec22.jpg  \n",
            " extracting: train/images/a774a6f81fea258b_jpg.rf.3fe3436775be6081646080095eda5a8a.jpg  \n",
            " extracting: train/images/a79296fb4a48245e_jpg.rf.24651ddfc1d4f036cac0bc58ea906b0d.jpg  \n",
            " extracting: train/images/a823532e163f5722_jpg.rf.1b0324e32202c4799ebf3de7df2b2fff.jpg  \n",
            " extracting: train/images/a929dc75c20da7d8_jpg.rf.9300a2de5d27c683842fcd23736a5d88.jpg  \n",
            " extracting: train/images/a9b2a2018f845393_jpg.rf.f11e98cbbbe047ad1edf2370a696c3e7.jpg  \n",
            " extracting: train/images/aac1aaaf824b63dd_jpg.rf.fdb96649c713cd73499dfc74d5474dff.jpg  \n",
            " extracting: train/images/abca9401dcf8f7ba_jpg.rf.51d0c3f2f9cd74221f7cd9bc58d3f076.jpg  \n",
            " extracting: train/images/aca8821ff0368720_jpg.rf.3b2e4ceb9495c5fe04dedd841277b759.jpg  \n",
            " extracting: train/images/ad10c7d29f111692_jpg.rf.68d20b05ed46f3723fe0848808ea6d17.jpg  \n",
            " extracting: train/images/ae6724423f0d111a_jpg.rf.4b6ce33f62111d30cb31d02dfcfe3401.jpg  \n",
            " extracting: train/images/aefe747315dd79fc_jpg.rf.c5fca180f028eda93b4b4b6534d3c82e.jpg  \n",
            " extracting: train/images/affd16c51644a893_jpg.rf.e7fd0c101b38d22931690b7167ddad67.jpg  \n",
            " extracting: train/images/b01d46f9911d558b_jpg.rf.e173ce2e74a946f5d7699fed4b2430fc.jpg  \n",
            " extracting: train/images/b076ad266891d7aa_jpg.rf.429bbd5bcc20fe5ff534efb755799ed8.jpg  \n",
            " extracting: train/images/b1096bc91a89b0cf_jpg.rf.d722e298f3c8a333c251f3eff4519604.jpg  \n",
            "   creating: train/labels/\n",
            " extracting: train/labels/003a5aaf6d17c917_jpg.rf.60e9d14047fc5cd445db13a7bb7264d4.txt  \n",
            " extracting: train/labels/00723dac8201a83e_jpg.rf.d9a3c0ebd7bf1f3382b17ac4fb609474.txt  \n",
            " extracting: train/labels/008637722500f239_jpg.rf.ba1b8c4fa65629e6fa77040edbec4a87.txt  \n",
            " extracting: train/labels/0170ea8e1a33375a_jpg.rf.cf0bc32e208fca4f66def753277ff9e0.txt  \n",
            " extracting: train/labels/017527da8bfeb97d_jpg.rf.17672ad4e825cf9ef7ec613f6be6347e.txt  \n",
            " extracting: train/labels/02a6ef3d9bd68e91_jpg.rf.f6172d85f89f248839c13f938daf08f1.txt  \n",
            " extracting: train/labels/03b7b71e1ffcb7a8_jpg.rf.73fadea76a5c1ed0c8638d5ba36979ec.txt  \n",
            " extracting: train/labels/044417ca6134604f_jpg.rf.ed7aa69d470a19404ab882bf24cf27fd.txt  \n",
            " extracting: train/labels/057569768fd6303e_jpg.rf.3e38991d0e4c36542cc100f55c38b78e.txt  \n",
            " extracting: train/labels/064a8def3049d040_jpg.rf.90625fa7457d5b6a2ed8d1981c370f07.txt  \n",
            " extracting: train/labels/0673b967f8c68eec_jpg.rf.4faffea417c05ccc1ee9698260279192.txt  \n",
            " extracting: train/labels/06b024413ad385a7_jpg.rf.31adef3948b22c2f24716638c98e543b.txt  \n",
            " extracting: train/labels/0727983dd5f9e4e6_jpg.rf.8c94837c18980170b58739110124bac8.txt  \n",
            " extracting: train/labels/0787b0fa95f545a5_jpg.rf.5918f5ea12fee9653f005937787e7cd2.txt  \n",
            " extracting: train/labels/0801961485534636_jpg.rf.6a30289a294b84db92e68e901cefb15e.txt  \n",
            " extracting: train/labels/081f5a6bc61b9c48_jpg.rf.49240c093b301a8a596f1212de40d56e.txt  \n",
            " extracting: train/labels/08481c03daf6f35d_jpg.rf.227b7230a71039b5f5a5b6803aa1e22c.txt  \n",
            " extracting: train/labels/091c033b2a7df15b_jpg.rf.40e8c5f73ca1cdb7cd643d110312847b.txt  \n",
            " extracting: train/labels/09453a7c716a9ef3_jpg.rf.5776237b99f425a57da152b3a1adecc3.txt  \n",
            " extracting: train/labels/0c756c9366a8cb10_jpg.rf.5448d5081af4eddc034b35111e17a035.txt  \n",
            " extracting: train/labels/0cacb08195a3e2d7_jpg.rf.c476bb424132c7c128aff2715b9016e8.txt  \n",
            " extracting: train/labels/0d6ca8553971fefd_jpg.rf.4bd76ae57d750580089a25e947c1d8d5.txt  \n",
            " extracting: train/labels/0e50ea14c4fc1353_jpg.rf.af1e1459644dca272075519bbb44bed1.txt  \n",
            " extracting: train/labels/0ee91c4938b6e7ee_jpg.rf.fee1f92dd461febca82abd99efd9a362.txt  \n",
            " extracting: train/labels/0f0596b1c511e071_jpg.rf.815f845f246014dbc136b0522c7e5c46.txt  \n",
            " extracting: train/labels/0f4bfc46402a9f52_jpg.rf.408104f7cd2af92e7076cdb6e8102861.txt  \n",
            " extracting: train/labels/0fbd1b85fc01d2ae_jpg.rf.fe227b3fd4422d42c57f875929dce42c.txt  \n",
            " extracting: train/labels/1071b237587a698b_jpg.rf.bcd0aa0b1744a53862781d3e777753e2.txt  \n",
            " extracting: train/labels/11b155ab5b3331cf_jpg.rf.337311fe1741878589b3954bee0547f5.txt  \n",
            " extracting: train/labels/11f80fda2c38011c_jpg.rf.46f9e991992916fd43ee643794a15634.txt  \n",
            " extracting: train/labels/125622a2508e3b1d_jpg.rf.54dfdcb44977cd21fe102c79e2af2014.txt  \n",
            " extracting: train/labels/128a59bca025bed6_jpg.rf.53f85602d60bdfd64057a8987fd20456.txt  \n",
            " extracting: train/labels/12b7ea40074d3b20_jpg.rf.1d9f76176d57b1dfce50f79ed0082b87.txt  \n",
            " extracting: train/labels/12d3b6665f7e1cf6_jpg.rf.55b98df77fa4f2a3c9b773ec28593a99.txt  \n",
            " extracting: train/labels/140e8d10ff02e7e7_jpg.rf.4d75a1fb3e22c9901df909c9c4e7b62d.txt  \n",
            " extracting: train/labels/1545c73bdecb3e2f_jpg.rf.8e1564eaf230480319dc4101f4452d61.txt  \n",
            " extracting: train/labels/15a51e29f5ceffd8_jpg.rf.b7fbeeef929ab35ccc982de040787e4a.txt  \n",
            " extracting: train/labels/16789af24af158d8_jpg.rf.fc736339c7e162dd985aca4b4dbc827c.txt  \n",
            " extracting: train/labels/16c15b29b30148c2_jpg.rf.2f2dd33f4c36d5984bac383e9c9c2972.txt  \n",
            " extracting: train/labels/17585ef2efb5ef9b_jpg.rf.48aabb44e83473e79e289879d41f2fe1.txt  \n",
            " extracting: train/labels/18098dc9ee6aad80_jpg.rf.78b900dcb3a8fdc95c0566f08f8657ac.txt  \n",
            " extracting: train/labels/182268e1f8c6525f_jpg.rf.9fc08ed4e7919ff159c56a86f16a6aa7.txt  \n",
            " extracting: train/labels/185d5dfa193c4ced_jpg.rf.9cdd189acc892f114ce63a76457ffd73.txt  \n",
            " extracting: train/labels/185fd6653258d3ed_jpg.rf.4fc8daf7d5edd887812b41e5abb28373.txt  \n",
            " extracting: train/labels/19eba8ac64eed194_jpg.rf.20bd6b9a33aa4534c8e62a5f61ee41af.txt  \n",
            " extracting: train/labels/19ff847d0cd1c5ec_jpg.rf.cb12b9c6bd8b9dacb3640fa83c2cdca2.txt  \n",
            " extracting: train/labels/1a3e9d87d733ff7f_jpg.rf.ba1b45c533408790cfb186090a5bd673.txt  \n",
            " extracting: train/labels/1ca1155083156d72_jpg.rf.f69458ccf7481ccdd8833b28b4a83f7a.txt  \n",
            " extracting: train/labels/1db3793d7c84faa1_jpg.rf.cecec81b21ef77ef9194e0761437fa62.txt  \n",
            " extracting: train/labels/1e6e75488d7878aa_jpg.rf.2675fb5270fce9c1aa1b1ea02f0f6b12.txt  \n",
            " extracting: train/labels/1ead26febde18ce9_jpg.rf.8d4edb2d9b2cbd16add0b5473d70930e.txt  \n",
            " extracting: train/labels/1eb2ebab9cd7adf6_jpg.rf.39854bfdfc1184d20ae4aac31229ac4f.txt  \n",
            " extracting: train/labels/1edfbe8c28a86caf_jpg.rf.1dd07633abdf8f17e32a3d1aa530a454.txt  \n",
            " extracting: train/labels/1f0e643b125f00ec_jpg.rf.e24a4bdd168a8b7bc4da455a76e103b1.txt  \n",
            " extracting: train/labels/1f1d5bc31e444cc1_jpg.rf.f48852eee96aafdff1d90bb9f3e5f27c.txt  \n",
            " extracting: train/labels/1f34454c4c073e1b_jpg.rf.51b3784a16f91c427d67f4972ed26c39.txt  \n",
            " extracting: train/labels/228bd52bbe043677_jpg.rf.6ad711db0f4e140e223c20f4a024a92c.txt  \n",
            " extracting: train/labels/23c2c79a9febbf3e_jpg.rf.b25deda249c3ead5d9305237cd03f8bb.txt  \n",
            " extracting: train/labels/246a0e4264a39433_jpg.rf.c7b49864a35b789817e56971401cb8a6.txt  \n",
            " extracting: train/labels/25d5c2fbd8b99662_jpg.rf.161b81359c98dba156768154d68ad57a.txt  \n",
            " extracting: train/labels/26183d88c4f8012f_jpg.rf.b9d1ec7045a2a9131859b0b18c8d203e.txt  \n",
            " extracting: train/labels/2619ec27a314e69c_jpg.rf.0d1598cec705deb61d2274477036771f.txt  \n",
            " extracting: train/labels/2753536137929411_jpg.rf.465d4a26af196ed442beff2c3857d81e.txt  \n",
            " extracting: train/labels/27798906120ea394_jpg.rf.c89a5445810fcb7ae742548327364234.txt  \n",
            " extracting: train/labels/288a95c01e43cd14_jpg.rf.2317f3638256e47c39e6f64d50c4fa47.txt  \n",
            " extracting: train/labels/28bd6c6b1050e055_jpg.rf.4f139b7736ed163fe5f362bb412f0209.txt  \n",
            " extracting: train/labels/28e26a4eb646c67a_jpg.rf.ebc297ef09ec5a7f8dcb0d0989d793ad.txt  \n",
            " extracting: train/labels/2956bcbedfc167b6_jpg.rf.364ddd3b803dfc2c2680bd5cf12dce1c.txt  \n",
            " extracting: train/labels/299f0363ae21d1c3_jpg.rf.5bfac70601a5bc5ad1e57f96a4b14b77.txt  \n",
            " extracting: train/labels/29f7991e696e6e3f_jpg.rf.2c4c1f752b2f0b3f446eb9d16983df5a.txt  \n",
            " extracting: train/labels/2a3e44107826e876_jpg.rf.a81310fb9b5e4656c8bad4af68958d5a.txt  \n",
            " extracting: train/labels/2adddd0b09bb0f17_jpg.rf.fe13745361c1126ce4fb283ff48380c0.txt  \n",
            " extracting: train/labels/2b97f5bf137ee8d1_jpg.rf.35201e41c2fa53a6d61c66417c17ea7f.txt  \n",
            " extracting: train/labels/2bd26c63ebf598b7_jpg.rf.e7aa2dc7e2a75ad66d167482a105558b.txt  \n",
            " extracting: train/labels/2c09fab0221652c5_jpg.rf.c43866861098c55fd261403806f6041e.txt  \n",
            " extracting: train/labels/2d40d6e377c82ec9_jpg.rf.28e8161f6c504b302c1a50f27dd59e45.txt  \n",
            " extracting: train/labels/2d6640fb230770fd_jpg.rf.c61f1b3533c7d1f81f55ef17c74de8b4.txt  \n",
            " extracting: train/labels/2e8a83cfb1afe7ba_jpg.rf.8ce8069b705d20adcd2ef9f147d3fc25.txt  \n",
            " extracting: train/labels/2e95d7a799e23e11_jpg.rf.871ccc4fc83b814cf2b75d6be4294c7c.txt  \n",
            " extracting: train/labels/2f3887024d298547_jpg.rf.960facd047ab9b5b06dc78aebb995cc6.txt  \n",
            " extracting: train/labels/2f90aaa72744452d_jpg.rf.0e17c4efd3453d01e55c27ab451054f3.txt  \n",
            " extracting: train/labels/2fe1f00b77a110a0_jpg.rf.212176020f6182f5999a3a839e194fa3.txt  \n",
            " extracting: train/labels/302d636c896c263f_jpg.rf.d64928a4b88a0aaf74b75c74308f1eae.txt  \n",
            " extracting: train/labels/30b6cfb60bf44533_jpg.rf.fbc07d315feb804c56614187c2c35784.txt  \n",
            " extracting: train/labels/315aead7766727b8_jpg.rf.7068a7942b48cb749f1012c83be82822.txt  \n",
            " extracting: train/labels/321ffb38656f7311_jpg.rf.cb821b1d26396bcec3659fade1554f50.txt  \n",
            " extracting: train/labels/3241f09a8964ddfb_jpg.rf.48b943cc08d0bae515a4fb8df9a30e7a.txt  \n",
            " extracting: train/labels/326c3286bcb5b2b0_jpg.rf.4226352a687f0e2c245f33d90ce7340b.txt  \n",
            " extracting: train/labels/334f31e809ec9a77_jpg.rf.792f706c95fcd893ad449ca9ece06e6b.txt  \n",
            " extracting: train/labels/33e0333ff031c4fb_jpg.rf.ca039e5ff2fb0f38d8febfb218a10187.txt  \n",
            " extracting: train/labels/343326e127297379_jpg.rf.881dc6b24cd6b354295df65f3f4914d0.txt  \n",
            " extracting: train/labels/35875c388efcddf0_jpg.rf.2e4bfdef8ff7d2c5a6ace544622b8dce.txt  \n",
            " extracting: train/labels/36d7b8b3cca3b0f5_jpg.rf.88cbef001e85fc6ff058ecdfa68f258c.txt  \n",
            " extracting: train/labels/37ff77d13a54aac2_jpg.rf.9067ae4e51914e97340679f7da4761e7.txt  \n",
            " extracting: train/labels/39c193bcc0c00f9e_jpg.rf.781a5ff666724fcd66548b039c467617.txt  \n",
            " extracting: train/labels/3d98e3713783e82d_jpg.rf.2b09c12e7a3230ae02ba57e52fec82f2.txt  \n",
            " extracting: train/labels/3e156de979eb0828_jpg.rf.a769843005b0a65849c1293762618561.txt  \n",
            " extracting: train/labels/3e2306f2cf4b2c67_jpg.rf.0ecdd619e71bd71e2b12f742672c5229.txt  \n",
            " extracting: train/labels/3ecd5af7c4f11963_jpg.rf.a5b5b9de5c3a8e7ee286add86d4ffb84.txt  \n",
            " extracting: train/labels/3ed000628c6a0587_jpg.rf.ee04a5eaab345281520634902816a9bb.txt  \n",
            " extracting: train/labels/3feecc5809a29627_jpg.rf.4ca7d27a3985622ef8b265bf7bbcd39c.txt  \n",
            " extracting: train/labels/4148b2126f0986a4_jpg.rf.7b070a1be82b860bec503b46c8d60895.txt  \n",
            " extracting: train/labels/415d64bf8cfe82f2_jpg.rf.a5807ed8f33a1a8c33926249f0c4cd70.txt  \n",
            " extracting: train/labels/428a5131c8cff7da_jpg.rf.605747487689d2b3195531eee0aa91e2.txt  \n",
            " extracting: train/labels/43339d9cbca470e4_jpg.rf.2092d252b23417fbd449789aa17aea91.txt  \n",
            " extracting: train/labels/43b1b0028dd2db8d_jpg.rf.163eebe0fa7241a2fa3fe53c59813adf.txt  \n",
            " extracting: train/labels/44afab29f5fa0abf_jpg.rf.189fa2c400a597627c68eb9a0d010e8b.txt  \n",
            " extracting: train/labels/460753acbd6e6dad_jpg.rf.1837e1f26757e554951ae5e0a65aa2b4.txt  \n",
            " extracting: train/labels/46a7991da6461831_jpg.rf.3b1f3b3c75ea936ef74a52b0c71aa89e.txt  \n",
            " extracting: train/labels/4793138df3c05610_jpg.rf.972e072f212d074b837a92141438cd97.txt  \n",
            " extracting: train/labels/485e5f37dd13ffab_jpg.rf.b37feba1bce7e1ebf78258013aa553e8.txt  \n",
            " extracting: train/labels/488722909dd9c0ac_jpg.rf.bb9d52abec20804520e1e3e5055a0bf5.txt  \n",
            " extracting: train/labels/49595029959689b7_jpg.rf.8c8035268f7f715b849ad01988a4152b.txt  \n",
            " extracting: train/labels/4b3aba5dfb7a0492_jpg.rf.c3c61189479caf4a4fe01f7e671dac56.txt  \n",
            " extracting: train/labels/4c04b488ddc48225_jpg.rf.a63b3e99374c3f3079498faf390ef77b.txt  \n",
            " extracting: train/labels/4cb48c8bf41b70a4_jpg.rf.1a2d8feecb685c397886de880db57c5d.txt  \n",
            " extracting: train/labels/4df1448703257ff0_jpg.rf.eab3701cdae0218bfee38fe737fbf553.txt  \n",
            " extracting: train/labels/4e2cb95b9c509b10_jpg.rf.d177639b266e4251c585929be0e93e16.txt  \n",
            " extracting: train/labels/4e593c88022ff6b1_jpg.rf.b6761e5b6e9a54de7368c75df91714e5.txt  \n",
            " extracting: train/labels/4ee3f0e9a2fb20a9_jpg.rf.42e5d0ba82f281e92ede5f34c1d13f3e.txt  \n",
            " extracting: train/labels/4fa24c1abe969cb7_jpg.rf.448070d70a410db1573fe2482dc8e1f3.txt  \n",
            " extracting: train/labels/4ff8bebd6d6a0361_jpg.rf.4292650a6004e752add372b8c8b59e91.txt  \n",
            " extracting: train/labels/5021041c726b6ee4_jpg.rf.3e879ba8155ca73e1ae584acc52ce60d.txt  \n",
            " extracting: train/labels/50631041f74001aa_jpg.rf.86535271a5bf51fb4ed1535b47488a0e.txt  \n",
            " extracting: train/labels/50c37aeaf19acd5b_jpg.rf.6a6a60ed65b0f96558ecd406377ef6c9.txt  \n",
            " extracting: train/labels/5290f4027491d09b_jpg.rf.3f3b30829f571d5321712f126e797f07.txt  \n",
            " extracting: train/labels/53386dae3cf13cc3_jpg.rf.a9d7fb9d64339bd7dc4426d411e6b667.txt  \n",
            " extracting: train/labels/5373ec295ea62c47_jpg.rf.4c37ba375aae44010abec238c2958a80.txt  \n",
            " extracting: train/labels/53925df03b471f5d_jpg.rf.4a37171cc642509f5596aed76fc4ad9a.txt  \n",
            " extracting: train/labels/53ad98b12752ad16_jpg.rf.9258a099cae4a3a6c3321898f3b4766c.txt  \n",
            " extracting: train/labels/548a8e997a66a0c4_jpg.rf.0139e770d085929090f1bc9a1b969325.txt  \n",
            " extracting: train/labels/54bd93e5a4de808a_jpg.rf.d3e95629c84e58d0676109ec3ca19f76.txt  \n",
            " extracting: train/labels/54ebca2064066a49_jpg.rf.a718edf5920c4ba66db0ead0996d0fc1.txt  \n",
            " extracting: train/labels/5581a1b7d2f0f2b4_jpg.rf.af51de43f942942ee217eaf28521a4bb.txt  \n",
            " extracting: train/labels/5641e6ad7d2600f2_jpg.rf.aef41a174f61796cd3abbde588cd31c8.txt  \n",
            " extracting: train/labels/575d96d014e4fbab_jpg.rf.44ac0961e4e6bfe5faef53681f1f774f.txt  \n",
            " extracting: train/labels/593e594137f374ab_jpg.rf.81dcafde18cc4442d88e438683cbcf7e.txt  \n",
            " extracting: train/labels/5a122adbb1a776b7_jpg.rf.e400aa454d644ea63d6f81365c11d74e.txt  \n",
            " extracting: train/labels/5a3f94aa35766f31_jpg.rf.f259f4cd77838504054fa33a7a8116ef.txt  \n",
            " extracting: train/labels/5a96f5e1f9be8d42_jpg.rf.1e4bf1c059627c1d842115568aec203b.txt  \n",
            " extracting: train/labels/5cc19b450a51ee4c_jpg.rf.72020ac43e4fff7a3e380836ace872d0.txt  \n",
            " extracting: train/labels/5daafbcf76fa6602_jpg.rf.14442dd74aa0e629fe892e73fb65e71f.txt  \n",
            " extracting: train/labels/5df8816356fc2b29_jpg.rf.8b6570bf909e9ad42b82f42c4db06483.txt  \n",
            " extracting: train/labels/5fb888d79b551331_jpg.rf.b5fee649bb7814d73d90fdd22ce129bc.txt  \n",
            " extracting: train/labels/5ff91ccfc6f15d04_jpg.rf.5a4938c97fb03b185fc5566a62266c88.txt  \n",
            " extracting: train/labels/61a69ad713142e45_jpg.rf.788c2385590e08a29253fb003fbcc98d.txt  \n",
            " extracting: train/labels/620bd952592bc0e9_jpg.rf.38c15cb6b6cdfd2810cc6221e45f04ee.txt  \n",
            " extracting: train/labels/621837d55c229864_jpg.rf.fce67724dbce8d9e18ee66ea428c333d.txt  \n",
            " extracting: train/labels/628a23a43f19c4db_jpg.rf.6c065a9352d55fe6451308834531f738.txt  \n",
            " extracting: train/labels/62bb93bbd270dd9a_jpg.rf.dd3a0c825232320775f78cc5bdf443b6.txt  \n",
            " extracting: train/labels/6306fc7f3573eb70_jpg.rf.5d8fa9eef0a6ce20bae6ff3a323efe5a.txt  \n",
            " extracting: train/labels/63d3df798bc8840f_jpg.rf.b3f8f6505f221285a61d9390931055b0.txt  \n",
            " extracting: train/labels/643c3cc1a4e85db2_jpg.rf.2db01eb9959635d88ef16759960038d9.txt  \n",
            " extracting: train/labels/647ff22cf6950211_jpg.rf.2e33af1b9b6ee5f8e0c7044a8eb805a7.txt  \n",
            " extracting: train/labels/64de505bd2bac82b_jpg.rf.9f33368fad743b9bfe748d39a949493e.txt  \n",
            " extracting: train/labels/6504632e0dc25997_jpg.rf.9e46d812fbb564225472ef94851d0d85.txt  \n",
            " extracting: train/labels/659dbf4f8c0fd29d_jpg.rf.0a5d58d700e7266920ed6d9418308f84.txt  \n",
            " extracting: train/labels/65e080f9ac466664_jpg.rf.fae5ecbf7651136ef2463314b3e1c16b.txt  \n",
            " extracting: train/labels/665cac5fd1cc2186_jpg.rf.32764bd596007aa6c4bbfd89e911b1f6.txt  \n",
            " extracting: train/labels/66771a4870c324f9_jpg.rf.7e0e8a08694e661e565a4131de8f9bd1.txt  \n",
            " extracting: train/labels/66be6b583048fa94_jpg.rf.72b80d2d10de42c54a02c6441d4ab0eb.txt  \n",
            " extracting: train/labels/67945cf7a6beccdf_jpg.rf.bfb9fa6162dc1affd39b6fb9ff3cb899.txt  \n",
            " extracting: train/labels/67c834b73882a9f9_jpg.rf.9244beb39fba4d02d40c4524e03e8528.txt  \n",
            " extracting: train/labels/6846c275ded01f85_jpg.rf.c927b24a8935e84fe7071c427d154e43.txt  \n",
            " extracting: train/labels/693acf98575cbe27_jpg.rf.9850e018cf310923df2d29a1800c0f6a.txt  \n",
            " extracting: train/labels/6a0ef049e5ec4b16_jpg.rf.98d8e331aee243bde7dc31bc5f8fd0f4.txt  \n",
            " extracting: train/labels/6aff04e9c32aec0f_jpg.rf.4dc1bc81208b8075bb0cd009c1673409.txt  \n",
            " extracting: train/labels/6c144e47161867c2_jpg.rf.ec2a50f3926a6f39eb4c39fbec843f9f.txt  \n",
            " extracting: train/labels/6e819dc674a74078_jpg.rf.ab8eef002d1ac35ef709ed968ff0d568.txt  \n",
            " extracting: train/labels/6eb18d1ad17cd174_jpg.rf.ef74db2cf0ca9cd341fe1b0ab9a510ad.txt  \n",
            " extracting: train/labels/70e7b5173fe1e289_jpg.rf.ee52c521f328265822a8bbd3ccac8051.txt  \n",
            " extracting: train/labels/71881a9c0f7f0a86_jpg.rf.9ef668aae602f3126b2c84a232ef173b.txt  \n",
            " extracting: train/labels/71dbb47ebe504abe_jpg.rf.c9d8f50a3aef825f849eff7581545c54.txt  \n",
            " extracting: train/labels/724307be418b2ed2_jpg.rf.18376617b09decaf0d49b8f748c8977e.txt  \n",
            " extracting: train/labels/7275e72e1996267f_jpg.rf.783fcc2e29a1935f15dff26a476366ac.txt  \n",
            " extracting: train/labels/73467682c5995b65_jpg.rf.c50f3fdd706c7932c40b0b4ebdb46d87.txt  \n",
            " extracting: train/labels/747b0f12f54703ee_jpg.rf.9cfeb83d4a6b1cf3dd2c4ecd4455a22d.txt  \n",
            " extracting: train/labels/749b4451492fc250_jpg.rf.ce98aad3e8eb5705d412fc643b49c6ac.txt  \n",
            " extracting: train/labels/74ee6d1b58ae2e70_jpg.rf.1bd30d8bd1c71d1656ca9de97251ad27.txt  \n",
            " extracting: train/labels/76e14d05ee8acb6d_jpg.rf.e4c4ee19a7059beb1609a04bf4145c4b.txt  \n",
            " extracting: train/labels/7a1f9520c7ecd5b1_jpg.rf.230911c4289f614e8c90428e64a43de5.txt  \n",
            " extracting: train/labels/7b4e86e1c94d65de_jpg.rf.c9f2c7cca1d2fd9dd2f29ee4264e4eb9.txt  \n",
            " extracting: train/labels/7bcf6b4ec09f1ea7_jpg.rf.cc7174ad530e182914ce764ed5589f06.txt  \n",
            " extracting: train/labels/7cbc7ee444622a66_jpg.rf.c413df997fe7fc1b53477b73be804506.txt  \n",
            " extracting: train/labels/7f56adf4b9306ac9_jpg.rf.9dc9ab3c02db3fe6b64b764724260709.txt  \n",
            " extracting: train/labels/7f9740e95a74f2b9_jpg.rf.1e44a6577ba658d57491a4836bbd3f58.txt  \n",
            " extracting: train/labels/80d21c58a71a0751_jpg.rf.a790b0cb81061f58c17bd18f225c96fd.txt  \n",
            " extracting: train/labels/80e02a518ffe4cb2_jpg.rf.f8e889ac521be67cbdd6cdb84ecdd52d.txt  \n",
            " extracting: train/labels/82b53fe7f9147c96_jpg.rf.42e22dcc3ad6808fd24630b8c8d3a416.txt  \n",
            " extracting: train/labels/844adfe06e003c09_jpg.rf.bfc4c5ed5206fd5b58c831bca3a52256.txt  \n",
            " extracting: train/labels/85f0b4db3eb512ce_jpg.rf.5f776753915463096616a41c6587c07f.txt  \n",
            " extracting: train/labels/86c92b0402fec141_jpg.rf.a35170b73727f3b88b332b02251071d2.txt  \n",
            " extracting: train/labels/87793700161a7a6b_jpg.rf.22eb55ad16b7ad20478d19ee6b3ff877.txt  \n",
            " extracting: train/labels/87b4f1202cd06440_jpg.rf.2ac9ee95057ccf91f52c0e43dfe0de40.txt  \n",
            " extracting: train/labels/88fc866f92860d70_jpg.rf.15f733df4a6ad896778e8f8a196acfc1.txt  \n",
            " extracting: train/labels/894cacdb385fdb6b_jpg.rf.587b44f08db587e1ed7408d5b50b5334.txt  \n",
            " extracting: train/labels/895d440e05b2a8d8_jpg.rf.8730ed5c7eb062a29fce357c2dc3d302.txt  \n",
            " extracting: train/labels/8c63cf76166c3bd7_jpg.rf.e63842fc74bf98e39a233a53024821f3.txt  \n",
            " extracting: train/labels/8cb5553e75d3d311_jpg.rf.e3806d0ad5061051e7cbb6b4d9cd132d.txt  \n",
            " extracting: train/labels/8cca720c410ee7f8_jpg.rf.ca0d7c13ca8a8e78ff4de32fd69e151a.txt  \n",
            " extracting: train/labels/8cdcb833ef1ef049_jpg.rf.21382d2e408d3ccd7dc74c1f356df6f1.txt  \n",
            " extracting: train/labels/8ceed1ec9bc3ac45_jpg.rf.7dbd6a94b27f469811be78b617890df9.txt  \n",
            " extracting: train/labels/9034927e7438bdd6_jpg.rf.485aa01eaf4bdb88bd528c8a3d60a779.txt  \n",
            " extracting: train/labels/90596bf3313e72e3_jpg.rf.df87060473558e1509ed512a8ca1246c.txt  \n",
            " extracting: train/labels/908a3ac555a1a509_jpg.rf.9b6de09ca6fe8651c3fae8fcdda598c1.txt  \n",
            " extracting: train/labels/90abd4265adf5a00_jpg.rf.c965a37748146270cec658114a0df1a7.txt  \n",
            " extracting: train/labels/911e694dcc0814bf_jpg.rf.14c36fe93e30afbdbb6c158735e6e3fd.txt  \n",
            " extracting: train/labels/9238f5062ff1dc8d_jpg.rf.6187b2d577f93cd320ee3739456d428b.txt  \n",
            " extracting: train/labels/9286a99f243b359a_jpg.rf.a414b722f5e0981c32f1700c12433877.txt  \n",
            " extracting: train/labels/932eef14e5ee78b2_jpg.rf.205053889cf761b26dc8164b3548848c.txt  \n",
            " extracting: train/labels/934645379fe657e1_jpg.rf.a3883e752400120dfbe2f5008e3e2989.txt  \n",
            " extracting: train/labels/944281d0485869f0_jpg.rf.e5e018531362887fed53a198f15bc095.txt  \n",
            " extracting: train/labels/9498d0aff8f9ff8c_jpg.rf.48f45d52c4fbc491cd6d5b54d706b9dd.txt  \n",
            " extracting: train/labels/955a8e4c8ba8116e_jpg.rf.1cacebe375a3efadbb23d3e523f19763.txt  \n",
            " extracting: train/labels/98bcfbc4d3c8abbc_jpg.rf.87f26a782d63947d12c83d7a5fd91530.txt  \n",
            " extracting: train/labels/99732f172ac80128_jpg.rf.d51afc783137845b30c14b7f2ce13ff4.txt  \n",
            " extracting: train/labels/9995dfc6e0eae5a1_jpg.rf.6c9d2c34969fc3f8057e7ca71f5b3abd.txt  \n",
            " extracting: train/labels/99c9c657582f958f_jpg.rf.1426668ee2023032845d5c518d164012.txt  \n",
            " extracting: train/labels/9a4fe6361597f264_jpg.rf.54e8f86f1239f5b98911c90550acff79.txt  \n",
            " extracting: train/labels/9a795bbf4e94d630_jpg.rf.c4e7bd53f92019ae6ed8d5146852676d.txt  \n",
            " extracting: train/labels/9c92cadb0f6237c0_jpg.rf.def344d07f125fcce5761b8dc175769e.txt  \n",
            " extracting: train/labels/9ebbaf4d1f8d6e7b_jpg.rf.0ba4adf37e24b2b3287ca9cccec3e92b.txt  \n",
            " extracting: train/labels/a21aa7c1d7b93d12_jpg.rf.459bae358e3f6ecb28c0f6c3dcf7704a.txt  \n",
            " extracting: train/labels/a3ad91fabd188be3_jpg.rf.d5fe6164cf78cca8450a1d4be5190d53.txt  \n",
            " extracting: train/labels/a52079c6cc4050cd_jpg.rf.55cdcc8e9eed5f8a6d1ef3dc9b702ce4.txt  \n",
            " extracting: train/labels/a54e7bb80448f3b0_jpg.rf.9c47e418b7a796c755e1747d631eec3d.txt  \n",
            " extracting: train/labels/a56e82026bb71ad5_jpg.rf.6c3d68f3c6749220361374273692fb06.txt  \n",
            " extracting: train/labels/a67bc3f5f8650c73_jpg.rf.6e3a3bd824cd48f87ce46581e83b6e05.txt  \n",
            " extracting: train/labels/a6e3b0b73220cd32_jpg.rf.b36ceec258cb3cae076a055265e16c9f.txt  \n",
            " extracting: train/labels/a72a8cda1bb31e34_jpg.rf.cb56cb539638d5d422b633311ab1ec22.txt  \n",
            " extracting: train/labels/a774a6f81fea258b_jpg.rf.3fe3436775be6081646080095eda5a8a.txt  \n",
            " extracting: train/labels/a79296fb4a48245e_jpg.rf.24651ddfc1d4f036cac0bc58ea906b0d.txt  \n",
            " extracting: train/labels/a823532e163f5722_jpg.rf.1b0324e32202c4799ebf3de7df2b2fff.txt  \n",
            " extracting: train/labels/a929dc75c20da7d8_jpg.rf.9300a2de5d27c683842fcd23736a5d88.txt  \n",
            " extracting: train/labels/a9b2a2018f845393_jpg.rf.f11e98cbbbe047ad1edf2370a696c3e7.txt  \n",
            " extracting: train/labels/aac1aaaf824b63dd_jpg.rf.fdb96649c713cd73499dfc74d5474dff.txt  \n",
            " extracting: train/labels/abca9401dcf8f7ba_jpg.rf.51d0c3f2f9cd74221f7cd9bc58d3f076.txt  \n",
            " extracting: train/labels/aca8821ff0368720_jpg.rf.3b2e4ceb9495c5fe04dedd841277b759.txt  \n",
            " extracting: train/labels/ad10c7d29f111692_jpg.rf.68d20b05ed46f3723fe0848808ea6d17.txt  \n",
            " extracting: train/labels/ae6724423f0d111a_jpg.rf.4b6ce33f62111d30cb31d02dfcfe3401.txt  \n",
            " extracting: train/labels/aefe747315dd79fc_jpg.rf.c5fca180f028eda93b4b4b6534d3c82e.txt  \n",
            " extracting: train/labels/affd16c51644a893_jpg.rf.e7fd0c101b38d22931690b7167ddad67.txt  \n",
            " extracting: train/labels/b01d46f9911d558b_jpg.rf.e173ce2e74a946f5d7699fed4b2430fc.txt  \n",
            " extracting: train/labels/b076ad266891d7aa_jpg.rf.429bbd5bcc20fe5ff534efb755799ed8.txt  \n",
            " extracting: train/labels/b1096bc91a89b0cf_jpg.rf.d722e298f3c8a333c251f3eff4519604.txt  \n",
            "   creating: valid/\n",
            "   creating: valid/images/\n",
            " extracting: valid/images/d3729058c6a4186e_jpg.rf.7b93b9b84f702138e29c507a88bcdcf8.jpg  \n",
            " extracting: valid/images/d44c0b2252bf8a92_jpg.rf.0995fee700253a3ce0b78c661fff9c77.jpg  \n",
            " extracting: valid/images/d5058059dc0ce0ad_jpg.rf.50a59f230c5dc764a2c36abe44b97e1d.jpg  \n",
            " extracting: valid/images/d53a3bc813477685_jpg.rf.59f7ed2aba87b0665ed2c68d08a3eb45.jpg  \n",
            " extracting: valid/images/d565d93637d4e76d_jpg.rf.f52836c9876bfd0e5089f88a6b62024c.jpg  \n",
            " extracting: valid/images/d59b7a0ff294e3be_jpg.rf.7de44e7ed2850e39c014a587a09a9521.jpg  \n",
            " extracting: valid/images/d5f4069e6734ac06_jpg.rf.a56a7fe6fa63495583c618e5deccee88.jpg  \n",
            " extracting: valid/images/d648b2ae1abc09f3_jpg.rf.3451503900a53564047347dc902024a2.jpg  \n",
            " extracting: valid/images/d7b71c9fd144d58d_jpg.rf.344e728f4fcbc87ff0e85e1219875fde.jpg  \n",
            " extracting: valid/images/d7d49b1a3706f3eb_jpg.rf.5aabf123bc9869f4f1bcb6da3642c58b.jpg  \n",
            " extracting: valid/images/d830c3573e57bfc0_jpg.rf.e7fc2d97efb8e6132fbcf3626a5f041e.jpg  \n",
            " extracting: valid/images/d8cc6d566d01054b_jpg.rf.87ca0828b3ff99c4851e049976dbd842.jpg  \n",
            " extracting: valid/images/d8daed582e6cce2d_jpg.rf.03386ec76e971c1c9f6a49da8c28ec19.jpg  \n",
            " extracting: valid/images/d8f6c135ec5486ff_jpg.rf.d67a8d28a1ce8c4b4336cf832d2a8da7.jpg  \n",
            " extracting: valid/images/d9fa2abf3719a4bd_jpg.rf.b23a4781435fb7973f2d6afb66c1a169.jpg  \n",
            " extracting: valid/images/da1352ab6054a2e4_jpg.rf.1cc96761ed6a1cafa604c877cdcfa249.jpg  \n",
            " extracting: valid/images/da8186b39f042cdf_jpg.rf.b2ffe293241ac81cd560c8509c826a2c.jpg  \n",
            " extracting: valid/images/daac3a6c64a79bea_jpg.rf.a1a14b3209547b4456386f7b8bc385ad.jpg  \n",
            " extracting: valid/images/de2b5afb7eda96cf_jpg.rf.3298a50d54a9435a62b804689b4b437a.jpg  \n",
            " extracting: valid/images/dec4608715b2d28d_jpg.rf.50fd9a4fdbe998abbdc298b27cd9ae1e.jpg  \n",
            " extracting: valid/images/defd8f4b30b3e1e1_jpg.rf.e0acef146000f69bf51b82aa3b62cb90.jpg  \n",
            " extracting: valid/images/e08424f3cd5f6dac_jpg.rf.adfb3272bf93fcacecf2717dc9017cfc.jpg  \n",
            " extracting: valid/images/e1120bfe48f85c1b_jpg.rf.53f3da676938aee7f3d78438d98a741e.jpg  \n",
            " extracting: valid/images/e1925cd0ae28fbd9_jpg.rf.8b647795483a7440c0740f82bbb27ecd.jpg  \n",
            " extracting: valid/images/e2427db217e5c3db_jpg.rf.87aa3327cd912e683eccc27e7504fd4e.jpg  \n",
            " extracting: valid/images/e40cafe0f0d3a550_jpg.rf.4723f3c94efe1585d431e875059da02d.jpg  \n",
            " extracting: valid/images/e52d4f347b2cf90f_jpg.rf.9f3fabde331c83601a0b75f8ce6d4363.jpg  \n",
            " extracting: valid/images/e57d38ae6a921518_jpg.rf.8924c9a0254a3c5fe0589ad3a3c49791.jpg  \n",
            " extracting: valid/images/e5edf93b7c9f5edb_jpg.rf.0cd64b1e0edab1f46d3d52eb35614787.jpg  \n",
            " extracting: valid/images/e742e284c7c9da96_jpg.rf.c04de3ca8144406aae57e58a0767a90b.jpg  \n",
            " extracting: valid/images/e79f6777f2fc08b2_jpg.rf.998e7d2e9ea4b5d8bd74e17553a16d1c.jpg  \n",
            " extracting: valid/images/e82f13b4a2fe69f3_jpg.rf.f148aee9acbf4ed4796fb7e5276c591f.jpg  \n",
            " extracting: valid/images/e9561d7c16db565f_jpg.rf.26cc0d0cc7658dc2ce4433d9034683c9.jpg  \n",
            " extracting: valid/images/e9cd346a4a84d594_jpg.rf.5d4115c863143b9368f24fc6f80a72b8.jpg  \n",
            " extracting: valid/images/e9fdd0a41cb61da6_jpg.rf.656fd48ffc3fada5132b953f736c81fa.jpg  \n",
            " extracting: valid/images/ea02d99ba51372ee_jpg.rf.cc3e2726efd58438ae80fe7558a3430b.jpg  \n",
            " extracting: valid/images/ebaefbcb87bfa8a1_jpg.rf.1ab6203a81b2a33810c05e8dc13a6564.jpg  \n",
            " extracting: valid/images/ec8a36f7874c0c34_jpg.rf.4ad121688724db215a0006e80251e53a.jpg  \n",
            " extracting: valid/images/ed7d99098d4af8e6_jpg.rf.a5ec56269e3f60a294b81a36476c4578.jpg  \n",
            " extracting: valid/images/edecf3a6d569b7c9_jpg.rf.f254a9095f9d6054bae04137aa9fcfb5.jpg  \n",
            " extracting: valid/images/ee047c8ca2cca8a2_jpg.rf.0bc64c938f8b5ab15cd02da914c129cc.jpg  \n",
            " extracting: valid/images/efde2a25c1c9c924_jpg.rf.25d1271fa96830d3427e76a14756ab28.jpg  \n",
            " extracting: valid/images/f0c7057612710f21_jpg.rf.c87e603671206576d491e89b48e83c1d.jpg  \n",
            " extracting: valid/images/f1131b93a33cefb9_jpg.rf.3ac3c2c994e62ac4887ae7e6d7ba4bd0.jpg  \n",
            " extracting: valid/images/f194eaf4f3d1d835_jpg.rf.2e7c958e01b6b9bf13508cfc614d908c.jpg  \n",
            " extracting: valid/images/f3814f4a6121838d_jpg.rf.013c5820d6d5d5ba2b50be4db73ae3ca.jpg  \n",
            " extracting: valid/images/f3bd3adea149193b_jpg.rf.8711f9cf71ce14ff2a27b80cb74a0640.jpg  \n",
            " extracting: valid/images/f3c9af100984744f_jpg.rf.01491d4fac670507042e004209d38e88.jpg  \n",
            " extracting: valid/images/f3d472955c13cae0_jpg.rf.5cd7ff38d9e391c2885c53e63b71c4fc.jpg  \n",
            " extracting: valid/images/f5128e7a123b4fa8_jpg.rf.f0b1b11e39538a41d4cf9793804ed412.jpg  \n",
            " extracting: valid/images/f53243c2bb551b8a_jpg.rf.5d1943699e59e1ab415bed51051ac728.jpg  \n",
            " extracting: valid/images/f5c2a80a21ddb78c_jpg.rf.b39c112d7e368f89af4d4e84df4c0444.jpg  \n",
            " extracting: valid/images/f5d1729aa333b284_jpg.rf.0a241e6c8cfebc2ee5a5a931954e5da7.jpg  \n",
            " extracting: valid/images/f6256bceaf66693f_jpg.rf.3d5dc6962e641d544cbf59697833caa6.jpg  \n",
            " extracting: valid/images/f700c5b69c973db6_jpg.rf.84262bc04536e11b5182e3d0b653144a.jpg  \n",
            " extracting: valid/images/f73b754cdb1ab677_jpg.rf.fbaf4ab9ba4b4c1149fd1339aadbbde7.jpg  \n",
            " extracting: valid/images/f83d18919353c483_jpg.rf.c8beeec60c666e6f3488c8d67c0f13cd.jpg  \n",
            " extracting: valid/images/f9170e8c13a99991_jpg.rf.d7cbeb13c4b399490ec2509636538441.jpg  \n",
            " extracting: valid/images/f9f539977bfea25e_jpg.rf.7e552e7ec59f662071a91f28b630b2d6.jpg  \n",
            " extracting: valid/images/fa897478280a2758_jpg.rf.d2bf1e1044188ef8857c525e4ffaf9fb.jpg  \n",
            " extracting: valid/images/fa9147596edc058f_jpg.rf.7c861ca9e4b176c808355fe12c238f1c.jpg  \n",
            " extracting: valid/images/fb4e60b5cee8b88e_jpg.rf.b4845134001c4183f4102cf6f53b4337.jpg  \n",
            " extracting: valid/images/fb55b73f241bf50a_jpg.rf.fbe131c0c520f889a41a27afcbfdaad6.jpg  \n",
            " extracting: valid/images/fd07d2db70cf53d5_jpg.rf.cbe13b5b6bf07cef4668714db2c4d27a.jpg  \n",
            " extracting: valid/images/fdd963edc28bf163_jpg.rf.0ceca3ffee4d2cedea59ed66b5fce75f.jpg  \n",
            " extracting: valid/images/fe6139d150a3e2a8_jpg.rf.8edada9f804dbd300352a94b9173de87.jpg  \n",
            " extracting: valid/images/feaf383fc5de383f_jpg.rf.c5dbef8443e9fd214eea976a90a18f13.jpg  \n",
            " extracting: valid/images/fed5c0275ff3a440_jpg.rf.e5109ca74608d31d401d0d1e6e8e6ad9.jpg  \n",
            " extracting: valid/images/ff69d090c735eccb_jpg.rf.f9aa9152d27698703b9fbc6026a7fd54.jpg  \n",
            " extracting: valid/images/ff85b09876d61631_jpg.rf.201dc4858f1861b27a121abceab0b15e.jpg  \n",
            "   creating: valid/labels/\n",
            " extracting: valid/labels/d3729058c6a4186e_jpg.rf.7b93b9b84f702138e29c507a88bcdcf8.txt  \n",
            " extracting: valid/labels/d44c0b2252bf8a92_jpg.rf.0995fee700253a3ce0b78c661fff9c77.txt  \n",
            " extracting: valid/labels/d5058059dc0ce0ad_jpg.rf.50a59f230c5dc764a2c36abe44b97e1d.txt  \n",
            " extracting: valid/labels/d53a3bc813477685_jpg.rf.59f7ed2aba87b0665ed2c68d08a3eb45.txt  \n",
            " extracting: valid/labels/d565d93637d4e76d_jpg.rf.f52836c9876bfd0e5089f88a6b62024c.txt  \n",
            " extracting: valid/labels/d59b7a0ff294e3be_jpg.rf.7de44e7ed2850e39c014a587a09a9521.txt  \n",
            " extracting: valid/labels/d5f4069e6734ac06_jpg.rf.a56a7fe6fa63495583c618e5deccee88.txt  \n",
            " extracting: valid/labels/d648b2ae1abc09f3_jpg.rf.3451503900a53564047347dc902024a2.txt  \n",
            " extracting: valid/labels/d7b71c9fd144d58d_jpg.rf.344e728f4fcbc87ff0e85e1219875fde.txt  \n",
            " extracting: valid/labels/d7d49b1a3706f3eb_jpg.rf.5aabf123bc9869f4f1bcb6da3642c58b.txt  \n",
            " extracting: valid/labels/d830c3573e57bfc0_jpg.rf.e7fc2d97efb8e6132fbcf3626a5f041e.txt  \n",
            " extracting: valid/labels/d8cc6d566d01054b_jpg.rf.87ca0828b3ff99c4851e049976dbd842.txt  \n",
            " extracting: valid/labels/d8daed582e6cce2d_jpg.rf.03386ec76e971c1c9f6a49da8c28ec19.txt  \n",
            " extracting: valid/labels/d8f6c135ec5486ff_jpg.rf.d67a8d28a1ce8c4b4336cf832d2a8da7.txt  \n",
            " extracting: valid/labels/d9fa2abf3719a4bd_jpg.rf.b23a4781435fb7973f2d6afb66c1a169.txt  \n",
            " extracting: valid/labels/da1352ab6054a2e4_jpg.rf.1cc96761ed6a1cafa604c877cdcfa249.txt  \n",
            " extracting: valid/labels/da8186b39f042cdf_jpg.rf.b2ffe293241ac81cd560c8509c826a2c.txt  \n",
            " extracting: valid/labels/daac3a6c64a79bea_jpg.rf.a1a14b3209547b4456386f7b8bc385ad.txt  \n",
            " extracting: valid/labels/de2b5afb7eda96cf_jpg.rf.3298a50d54a9435a62b804689b4b437a.txt  \n",
            " extracting: valid/labels/dec4608715b2d28d_jpg.rf.50fd9a4fdbe998abbdc298b27cd9ae1e.txt  \n",
            " extracting: valid/labels/defd8f4b30b3e1e1_jpg.rf.e0acef146000f69bf51b82aa3b62cb90.txt  \n",
            " extracting: valid/labels/e08424f3cd5f6dac_jpg.rf.adfb3272bf93fcacecf2717dc9017cfc.txt  \n",
            " extracting: valid/labels/e1120bfe48f85c1b_jpg.rf.53f3da676938aee7f3d78438d98a741e.txt  \n",
            " extracting: valid/labels/e1925cd0ae28fbd9_jpg.rf.8b647795483a7440c0740f82bbb27ecd.txt  \n",
            " extracting: valid/labels/e2427db217e5c3db_jpg.rf.87aa3327cd912e683eccc27e7504fd4e.txt  \n",
            " extracting: valid/labels/e40cafe0f0d3a550_jpg.rf.4723f3c94efe1585d431e875059da02d.txt  \n",
            " extracting: valid/labels/e52d4f347b2cf90f_jpg.rf.9f3fabde331c83601a0b75f8ce6d4363.txt  \n",
            " extracting: valid/labels/e57d38ae6a921518_jpg.rf.8924c9a0254a3c5fe0589ad3a3c49791.txt  \n",
            " extracting: valid/labels/e5edf93b7c9f5edb_jpg.rf.0cd64b1e0edab1f46d3d52eb35614787.txt  \n",
            " extracting: valid/labels/e742e284c7c9da96_jpg.rf.c04de3ca8144406aae57e58a0767a90b.txt  \n",
            " extracting: valid/labels/e79f6777f2fc08b2_jpg.rf.998e7d2e9ea4b5d8bd74e17553a16d1c.txt  \n",
            " extracting: valid/labels/e82f13b4a2fe69f3_jpg.rf.f148aee9acbf4ed4796fb7e5276c591f.txt  \n",
            " extracting: valid/labels/e9561d7c16db565f_jpg.rf.26cc0d0cc7658dc2ce4433d9034683c9.txt  \n",
            " extracting: valid/labels/e9cd346a4a84d594_jpg.rf.5d4115c863143b9368f24fc6f80a72b8.txt  \n",
            " extracting: valid/labels/e9fdd0a41cb61da6_jpg.rf.656fd48ffc3fada5132b953f736c81fa.txt  \n",
            " extracting: valid/labels/ea02d99ba51372ee_jpg.rf.cc3e2726efd58438ae80fe7558a3430b.txt  \n",
            " extracting: valid/labels/ebaefbcb87bfa8a1_jpg.rf.1ab6203a81b2a33810c05e8dc13a6564.txt  \n",
            " extracting: valid/labels/ec8a36f7874c0c34_jpg.rf.4ad121688724db215a0006e80251e53a.txt  \n",
            " extracting: valid/labels/ed7d99098d4af8e6_jpg.rf.a5ec56269e3f60a294b81a36476c4578.txt  \n",
            " extracting: valid/labels/edecf3a6d569b7c9_jpg.rf.f254a9095f9d6054bae04137aa9fcfb5.txt  \n",
            " extracting: valid/labels/ee047c8ca2cca8a2_jpg.rf.0bc64c938f8b5ab15cd02da914c129cc.txt  \n",
            " extracting: valid/labels/efde2a25c1c9c924_jpg.rf.25d1271fa96830d3427e76a14756ab28.txt  \n",
            " extracting: valid/labels/f0c7057612710f21_jpg.rf.c87e603671206576d491e89b48e83c1d.txt  \n",
            " extracting: valid/labels/f1131b93a33cefb9_jpg.rf.3ac3c2c994e62ac4887ae7e6d7ba4bd0.txt  \n",
            " extracting: valid/labels/f194eaf4f3d1d835_jpg.rf.2e7c958e01b6b9bf13508cfc614d908c.txt  \n",
            " extracting: valid/labels/f3814f4a6121838d_jpg.rf.013c5820d6d5d5ba2b50be4db73ae3ca.txt  \n",
            " extracting: valid/labels/f3bd3adea149193b_jpg.rf.8711f9cf71ce14ff2a27b80cb74a0640.txt  \n",
            " extracting: valid/labels/f3c9af100984744f_jpg.rf.01491d4fac670507042e004209d38e88.txt  \n",
            " extracting: valid/labels/f3d472955c13cae0_jpg.rf.5cd7ff38d9e391c2885c53e63b71c4fc.txt  \n",
            " extracting: valid/labels/f5128e7a123b4fa8_jpg.rf.f0b1b11e39538a41d4cf9793804ed412.txt  \n",
            " extracting: valid/labels/f53243c2bb551b8a_jpg.rf.5d1943699e59e1ab415bed51051ac728.txt  \n",
            " extracting: valid/labels/f5c2a80a21ddb78c_jpg.rf.b39c112d7e368f89af4d4e84df4c0444.txt  \n",
            " extracting: valid/labels/f5d1729aa333b284_jpg.rf.0a241e6c8cfebc2ee5a5a931954e5da7.txt  \n",
            " extracting: valid/labels/f6256bceaf66693f_jpg.rf.3d5dc6962e641d544cbf59697833caa6.txt  \n",
            " extracting: valid/labels/f700c5b69c973db6_jpg.rf.84262bc04536e11b5182e3d0b653144a.txt  \n",
            " extracting: valid/labels/f73b754cdb1ab677_jpg.rf.fbaf4ab9ba4b4c1149fd1339aadbbde7.txt  \n",
            " extracting: valid/labels/f83d18919353c483_jpg.rf.c8beeec60c666e6f3488c8d67c0f13cd.txt  \n",
            " extracting: valid/labels/f9170e8c13a99991_jpg.rf.d7cbeb13c4b399490ec2509636538441.txt  \n",
            " extracting: valid/labels/f9f539977bfea25e_jpg.rf.7e552e7ec59f662071a91f28b630b2d6.txt  \n",
            " extracting: valid/labels/fa897478280a2758_jpg.rf.d2bf1e1044188ef8857c525e4ffaf9fb.txt  \n",
            " extracting: valid/labels/fa9147596edc058f_jpg.rf.7c861ca9e4b176c808355fe12c238f1c.txt  \n",
            " extracting: valid/labels/fb4e60b5cee8b88e_jpg.rf.b4845134001c4183f4102cf6f53b4337.txt  \n",
            " extracting: valid/labels/fb55b73f241bf50a_jpg.rf.fbe131c0c520f889a41a27afcbfdaad6.txt  \n",
            " extracting: valid/labels/fd07d2db70cf53d5_jpg.rf.cbe13b5b6bf07cef4668714db2c4d27a.txt  \n",
            " extracting: valid/labels/fdd963edc28bf163_jpg.rf.0ceca3ffee4d2cedea59ed66b5fce75f.txt  \n",
            " extracting: valid/labels/fe6139d150a3e2a8_jpg.rf.8edada9f804dbd300352a94b9173de87.txt  \n",
            " extracting: valid/labels/feaf383fc5de383f_jpg.rf.c5dbef8443e9fd214eea976a90a18f13.txt  \n",
            " extracting: valid/labels/fed5c0275ff3a440_jpg.rf.e5109ca74608d31d401d0d1e6e8e6ad9.txt  \n",
            " extracting: valid/labels/ff69d090c735eccb_jpg.rf.f9aa9152d27698703b9fbc6026a7fd54.txt  \n",
            " extracting: valid/labels/ff85b09876d61631_jpg.rf.201dc4858f1861b27a121abceab0b15e.txt  \n"
          ]
        }
      ]
    },
    {
      "cell_type": "code",
      "execution_count": 3,
      "metadata": {
        "id": "YsNBKtfJmQRi",
        "colab": {
          "base_uri": "https://localhost:8080/"
        },
        "outputId": "219a5f88-26be-46fc-a99b-355785d47ac3"
      },
      "outputs": [
        {
          "metadata": {
            "tags": null
          },
          "name": "stdout",
          "output_type": "stream",
          "text": [
            "Downloading https://github.com/ultralytics/assets/releases/download/v8.2.0/yolov10n.pt to 'yolov10n.pt'...\n"
          ]
        },
        {
          "metadata": {
            "tags": null
          },
          "name": "stderr",
          "output_type": "stream",
          "text": [
            "100%|██████████| 5.59M/5.59M [00:00<00:00, 114MB/s]\n"
          ]
        },
        {
          "metadata": {
            "tags": null
          },
          "name": "stdout",
          "output_type": "stream",
          "text": [
            "YOLOv10n summary: 385 layers, 2,775,520 parameters, 0 gradients, 8.7 GFLOPs\n",
            "Ultralytics YOLOv8.2.78 🚀 Python-3.10.12 torch-2.3.1+cu121 CUDA:0 (Tesla T4, 15102MiB)\n",
            "\u001b[34m\u001b[1mengine/trainer: \u001b[0mtask=detect, mode=train, model=yolov10n.pt, data=data.yaml, epochs=100, time=None, patience=100, batch=16, imgsz=640, save=True, save_period=-1, cache=False, device=None, workers=8, project=None, name=train, exist_ok=False, pretrained=True, optimizer=auto, verbose=True, seed=0, deterministic=True, single_cls=False, rect=False, cos_lr=False, close_mosaic=10, resume=False, amp=True, fraction=1.0, profile=False, freeze=None, multi_scale=False, overlap_mask=True, mask_ratio=4, dropout=0.0, val=True, split=val, save_json=False, save_hybrid=False, conf=None, iou=0.7, max_det=300, half=False, dnn=False, plots=True, source=None, vid_stride=1, stream_buffer=False, visualize=False, augment=False, agnostic_nms=False, classes=None, retina_masks=False, embed=None, show=False, save_frames=False, save_txt=False, save_conf=False, save_crop=False, show_labels=True, show_conf=True, show_boxes=True, line_width=None, format=torchscript, keras=False, optimize=False, int8=False, dynamic=False, simplify=False, opset=None, workspace=4, nms=False, lr0=0.01, lrf=0.01, momentum=0.937, weight_decay=0.0005, warmup_epochs=3.0, warmup_momentum=0.8, warmup_bias_lr=0.1, box=7.5, cls=0.5, dfl=1.5, pose=12.0, kobj=1.0, label_smoothing=0.0, nbs=64, hsv_h=0.015, hsv_s=0.7, hsv_v=0.4, degrees=0.0, translate=0.1, scale=0.5, shear=0.0, perspective=0.0, flipud=0.0, fliplr=0.5, bgr=0.0, mosaic=1.0, mixup=0.0, copy_paste=0.0, auto_augment=randaugment, erasing=0.4, crop_fraction=1.0, cfg=None, tracker=botsort.yaml, save_dir=runs/detect/train\n",
            "Downloading https://ultralytics.com/assets/Arial.ttf to '/root/.config/Ultralytics/Arial.ttf'...\n"
          ]
        },
        {
          "metadata": {
            "tags": null
          },
          "name": "stderr",
          "output_type": "stream",
          "text": [
            "100%|██████████| 755k/755k [00:00<00:00, 25.6MB/s]\n"
          ]
        },
        {
          "metadata": {
            "tags": null
          },
          "name": "stdout",
          "output_type": "stream",
          "text": [
            "Overriding model.yaml nc=80 with nc=2\n",
            "\n",
            "                   from  n    params  module                                       arguments                     \n",
            "  0                  -1  1       464  ultralytics.nn.modules.conv.Conv             [3, 16, 3, 2]                 \n",
            "  1                  -1  1      4672  ultralytics.nn.modules.conv.Conv             [16, 32, 3, 2]                \n",
            "  2                  -1  1      7360  ultralytics.nn.modules.block.C2f             [32, 32, 1, True]             \n",
            "  3                  -1  1     18560  ultralytics.nn.modules.conv.Conv             [32, 64, 3, 2]                \n",
            "  4                  -1  2     49664  ultralytics.nn.modules.block.C2f             [64, 64, 2, True]             \n",
            "  5                  -1  1      9856  ultralytics.nn.modules.block.SCDown          [64, 128, 3, 2]               \n",
            "  6                  -1  2    197632  ultralytics.nn.modules.block.C2f             [128, 128, 2, True]           \n",
            "  7                  -1  1     36096  ultralytics.nn.modules.block.SCDown          [128, 256, 3, 2]              \n",
            "  8                  -1  1    460288  ultralytics.nn.modules.block.C2f             [256, 256, 1, True]           \n",
            "  9                  -1  1    164608  ultralytics.nn.modules.block.SPPF            [256, 256, 5]                 \n",
            " 10                  -1  1    249728  ultralytics.nn.modules.block.PSA             [256, 256]                    \n",
            " 11                  -1  1         0  torch.nn.modules.upsampling.Upsample         [None, 2, 'nearest']          \n",
            " 12             [-1, 6]  1         0  ultralytics.nn.modules.conv.Concat           [1]                           \n",
            " 13                  -1  1    148224  ultralytics.nn.modules.block.C2f             [384, 128, 1]                 \n",
            " 14                  -1  1         0  torch.nn.modules.upsampling.Upsample         [None, 2, 'nearest']          \n",
            " 15             [-1, 4]  1         0  ultralytics.nn.modules.conv.Concat           [1]                           \n",
            " 16                  -1  1     37248  ultralytics.nn.modules.block.C2f             [192, 64, 1]                  \n",
            " 17                  -1  1     36992  ultralytics.nn.modules.conv.Conv             [64, 64, 3, 2]                \n",
            " 18            [-1, 13]  1         0  ultralytics.nn.modules.conv.Concat           [1]                           \n",
            " 19                  -1  1    123648  ultralytics.nn.modules.block.C2f             [192, 128, 1]                 \n",
            " 20                  -1  1     18048  ultralytics.nn.modules.block.SCDown          [128, 128, 3, 2]              \n",
            " 21            [-1, 10]  1         0  ultralytics.nn.modules.conv.Concat           [1]                           \n",
            " 22                  -1  1    282624  ultralytics.nn.modules.block.C2fCIB          [384, 256, 1, True, True]     \n",
            " 23        [16, 19, 22]  1    862108  ultralytics.nn.modules.head.v10Detect        [2, [64, 128, 256]]           \n",
            "YOLOv10n summary: 385 layers, 2,707,820 parameters, 2,707,804 gradients, 8.4 GFLOPs\n",
            "\n",
            "Transferred 493/595 items from pretrained weights\n",
            "\u001b[34m\u001b[1mTensorBoard: \u001b[0mStart with 'tensorboard --logdir runs/detect/train', view at http://localhost:6006/\n",
            "Freezing layer 'model.23.dfl.conv.weight'\n",
            "\u001b[34m\u001b[1mAMP: \u001b[0mrunning Automatic Mixed Precision (AMP) checks with YOLOv8n...\n",
            "Downloading https://github.com/ultralytics/assets/releases/download/v8.2.0/yolov8n.pt to 'yolov8n.pt'...\n"
          ]
        },
        {
          "metadata": {
            "tags": null
          },
          "name": "stderr",
          "output_type": "stream",
          "text": [
            "100%|██████████| 6.25M/6.25M [00:00<00:00, 114MB/s]\n"
          ]
        },
        {
          "metadata": {
            "tags": null
          },
          "name": "stdout",
          "output_type": "stream",
          "text": [
            "\u001b[34m\u001b[1mAMP: \u001b[0mchecks passed ✅\n"
          ]
        },
        {
          "metadata": {
            "tags": null
          },
          "name": "stderr",
          "output_type": "stream",
          "text": [
            "\u001b[34m\u001b[1mtrain: \u001b[0mScanning /content/train/labels... 245 images, 0 backgrounds, 0 corrupt: 100%|██████████| 245/245 [00:00<00:00, 1665.63it/s]"
          ]
        },
        {
          "metadata": {
            "tags": null
          },
          "name": "stdout",
          "output_type": "stream",
          "text": [
            "\u001b[34m\u001b[1mtrain: \u001b[0mNew cache created: /content/train/labels.cache\n"
          ]
        },
        {
          "metadata": {
            "tags": null
          },
          "name": "stderr",
          "output_type": "stream",
          "text": [
            "\n"
          ]
        },
        {
          "metadata": {
            "tags": null
          },
          "name": "stdout",
          "output_type": "stream",
          "text": [
            "\u001b[34m\u001b[1malbumentations: \u001b[0mBlur(p=0.01, blur_limit=(3, 7)), MedianBlur(p=0.01, blur_limit=(3, 7)), ToGray(p=0.01), CLAHE(p=0.01, clip_limit=(1, 4.0), tile_grid_size=(8, 8))\n"
          ]
        },
        {
          "metadata": {
            "tags": null
          },
          "name": "stderr",
          "output_type": "stream",
          "text": [
            "/usr/lib/python3.10/multiprocessing/popen_fork.py:66: RuntimeWarning: os.fork() was called. os.fork() is incompatible with multithreaded code, and JAX is multithreaded, so this will likely lead to a deadlock.\n",
            "  self.pid = os.fork()\n",
            "\u001b[34m\u001b[1mval: \u001b[0mScanning /content/valid/labels... 70 images, 0 backgrounds, 0 corrupt: 100%|██████████| 70/70 [00:00<00:00, 578.25it/s]"
          ]
        },
        {
          "metadata": {
            "tags": null
          },
          "name": "stdout",
          "output_type": "stream",
          "text": [
            "\u001b[34m\u001b[1mval: \u001b[0mNew cache created: /content/valid/labels.cache\n"
          ]
        },
        {
          "metadata": {
            "tags": null
          },
          "name": "stderr",
          "output_type": "stream",
          "text": [
            "\n"
          ]
        },
        {
          "metadata": {
            "tags": null
          },
          "name": "stdout",
          "output_type": "stream",
          "text": [
            "Plotting labels to runs/detect/train/labels.jpg... \n",
            "\u001b[34m\u001b[1moptimizer:\u001b[0m 'optimizer=auto' found, ignoring 'lr0=0.01' and 'momentum=0.937' and determining best 'optimizer', 'lr0' and 'momentum' automatically... \n",
            "\u001b[34m\u001b[1moptimizer:\u001b[0m AdamW(lr=0.001667, momentum=0.9) with parameter groups 95 weight(decay=0.0), 108 weight(decay=0.0005), 107 bias(decay=0.0)\n",
            "\u001b[34m\u001b[1mTensorBoard: \u001b[0mmodel graph visualization added ✅\n",
            "Image sizes 640 train, 640 val\n",
            "Using 2 dataloader workers\n",
            "Logging results to \u001b[1mruns/detect/train\u001b[0m\n",
            "Starting training for 100 epochs...\n",
            "\n",
            "      Epoch    GPU_mem   box_loss   cls_loss   dfl_loss  Instances       Size\n"
          ]
        },
        {
          "metadata": {
            "tags": null
          },
          "name": "stderr",
          "output_type": "stream",
          "text": [
            "      1/100      3.51G      1.974      7.336      2.656         32        640: 100%|██████████| 16/16 [00:11<00:00,  1.44it/s]\n",
            "                 Class     Images  Instances      Box(P          R      mAP50  mAP50-95): 100%|██████████| 3/3 [00:02<00:00,  1.28it/s]"
          ]
        },
        {
          "metadata": {
            "tags": null
          },
          "name": "stdout",
          "output_type": "stream",
          "text": [
            "                   all         70        218    0.00347      0.407       0.13        0.1\n"
          ]
        },
        {
          "metadata": {
            "tags": null
          },
          "name": "stderr",
          "output_type": "stream",
          "text": [
            "\n"
          ]
        },
        {
          "metadata": {
            "tags": null
          },
          "name": "stdout",
          "output_type": "stream",
          "text": [
            "\n",
            "      Epoch    GPU_mem   box_loss   cls_loss   dfl_loss  Instances       Size\n"
          ]
        },
        {
          "metadata": {
            "tags": null
          },
          "name": "stderr",
          "output_type": "stream",
          "text": [
            "      2/100       3.2G      1.998      5.367      2.531         26        640: 100%|██████████| 16/16 [00:05<00:00,  2.73it/s]\n",
            "                 Class     Images  Instances      Box(P          R      mAP50  mAP50-95): 100%|██████████| 3/3 [00:00<00:00,  3.07it/s]\n"
          ]
        },
        {
          "metadata": {
            "tags": null
          },
          "name": "stdout",
          "output_type": "stream",
          "text": [
            "                   all         70        218    0.00443      0.416      0.167      0.114\n",
            "\n",
            "      Epoch    GPU_mem   box_loss   cls_loss   dfl_loss  Instances       Size\n"
          ]
        },
        {
          "metadata": {
            "tags": null
          },
          "name": "stderr",
          "output_type": "stream",
          "text": [
            "      3/100      3.08G      2.088      4.774      2.609         34        640: 100%|██████████| 16/16 [00:08<00:00,  1.79it/s]\n",
            "                 Class     Images  Instances      Box(P          R      mAP50  mAP50-95): 100%|██████████| 3/3 [00:00<00:00,  4.56it/s]"
          ]
        },
        {
          "metadata": {
            "tags": null
          },
          "name": "stdout",
          "output_type": "stream",
          "text": [
            "                   all         70        218    0.00517      0.482      0.147     0.0807\n"
          ]
        },
        {
          "metadata": {
            "tags": null
          },
          "name": "stderr",
          "output_type": "stream",
          "text": [
            "\n"
          ]
        },
        {
          "metadata": {
            "tags": null
          },
          "name": "stdout",
          "output_type": "stream",
          "text": [
            "\n",
            "      Epoch    GPU_mem   box_loss   cls_loss   dfl_loss  Instances       Size\n"
          ]
        },
        {
          "metadata": {
            "tags": null
          },
          "name": "stderr",
          "output_type": "stream",
          "text": [
            "      4/100       3.2G        2.1      4.446      2.602         25        640: 100%|██████████| 16/16 [00:06<00:00,  2.51it/s]\n",
            "                 Class     Images  Instances      Box(P          R      mAP50  mAP50-95): 100%|██████████| 3/3 [00:01<00:00,  2.86it/s]\n"
          ]
        },
        {
          "metadata": {
            "tags": null
          },
          "name": "stdout",
          "output_type": "stream",
          "text": [
            "                   all         70        218      0.483      0.408      0.376      0.228\n",
            "\n",
            "      Epoch    GPU_mem   box_loss   cls_loss   dfl_loss  Instances       Size\n"
          ]
        },
        {
          "metadata": {
            "tags": null
          },
          "name": "stderr",
          "output_type": "stream",
          "text": [
            "      5/100      3.08G       2.22      4.426        2.7         26        640: 100%|██████████| 16/16 [00:04<00:00,  3.48it/s]\n",
            "                 Class     Images  Instances      Box(P          R      mAP50  mAP50-95): 100%|██████████| 3/3 [00:00<00:00,  5.33it/s]"
          ]
        },
        {
          "metadata": {
            "tags": null
          },
          "name": "stdout",
          "output_type": "stream",
          "text": [
            "                   all         70        218          1     0.0643      0.419      0.232\n"
          ]
        },
        {
          "metadata": {
            "tags": null
          },
          "name": "stderr",
          "output_type": "stream",
          "text": [
            "\n"
          ]
        },
        {
          "metadata": {
            "tags": null
          },
          "name": "stdout",
          "output_type": "stream",
          "text": [
            "\n",
            "      Epoch    GPU_mem   box_loss   cls_loss   dfl_loss  Instances       Size\n"
          ]
        },
        {
          "metadata": {
            "tags": null
          },
          "name": "stderr",
          "output_type": "stream",
          "text": [
            "      6/100      3.18G      2.298      4.404      2.752         19        640: 100%|██████████| 16/16 [00:05<00:00,  3.12it/s]\n",
            "                 Class     Images  Instances      Box(P          R      mAP50  mAP50-95): 100%|██████████| 3/3 [00:00<00:00,  3.58it/s]"
          ]
        },
        {
          "metadata": {
            "tags": null
          },
          "name": "stdout",
          "output_type": "stream",
          "text": [
            "                   all         70        218      0.776      0.103       0.34      0.177\n"
          ]
        },
        {
          "metadata": {
            "tags": null
          },
          "name": "stderr",
          "output_type": "stream",
          "text": [
            "\n"
          ]
        },
        {
          "metadata": {
            "tags": null
          },
          "name": "stdout",
          "output_type": "stream",
          "text": [
            "\n",
            "      Epoch    GPU_mem   box_loss   cls_loss   dfl_loss  Instances       Size\n"
          ]
        },
        {
          "metadata": {
            "tags": null
          },
          "name": "stderr",
          "output_type": "stream",
          "text": [
            "      7/100       3.2G      2.274      4.046      2.704         22        640: 100%|██████████| 16/16 [00:05<00:00,  2.80it/s]\n",
            "                 Class     Images  Instances      Box(P          R      mAP50  mAP50-95): 100%|██████████| 3/3 [00:00<00:00,  5.30it/s]"
          ]
        },
        {
          "metadata": {
            "tags": null
          },
          "name": "stdout",
          "output_type": "stream",
          "text": [
            "                   all         70        218      0.611     0.0574      0.216       0.12\n"
          ]
        },
        {
          "metadata": {
            "tags": null
          },
          "name": "stderr",
          "output_type": "stream",
          "text": [
            "\n"
          ]
        },
        {
          "metadata": {
            "tags": null
          },
          "name": "stdout",
          "output_type": "stream",
          "text": [
            "\n",
            "      Epoch    GPU_mem   box_loss   cls_loss   dfl_loss  Instances       Size\n"
          ]
        },
        {
          "metadata": {
            "tags": null
          },
          "name": "stderr",
          "output_type": "stream",
          "text": [
            "      8/100      3.08G       2.27      3.814      2.672         41        640: 100%|██████████| 16/16 [00:04<00:00,  3.50it/s]\n",
            "                 Class     Images  Instances      Box(P          R      mAP50  mAP50-95): 100%|██████████| 3/3 [00:00<00:00,  5.46it/s]"
          ]
        },
        {
          "metadata": {
            "tags": null
          },
          "name": "stdout",
          "output_type": "stream",
          "text": [
            "                   all         70        218      0.581      0.347      0.398      0.214\n"
          ]
        },
        {
          "metadata": {
            "tags": null
          },
          "name": "stderr",
          "output_type": "stream",
          "text": [
            "\n"
          ]
        },
        {
          "metadata": {
            "tags": null
          },
          "name": "stdout",
          "output_type": "stream",
          "text": [
            "\n",
            "      Epoch    GPU_mem   box_loss   cls_loss   dfl_loss  Instances       Size\n"
          ]
        },
        {
          "metadata": {
            "tags": null
          },
          "name": "stderr",
          "output_type": "stream",
          "text": [
            "      9/100       3.2G      2.242      3.612      2.639         28        640: 100%|██████████| 16/16 [00:07<00:00,  2.28it/s]\n",
            "                 Class     Images  Instances      Box(P          R      mAP50  mAP50-95): 100%|██████████| 3/3 [00:00<00:00,  5.37it/s]"
          ]
        },
        {
          "metadata": {
            "tags": null
          },
          "name": "stdout",
          "output_type": "stream",
          "text": [
            "                   all         70        218      0.654      0.358      0.447      0.233\n"
          ]
        },
        {
          "metadata": {
            "tags": null
          },
          "name": "stderr",
          "output_type": "stream",
          "text": [
            "\n"
          ]
        },
        {
          "metadata": {
            "tags": null
          },
          "name": "stdout",
          "output_type": "stream",
          "text": [
            "\n",
            "      Epoch    GPU_mem   box_loss   cls_loss   dfl_loss  Instances       Size\n"
          ]
        },
        {
          "metadata": {
            "tags": null
          },
          "name": "stderr",
          "output_type": "stream",
          "text": [
            "     10/100       3.2G      2.208      3.398      2.625         41        640: 100%|██████████| 16/16 [00:04<00:00,  3.56it/s]\n",
            "                 Class     Images  Instances      Box(P          R      mAP50  mAP50-95): 100%|██████████| 3/3 [00:00<00:00,  5.23it/s]"
          ]
        },
        {
          "metadata": {
            "tags": null
          },
          "name": "stdout",
          "output_type": "stream",
          "text": [
            "                   all         70        218      0.609      0.499      0.505      0.261\n"
          ]
        },
        {
          "metadata": {
            "tags": null
          },
          "name": "stderr",
          "output_type": "stream",
          "text": [
            "\n"
          ]
        },
        {
          "metadata": {
            "tags": null
          },
          "name": "stdout",
          "output_type": "stream",
          "text": [
            "\n",
            "      Epoch    GPU_mem   box_loss   cls_loss   dfl_loss  Instances       Size\n"
          ]
        },
        {
          "metadata": {
            "tags": null
          },
          "name": "stderr",
          "output_type": "stream",
          "text": [
            "     11/100      3.18G      2.197      3.374      2.653         18        640: 100%|██████████| 16/16 [00:06<00:00,  2.51it/s]\n",
            "                 Class     Images  Instances      Box(P          R      mAP50  mAP50-95): 100%|██████████| 3/3 [00:01<00:00,  2.94it/s]\n"
          ]
        },
        {
          "metadata": {
            "tags": null
          },
          "name": "stdout",
          "output_type": "stream",
          "text": [
            "                   all         70        218      0.588      0.532      0.511      0.305\n",
            "\n",
            "      Epoch    GPU_mem   box_loss   cls_loss   dfl_loss  Instances       Size\n"
          ]
        },
        {
          "metadata": {
            "tags": null
          },
          "name": "stderr",
          "output_type": "stream",
          "text": [
            "     12/100      3.07G      2.128      3.141      2.614         31        640: 100%|██████████| 16/16 [00:04<00:00,  3.47it/s]\n",
            "                 Class     Images  Instances      Box(P          R      mAP50  mAP50-95): 100%|██████████| 3/3 [00:00<00:00,  5.26it/s]"
          ]
        },
        {
          "metadata": {
            "tags": null
          },
          "name": "stdout",
          "output_type": "stream",
          "text": [
            "                   all         70        218       0.64      0.559      0.557      0.362\n"
          ]
        },
        {
          "metadata": {
            "tags": null
          },
          "name": "stderr",
          "output_type": "stream",
          "text": [
            "\n"
          ]
        },
        {
          "metadata": {
            "tags": null
          },
          "name": "stdout",
          "output_type": "stream",
          "text": [
            "\n",
            "      Epoch    GPU_mem   box_loss   cls_loss   dfl_loss  Instances       Size\n"
          ]
        },
        {
          "metadata": {
            "tags": null
          },
          "name": "stderr",
          "output_type": "stream",
          "text": [
            "     13/100       3.2G      2.148       3.19      2.596         22        640: 100%|██████████| 16/16 [00:05<00:00,  3.11it/s]\n",
            "                 Class     Images  Instances      Box(P          R      mAP50  mAP50-95): 100%|██████████| 3/3 [00:00<00:00,  3.36it/s]\n"
          ]
        },
        {
          "metadata": {
            "tags": null
          },
          "name": "stdout",
          "output_type": "stream",
          "text": [
            "                   all         70        218      0.486      0.494      0.461      0.269\n",
            "\n",
            "      Epoch    GPU_mem   box_loss   cls_loss   dfl_loss  Instances       Size\n"
          ]
        },
        {
          "metadata": {
            "tags": null
          },
          "name": "stderr",
          "output_type": "stream",
          "text": [
            "     14/100      3.21G      2.182      3.145      2.622         22        640: 100%|██████████| 16/16 [00:05<00:00,  2.76it/s]\n",
            "                 Class     Images  Instances      Box(P          R      mAP50  mAP50-95): 100%|██████████| 3/3 [00:00<00:00,  5.06it/s]"
          ]
        },
        {
          "metadata": {
            "tags": null
          },
          "name": "stdout",
          "output_type": "stream",
          "text": [
            "                   all         70        218      0.529       0.47      0.454      0.264\n"
          ]
        },
        {
          "metadata": {
            "tags": null
          },
          "name": "stderr",
          "output_type": "stream",
          "text": [
            "\n"
          ]
        },
        {
          "metadata": {
            "tags": null
          },
          "name": "stdout",
          "output_type": "stream",
          "text": [
            "\n",
            "      Epoch    GPU_mem   box_loss   cls_loss   dfl_loss  Instances       Size\n"
          ]
        },
        {
          "metadata": {
            "tags": null
          },
          "name": "stderr",
          "output_type": "stream",
          "text": [
            "     15/100      3.21G      2.095      2.954      2.569         29        640: 100%|██████████| 16/16 [00:04<00:00,  3.48it/s]\n",
            "                 Class     Images  Instances      Box(P          R      mAP50  mAP50-95): 100%|██████████| 3/3 [00:00<00:00,  5.34it/s]"
          ]
        },
        {
          "metadata": {
            "tags": null
          },
          "name": "stdout",
          "output_type": "stream",
          "text": [
            "                   all         70        218      0.628      0.573      0.626      0.414\n"
          ]
        },
        {
          "metadata": {
            "tags": null
          },
          "name": "stderr",
          "output_type": "stream",
          "text": [
            "\n"
          ]
        },
        {
          "metadata": {
            "tags": null
          },
          "name": "stdout",
          "output_type": "stream",
          "text": [
            "\n",
            "      Epoch    GPU_mem   box_loss   cls_loss   dfl_loss  Instances       Size\n"
          ]
        },
        {
          "metadata": {
            "tags": null
          },
          "name": "stderr",
          "output_type": "stream",
          "text": [
            "     16/100       3.2G      2.187      2.887      2.643         30        640: 100%|██████████| 16/16 [00:06<00:00,  2.43it/s]\n",
            "                 Class     Images  Instances      Box(P          R      mAP50  mAP50-95): 100%|██████████| 3/3 [00:00<00:00,  5.18it/s]"
          ]
        },
        {
          "metadata": {
            "tags": null
          },
          "name": "stdout",
          "output_type": "stream",
          "text": [
            "                   all         70        218      0.455       0.56      0.494      0.312\n"
          ]
        },
        {
          "metadata": {
            "tags": null
          },
          "name": "stderr",
          "output_type": "stream",
          "text": [
            "\n"
          ]
        },
        {
          "metadata": {
            "tags": null
          },
          "name": "stdout",
          "output_type": "stream",
          "text": [
            "\n",
            "      Epoch    GPU_mem   box_loss   cls_loss   dfl_loss  Instances       Size\n"
          ]
        },
        {
          "metadata": {
            "tags": null
          },
          "name": "stderr",
          "output_type": "stream",
          "text": [
            "     17/100       3.2G      2.075       2.77      2.573         37        640: 100%|██████████| 16/16 [00:04<00:00,  3.58it/s]\n",
            "                 Class     Images  Instances      Box(P          R      mAP50  mAP50-95): 100%|██████████| 3/3 [00:00<00:00,  4.84it/s]"
          ]
        },
        {
          "metadata": {
            "tags": null
          },
          "name": "stdout",
          "output_type": "stream",
          "text": [
            "                   all         70        218      0.659      0.613      0.661      0.453\n"
          ]
        },
        {
          "metadata": {
            "tags": null
          },
          "name": "stderr",
          "output_type": "stream",
          "text": [
            "\n"
          ]
        },
        {
          "metadata": {
            "tags": null
          },
          "name": "stdout",
          "output_type": "stream",
          "text": [
            "\n",
            "      Epoch    GPU_mem   box_loss   cls_loss   dfl_loss  Instances       Size\n"
          ]
        },
        {
          "metadata": {
            "tags": null
          },
          "name": "stderr",
          "output_type": "stream",
          "text": [
            "     18/100       3.1G      2.122      2.748      2.576         26        640: 100%|██████████| 16/16 [00:06<00:00,  2.37it/s]\n",
            "                 Class     Images  Instances      Box(P          R      mAP50  mAP50-95): 100%|██████████| 3/3 [00:00<00:00,  3.39it/s]"
          ]
        },
        {
          "metadata": {
            "tags": null
          },
          "name": "stdout",
          "output_type": "stream",
          "text": [
            "                   all         70        218      0.689      0.587       0.65       0.44\n"
          ]
        },
        {
          "metadata": {
            "tags": null
          },
          "name": "stderr",
          "output_type": "stream",
          "text": [
            "\n"
          ]
        },
        {
          "metadata": {
            "tags": null
          },
          "name": "stdout",
          "output_type": "stream",
          "text": [
            "\n",
            "      Epoch    GPU_mem   box_loss   cls_loss   dfl_loss  Instances       Size\n"
          ]
        },
        {
          "metadata": {
            "tags": null
          },
          "name": "stderr",
          "output_type": "stream",
          "text": [
            "     19/100      3.19G      2.011      2.581       2.52         39        640: 100%|██████████| 16/16 [00:04<00:00,  3.56it/s]\n",
            "                 Class     Images  Instances      Box(P          R      mAP50  mAP50-95): 100%|██████████| 3/3 [00:00<00:00,  5.22it/s]"
          ]
        },
        {
          "metadata": {
            "tags": null
          },
          "name": "stdout",
          "output_type": "stream",
          "text": [
            "                   all         70        218      0.626      0.643       0.66      0.429\n"
          ]
        },
        {
          "metadata": {
            "tags": null
          },
          "name": "stderr",
          "output_type": "stream",
          "text": [
            "\n"
          ]
        },
        {
          "metadata": {
            "tags": null
          },
          "name": "stdout",
          "output_type": "stream",
          "text": [
            "\n",
            "      Epoch    GPU_mem   box_loss   cls_loss   dfl_loss  Instances       Size\n"
          ]
        },
        {
          "metadata": {
            "tags": null
          },
          "name": "stderr",
          "output_type": "stream",
          "text": [
            "     20/100       3.2G      2.028      2.528      2.493         33        640: 100%|██████████| 16/16 [00:05<00:00,  3.02it/s]\n",
            "                 Class     Images  Instances      Box(P          R      mAP50  mAP50-95): 100%|██████████| 3/3 [00:00<00:00,  3.07it/s]\n"
          ]
        },
        {
          "metadata": {
            "tags": null
          },
          "name": "stdout",
          "output_type": "stream",
          "text": [
            "                   all         70        218      0.733      0.581      0.627      0.415\n",
            "\n",
            "      Epoch    GPU_mem   box_loss   cls_loss   dfl_loss  Instances       Size\n"
          ]
        },
        {
          "metadata": {
            "tags": null
          },
          "name": "stderr",
          "output_type": "stream",
          "text": [
            "     21/100      3.21G      1.972      2.424      2.477         23        640: 100%|██████████| 16/16 [00:05<00:00,  3.10it/s]\n",
            "                 Class     Images  Instances      Box(P          R      mAP50  mAP50-95): 100%|██████████| 3/3 [00:00<00:00,  5.39it/s]"
          ]
        },
        {
          "metadata": {
            "tags": null
          },
          "name": "stdout",
          "output_type": "stream",
          "text": [
            "                   all         70        218      0.737      0.598      0.632       0.42\n"
          ]
        },
        {
          "metadata": {
            "tags": null
          },
          "name": "stderr",
          "output_type": "stream",
          "text": [
            "\n"
          ]
        },
        {
          "metadata": {
            "tags": null
          },
          "name": "stdout",
          "output_type": "stream",
          "text": [
            "\n",
            "      Epoch    GPU_mem   box_loss   cls_loss   dfl_loss  Instances       Size\n"
          ]
        },
        {
          "metadata": {
            "tags": null
          },
          "name": "stderr",
          "output_type": "stream",
          "text": [
            "     22/100      3.18G      2.137       2.51      2.555         24        640: 100%|██████████| 16/16 [00:04<00:00,  3.60it/s]\n",
            "                 Class     Images  Instances      Box(P          R      mAP50  mAP50-95): 100%|██████████| 3/3 [00:00<00:00,  4.84it/s]"
          ]
        },
        {
          "metadata": {
            "tags": null
          },
          "name": "stdout",
          "output_type": "stream",
          "text": [
            "                   all         70        218      0.691      0.602      0.664      0.436\n"
          ]
        },
        {
          "metadata": {
            "tags": null
          },
          "name": "stderr",
          "output_type": "stream",
          "text": [
            "\n"
          ]
        },
        {
          "metadata": {
            "tags": null
          },
          "name": "stdout",
          "output_type": "stream",
          "text": [
            "\n",
            "      Epoch    GPU_mem   box_loss   cls_loss   dfl_loss  Instances       Size\n"
          ]
        },
        {
          "metadata": {
            "tags": null
          },
          "name": "stderr",
          "output_type": "stream",
          "text": [
            "     23/100      3.21G      2.008      2.436      2.493         37        640: 100%|██████████| 16/16 [00:08<00:00,  1.94it/s]\n",
            "                 Class     Images  Instances      Box(P          R      mAP50  mAP50-95): 100%|██████████| 3/3 [00:00<00:00,  3.49it/s]\n"
          ]
        },
        {
          "metadata": {
            "tags": null
          },
          "name": "stdout",
          "output_type": "stream",
          "text": [
            "                   all         70        218      0.767      0.583      0.674      0.463\n",
            "\n",
            "      Epoch    GPU_mem   box_loss   cls_loss   dfl_loss  Instances       Size\n"
          ]
        },
        {
          "metadata": {
            "tags": null
          },
          "name": "stderr",
          "output_type": "stream",
          "text": [
            "     24/100      3.21G          2      2.321      2.505         22        640: 100%|██████████| 16/16 [00:04<00:00,  3.27it/s]\n",
            "                 Class     Images  Instances      Box(P          R      mAP50  mAP50-95): 100%|██████████| 3/3 [00:00<00:00,  5.28it/s]"
          ]
        },
        {
          "metadata": {
            "tags": null
          },
          "name": "stdout",
          "output_type": "stream",
          "text": [
            "                   all         70        218      0.793      0.625      0.702      0.481\n"
          ]
        },
        {
          "metadata": {
            "tags": null
          },
          "name": "stderr",
          "output_type": "stream",
          "text": [
            "\n"
          ]
        },
        {
          "metadata": {
            "tags": null
          },
          "name": "stdout",
          "output_type": "stream",
          "text": [
            "\n",
            "      Epoch    GPU_mem   box_loss   cls_loss   dfl_loss  Instances       Size\n"
          ]
        },
        {
          "metadata": {
            "tags": null
          },
          "name": "stderr",
          "output_type": "stream",
          "text": [
            "     25/100       3.2G      1.943      2.333      2.515         39        640: 100%|██████████| 16/16 [00:07<00:00,  2.26it/s]\n",
            "                 Class     Images  Instances      Box(P          R      mAP50  mAP50-95): 100%|██████████| 3/3 [00:00<00:00,  3.48it/s]"
          ]
        },
        {
          "metadata": {
            "tags": null
          },
          "name": "stdout",
          "output_type": "stream",
          "text": [
            "                   all         70        218      0.661      0.709      0.739       0.52\n"
          ]
        },
        {
          "metadata": {
            "tags": null
          },
          "name": "stderr",
          "output_type": "stream",
          "text": [
            "\n"
          ]
        },
        {
          "metadata": {
            "tags": null
          },
          "name": "stdout",
          "output_type": "stream",
          "text": [
            "\n",
            "      Epoch    GPU_mem   box_loss   cls_loss   dfl_loss  Instances       Size\n"
          ]
        },
        {
          "metadata": {
            "tags": null
          },
          "name": "stderr",
          "output_type": "stream",
          "text": [
            "     26/100       3.2G      1.877      2.153      2.426         31        640: 100%|██████████| 16/16 [00:04<00:00,  3.60it/s]\n",
            "                 Class     Images  Instances      Box(P          R      mAP50  mAP50-95): 100%|██████████| 3/3 [00:00<00:00,  5.19it/s]"
          ]
        },
        {
          "metadata": {
            "tags": null
          },
          "name": "stdout",
          "output_type": "stream",
          "text": [
            "                   all         70        218      0.715      0.659      0.719       0.52\n"
          ]
        },
        {
          "metadata": {
            "tags": null
          },
          "name": "stderr",
          "output_type": "stream",
          "text": [
            "\n"
          ]
        },
        {
          "metadata": {
            "tags": null
          },
          "name": "stdout",
          "output_type": "stream",
          "text": [
            "\n",
            "      Epoch    GPU_mem   box_loss   cls_loss   dfl_loss  Instances       Size\n"
          ]
        },
        {
          "metadata": {
            "tags": null
          },
          "name": "stderr",
          "output_type": "stream",
          "text": [
            "     27/100      3.07G       1.87      2.215      2.475         22        640: 100%|██████████| 16/16 [00:05<00:00,  3.11it/s]\n",
            "                 Class     Images  Instances      Box(P          R      mAP50  mAP50-95): 100%|██████████| 3/3 [00:00<00:00,  3.77it/s]"
          ]
        },
        {
          "metadata": {
            "tags": null
          },
          "name": "stdout",
          "output_type": "stream",
          "text": [
            "                   all         70        218      0.751      0.686       0.76      0.541\n"
          ]
        },
        {
          "metadata": {
            "tags": null
          },
          "name": "stderr",
          "output_type": "stream",
          "text": [
            "\n"
          ]
        },
        {
          "metadata": {
            "tags": null
          },
          "name": "stdout",
          "output_type": "stream",
          "text": [
            "\n",
            "      Epoch    GPU_mem   box_loss   cls_loss   dfl_loss  Instances       Size\n"
          ]
        },
        {
          "metadata": {
            "tags": null
          },
          "name": "stderr",
          "output_type": "stream",
          "text": [
            "     28/100       3.2G      1.887      2.094      2.443         45        640: 100%|██████████| 16/16 [00:05<00:00,  2.89it/s]\n",
            "                 Class     Images  Instances      Box(P          R      mAP50  mAP50-95): 100%|██████████| 3/3 [00:00<00:00,  5.18it/s]"
          ]
        },
        {
          "metadata": {
            "tags": null
          },
          "name": "stdout",
          "output_type": "stream",
          "text": [
            "                   all         70        218      0.652      0.712      0.711      0.496\n"
          ]
        },
        {
          "metadata": {
            "tags": null
          },
          "name": "stderr",
          "output_type": "stream",
          "text": [
            "\n"
          ]
        },
        {
          "metadata": {
            "tags": null
          },
          "name": "stdout",
          "output_type": "stream",
          "text": [
            "\n",
            "      Epoch    GPU_mem   box_loss   cls_loss   dfl_loss  Instances       Size\n"
          ]
        },
        {
          "metadata": {
            "tags": null
          },
          "name": "stderr",
          "output_type": "stream",
          "text": [
            "     29/100      3.09G      1.878      2.107      2.447         45        640: 100%|██████████| 16/16 [00:04<00:00,  3.61it/s]\n",
            "                 Class     Images  Instances      Box(P          R      mAP50  mAP50-95): 100%|██████████| 3/3 [00:00<00:00,  5.43it/s]"
          ]
        },
        {
          "metadata": {
            "tags": null
          },
          "name": "stdout",
          "output_type": "stream",
          "text": [
            "                   all         70        218        0.7      0.633      0.701      0.481\n"
          ]
        },
        {
          "metadata": {
            "tags": null
          },
          "name": "stderr",
          "output_type": "stream",
          "text": [
            "\n"
          ]
        },
        {
          "metadata": {
            "tags": null
          },
          "name": "stdout",
          "output_type": "stream",
          "text": [
            "\n",
            "      Epoch    GPU_mem   box_loss   cls_loss   dfl_loss  Instances       Size\n"
          ]
        },
        {
          "metadata": {
            "tags": null
          },
          "name": "stderr",
          "output_type": "stream",
          "text": [
            "     30/100      3.21G      1.844      2.124      2.438         20        640: 100%|██████████| 16/16 [00:07<00:00,  2.21it/s]\n",
            "                 Class     Images  Instances      Box(P          R      mAP50  mAP50-95): 100%|██████████| 3/3 [00:00<00:00,  5.26it/s]"
          ]
        },
        {
          "metadata": {
            "tags": null
          },
          "name": "stdout",
          "output_type": "stream",
          "text": [
            "                   all         70        218      0.753      0.658      0.717      0.531\n"
          ]
        },
        {
          "metadata": {
            "tags": null
          },
          "name": "stderr",
          "output_type": "stream",
          "text": [
            "\n"
          ]
        },
        {
          "metadata": {
            "tags": null
          },
          "name": "stdout",
          "output_type": "stream",
          "text": [
            "\n",
            "      Epoch    GPU_mem   box_loss   cls_loss   dfl_loss  Instances       Size\n"
          ]
        },
        {
          "metadata": {
            "tags": null
          },
          "name": "stderr",
          "output_type": "stream",
          "text": [
            "     31/100       3.2G      1.869      2.102      2.398         21        640: 100%|██████████| 16/16 [00:04<00:00,  3.46it/s]\n",
            "                 Class     Images  Instances      Box(P          R      mAP50  mAP50-95): 100%|██████████| 3/3 [00:00<00:00,  5.32it/s]"
          ]
        },
        {
          "metadata": {
            "tags": null
          },
          "name": "stdout",
          "output_type": "stream",
          "text": [
            "                   all         70        218      0.728      0.646      0.713      0.506\n"
          ]
        },
        {
          "metadata": {
            "tags": null
          },
          "name": "stderr",
          "output_type": "stream",
          "text": [
            "\n"
          ]
        },
        {
          "metadata": {
            "tags": null
          },
          "name": "stdout",
          "output_type": "stream",
          "text": [
            "\n",
            "      Epoch    GPU_mem   box_loss   cls_loss   dfl_loss  Instances       Size\n"
          ]
        },
        {
          "metadata": {
            "tags": null
          },
          "name": "stderr",
          "output_type": "stream",
          "text": [
            "     32/100       3.2G      1.929      2.055      2.446         23        640: 100%|██████████| 16/16 [00:05<00:00,  2.70it/s]\n",
            "                 Class     Images  Instances      Box(P          R      mAP50  mAP50-95): 100%|██████████| 3/3 [00:00<00:00,  3.24it/s]"
          ]
        },
        {
          "metadata": {
            "tags": null
          },
          "name": "stdout",
          "output_type": "stream",
          "text": [
            "                   all         70        218      0.803      0.624      0.708      0.501\n"
          ]
        },
        {
          "metadata": {
            "tags": null
          },
          "name": "stderr",
          "output_type": "stream",
          "text": [
            "\n"
          ]
        },
        {
          "metadata": {
            "tags": null
          },
          "name": "stdout",
          "output_type": "stream",
          "text": [
            "\n",
            "      Epoch    GPU_mem   box_loss   cls_loss   dfl_loss  Instances       Size\n"
          ]
        },
        {
          "metadata": {
            "tags": null
          },
          "name": "stderr",
          "output_type": "stream",
          "text": [
            "     33/100      3.09G       1.86      1.988      2.393         32        640: 100%|██████████| 16/16 [00:05<00:00,  3.11it/s]\n",
            "                 Class     Images  Instances      Box(P          R      mAP50  mAP50-95): 100%|██████████| 3/3 [00:00<00:00,  3.63it/s]"
          ]
        },
        {
          "metadata": {
            "tags": null
          },
          "name": "stdout",
          "output_type": "stream",
          "text": [
            "                   all         70        218       0.81      0.597      0.721      0.513\n"
          ]
        },
        {
          "metadata": {
            "tags": null
          },
          "name": "stderr",
          "output_type": "stream",
          "text": [
            "\n"
          ]
        },
        {
          "metadata": {
            "tags": null
          },
          "name": "stdout",
          "output_type": "stream",
          "text": [
            "\n",
            "      Epoch    GPU_mem   box_loss   cls_loss   dfl_loss  Instances       Size\n"
          ]
        },
        {
          "metadata": {
            "tags": null
          },
          "name": "stderr",
          "output_type": "stream",
          "text": [
            "     34/100       3.2G      1.863      2.016      2.371         28        640: 100%|██████████| 16/16 [00:07<00:00,  2.13it/s]\n",
            "                 Class     Images  Instances      Box(P          R      mAP50  mAP50-95): 100%|██████████| 3/3 [00:00<00:00,  3.38it/s]"
          ]
        },
        {
          "metadata": {
            "tags": null
          },
          "name": "stdout",
          "output_type": "stream",
          "text": [
            "                   all         70        218      0.776      0.618      0.712      0.507\n"
          ]
        },
        {
          "metadata": {
            "tags": null
          },
          "name": "stderr",
          "output_type": "stream",
          "text": [
            "\n"
          ]
        },
        {
          "metadata": {
            "tags": null
          },
          "name": "stdout",
          "output_type": "stream",
          "text": [
            "\n",
            "      Epoch    GPU_mem   box_loss   cls_loss   dfl_loss  Instances       Size\n"
          ]
        },
        {
          "metadata": {
            "tags": null
          },
          "name": "stderr",
          "output_type": "stream",
          "text": [
            "     35/100       3.2G      1.801      2.018       2.37         31        640: 100%|██████████| 16/16 [00:04<00:00,  3.44it/s]\n",
            "                 Class     Images  Instances      Box(P          R      mAP50  mAP50-95): 100%|██████████| 3/3 [00:00<00:00,  5.34it/s]"
          ]
        },
        {
          "metadata": {
            "tags": null
          },
          "name": "stdout",
          "output_type": "stream",
          "text": [
            "                   all         70        218      0.752      0.612      0.706      0.497\n"
          ]
        },
        {
          "metadata": {
            "tags": null
          },
          "name": "stderr",
          "output_type": "stream",
          "text": [
            "\n"
          ]
        },
        {
          "metadata": {
            "tags": null
          },
          "name": "stdout",
          "output_type": "stream",
          "text": [
            "\n",
            "      Epoch    GPU_mem   box_loss   cls_loss   dfl_loss  Instances       Size\n"
          ]
        },
        {
          "metadata": {
            "tags": null
          },
          "name": "stderr",
          "output_type": "stream",
          "text": [
            "     36/100      3.21G      1.853      1.931      2.395         41        640: 100%|██████████| 16/16 [00:04<00:00,  3.35it/s]\n",
            "                 Class     Images  Instances      Box(P          R      mAP50  mAP50-95): 100%|██████████| 3/3 [00:00<00:00,  3.04it/s]"
          ]
        },
        {
          "metadata": {
            "tags": null
          },
          "name": "stdout",
          "output_type": "stream",
          "text": [
            "                   all         70        218       0.71      0.722       0.75       0.55\n"
          ]
        },
        {
          "metadata": {
            "tags": null
          },
          "name": "stderr",
          "output_type": "stream",
          "text": [
            "\n"
          ]
        },
        {
          "metadata": {
            "tags": null
          },
          "name": "stdout",
          "output_type": "stream",
          "text": [
            "\n",
            "      Epoch    GPU_mem   box_loss   cls_loss   dfl_loss  Instances       Size\n"
          ]
        },
        {
          "metadata": {
            "tags": null
          },
          "name": "stderr",
          "output_type": "stream",
          "text": [
            "     37/100       3.2G      1.746      1.843      2.333         32        640: 100%|██████████| 16/16 [00:08<00:00,  1.99it/s]\n",
            "                 Class     Images  Instances      Box(P          R      mAP50  mAP50-95): 100%|██████████| 3/3 [00:00<00:00,  3.77it/s]"
          ]
        },
        {
          "metadata": {
            "tags": null
          },
          "name": "stdout",
          "output_type": "stream",
          "text": [
            "                   all         70        218      0.779      0.694      0.749      0.527\n"
          ]
        },
        {
          "metadata": {
            "tags": null
          },
          "name": "stderr",
          "output_type": "stream",
          "text": [
            "\n"
          ]
        },
        {
          "metadata": {
            "tags": null
          },
          "name": "stdout",
          "output_type": "stream",
          "text": [
            "\n",
            "      Epoch    GPU_mem   box_loss   cls_loss   dfl_loss  Instances       Size\n"
          ]
        },
        {
          "metadata": {
            "tags": null
          },
          "name": "stderr",
          "output_type": "stream",
          "text": [
            "     38/100       3.2G      1.718      1.793      2.313         30        640: 100%|██████████| 16/16 [00:04<00:00,  3.57it/s]\n",
            "                 Class     Images  Instances      Box(P          R      mAP50  mAP50-95): 100%|██████████| 3/3 [00:00<00:00,  5.19it/s]"
          ]
        },
        {
          "metadata": {
            "tags": null
          },
          "name": "stdout",
          "output_type": "stream",
          "text": [
            "                   all         70        218      0.824      0.649      0.746       0.54\n"
          ]
        },
        {
          "metadata": {
            "tags": null
          },
          "name": "stderr",
          "output_type": "stream",
          "text": [
            "\n"
          ]
        },
        {
          "metadata": {
            "tags": null
          },
          "name": "stdout",
          "output_type": "stream",
          "text": [
            "\n",
            "      Epoch    GPU_mem   box_loss   cls_loss   dfl_loss  Instances       Size\n"
          ]
        },
        {
          "metadata": {
            "tags": null
          },
          "name": "stderr",
          "output_type": "stream",
          "text": [
            "     39/100       3.2G      1.727      1.826       2.35         29        640: 100%|██████████| 16/16 [00:06<00:00,  2.31it/s]\n",
            "                 Class     Images  Instances      Box(P          R      mAP50  mAP50-95): 100%|██████████| 3/3 [00:00<00:00,  5.28it/s]"
          ]
        },
        {
          "metadata": {
            "tags": null
          },
          "name": "stdout",
          "output_type": "stream",
          "text": [
            "                   all         70        218      0.746       0.71      0.753      0.535\n"
          ]
        },
        {
          "metadata": {
            "tags": null
          },
          "name": "stderr",
          "output_type": "stream",
          "text": [
            "\n"
          ]
        },
        {
          "metadata": {
            "tags": null
          },
          "name": "stdout",
          "output_type": "stream",
          "text": [
            "\n",
            "      Epoch    GPU_mem   box_loss   cls_loss   dfl_loss  Instances       Size\n"
          ]
        },
        {
          "metadata": {
            "tags": null
          },
          "name": "stderr",
          "output_type": "stream",
          "text": [
            "     40/100       3.2G      1.792      1.867      2.347         37        640: 100%|██████████| 16/16 [00:04<00:00,  3.62it/s]\n",
            "                 Class     Images  Instances      Box(P          R      mAP50  mAP50-95): 100%|██████████| 3/3 [00:00<00:00,  5.11it/s]"
          ]
        },
        {
          "metadata": {
            "tags": null
          },
          "name": "stdout",
          "output_type": "stream",
          "text": [
            "                   all         70        218       0.68       0.76      0.752       0.56\n"
          ]
        },
        {
          "metadata": {
            "tags": null
          },
          "name": "stderr",
          "output_type": "stream",
          "text": [
            "\n"
          ]
        },
        {
          "metadata": {
            "tags": null
          },
          "name": "stdout",
          "output_type": "stream",
          "text": [
            "\n",
            "      Epoch    GPU_mem   box_loss   cls_loss   dfl_loss  Instances       Size\n"
          ]
        },
        {
          "metadata": {
            "tags": null
          },
          "name": "stderr",
          "output_type": "stream",
          "text": [
            "     41/100       3.2G      1.739      1.818      2.342         22        640: 100%|██████████| 16/16 [00:06<00:00,  2.57it/s]\n",
            "                 Class     Images  Instances      Box(P          R      mAP50  mAP50-95): 100%|██████████| 3/3 [00:01<00:00,  2.88it/s]\n"
          ]
        },
        {
          "metadata": {
            "tags": null
          },
          "name": "stdout",
          "output_type": "stream",
          "text": [
            "                   all         70        218      0.782      0.706       0.75      0.545\n",
            "\n",
            "      Epoch    GPU_mem   box_loss   cls_loss   dfl_loss  Instances       Size\n"
          ]
        },
        {
          "metadata": {
            "tags": null
          },
          "name": "stderr",
          "output_type": "stream",
          "text": [
            "     42/100       3.2G      1.666      1.767      2.338         33        640: 100%|██████████| 16/16 [00:04<00:00,  3.59it/s]\n",
            "                 Class     Images  Instances      Box(P          R      mAP50  mAP50-95): 100%|██████████| 3/3 [00:00<00:00,  5.47it/s]"
          ]
        },
        {
          "metadata": {
            "tags": null
          },
          "name": "stdout",
          "output_type": "stream",
          "text": [
            "                   all         70        218      0.871      0.676      0.765      0.532\n"
          ]
        },
        {
          "metadata": {
            "tags": null
          },
          "name": "stderr",
          "output_type": "stream",
          "text": [
            "\n"
          ]
        },
        {
          "metadata": {
            "tags": null
          },
          "name": "stdout",
          "output_type": "stream",
          "text": [
            "\n",
            "      Epoch    GPU_mem   box_loss   cls_loss   dfl_loss  Instances       Size\n"
          ]
        },
        {
          "metadata": {
            "tags": null
          },
          "name": "stderr",
          "output_type": "stream",
          "text": [
            "     43/100       3.2G      1.744      1.741      2.344         25        640: 100%|██████████| 16/16 [00:05<00:00,  3.19it/s]\n",
            "                 Class     Images  Instances      Box(P          R      mAP50  mAP50-95): 100%|██████████| 3/3 [00:00<00:00,  3.91it/s]"
          ]
        },
        {
          "metadata": {
            "tags": null
          },
          "name": "stdout",
          "output_type": "stream",
          "text": [
            "                   all         70        218      0.823      0.653      0.761      0.529\n"
          ]
        },
        {
          "metadata": {
            "tags": null
          },
          "name": "stderr",
          "output_type": "stream",
          "text": [
            "\n"
          ]
        },
        {
          "metadata": {
            "tags": null
          },
          "name": "stdout",
          "output_type": "stream",
          "text": [
            "\n",
            "      Epoch    GPU_mem   box_loss   cls_loss   dfl_loss  Instances       Size\n"
          ]
        },
        {
          "metadata": {
            "tags": null
          },
          "name": "stderr",
          "output_type": "stream",
          "text": [
            "     44/100       3.2G      1.755      1.781      2.285         39        640: 100%|██████████| 16/16 [00:05<00:00,  2.87it/s]\n",
            "                 Class     Images  Instances      Box(P          R      mAP50  mAP50-95): 100%|██████████| 3/3 [00:00<00:00,  5.21it/s]"
          ]
        },
        {
          "metadata": {
            "tags": null
          },
          "name": "stdout",
          "output_type": "stream",
          "text": [
            "                   all         70        218      0.768      0.674      0.768      0.523\n"
          ]
        },
        {
          "metadata": {
            "tags": null
          },
          "name": "stderr",
          "output_type": "stream",
          "text": [
            "\n"
          ]
        },
        {
          "metadata": {
            "tags": null
          },
          "name": "stdout",
          "output_type": "stream",
          "text": [
            "\n",
            "      Epoch    GPU_mem   box_loss   cls_loss   dfl_loss  Instances       Size\n"
          ]
        },
        {
          "metadata": {
            "tags": null
          },
          "name": "stderr",
          "output_type": "stream",
          "text": [
            "     45/100       3.2G      1.659      1.668      2.264         30        640: 100%|██████████| 16/16 [00:04<00:00,  3.67it/s]\n",
            "                 Class     Images  Instances      Box(P          R      mAP50  mAP50-95): 100%|██████████| 3/3 [00:00<00:00,  4.44it/s]"
          ]
        },
        {
          "metadata": {
            "tags": null
          },
          "name": "stdout",
          "output_type": "stream",
          "text": [
            "                   all         70        218      0.774      0.702      0.759      0.557\n"
          ]
        },
        {
          "metadata": {
            "tags": null
          },
          "name": "stderr",
          "output_type": "stream",
          "text": [
            "\n"
          ]
        },
        {
          "metadata": {
            "tags": null
          },
          "name": "stdout",
          "output_type": "stream",
          "text": [
            "\n",
            "      Epoch    GPU_mem   box_loss   cls_loss   dfl_loss  Instances       Size\n"
          ]
        },
        {
          "metadata": {
            "tags": null
          },
          "name": "stderr",
          "output_type": "stream",
          "text": [
            "     46/100       3.2G      1.697       1.68      2.282         33        640: 100%|██████████| 16/16 [00:06<00:00,  2.36it/s]\n",
            "                 Class     Images  Instances      Box(P          R      mAP50  mAP50-95): 100%|██████████| 3/3 [00:00<00:00,  4.43it/s]"
          ]
        },
        {
          "metadata": {
            "tags": null
          },
          "name": "stdout",
          "output_type": "stream",
          "text": [
            "                   all         70        218      0.775      0.662      0.759      0.542\n"
          ]
        },
        {
          "metadata": {
            "tags": null
          },
          "name": "stderr",
          "output_type": "stream",
          "text": [
            "\n"
          ]
        },
        {
          "metadata": {
            "tags": null
          },
          "name": "stdout",
          "output_type": "stream",
          "text": [
            "\n",
            "      Epoch    GPU_mem   box_loss   cls_loss   dfl_loss  Instances       Size\n"
          ]
        },
        {
          "metadata": {
            "tags": null
          },
          "name": "stderr",
          "output_type": "stream",
          "text": [
            "     47/100       3.2G      1.669      1.633      2.312         22        640: 100%|██████████| 16/16 [00:04<00:00,  3.59it/s]\n",
            "                 Class     Images  Instances      Box(P          R      mAP50  mAP50-95): 100%|██████████| 3/3 [00:00<00:00,  5.10it/s]"
          ]
        },
        {
          "metadata": {
            "tags": null
          },
          "name": "stdout",
          "output_type": "stream",
          "text": [
            "                   all         70        218      0.797      0.711       0.78      0.567\n"
          ]
        },
        {
          "metadata": {
            "tags": null
          },
          "name": "stderr",
          "output_type": "stream",
          "text": [
            "\n"
          ]
        },
        {
          "metadata": {
            "tags": null
          },
          "name": "stdout",
          "output_type": "stream",
          "text": [
            "\n",
            "      Epoch    GPU_mem   box_loss   cls_loss   dfl_loss  Instances       Size\n"
          ]
        },
        {
          "metadata": {
            "tags": null
          },
          "name": "stderr",
          "output_type": "stream",
          "text": [
            "     48/100       3.2G      1.607      1.631      2.284         23        640: 100%|██████████| 16/16 [00:06<00:00,  2.56it/s]\n",
            "                 Class     Images  Instances      Box(P          R      mAP50  mAP50-95): 100%|██████████| 3/3 [00:00<00:00,  3.03it/s]"
          ]
        },
        {
          "metadata": {
            "tags": null
          },
          "name": "stdout",
          "output_type": "stream",
          "text": [
            "                   all         70        218      0.851      0.688      0.794      0.562\n"
          ]
        },
        {
          "metadata": {
            "tags": null
          },
          "name": "stderr",
          "output_type": "stream",
          "text": [
            "\n"
          ]
        },
        {
          "metadata": {
            "tags": null
          },
          "name": "stdout",
          "output_type": "stream",
          "text": [
            "\n",
            "      Epoch    GPU_mem   box_loss   cls_loss   dfl_loss  Instances       Size\n"
          ]
        },
        {
          "metadata": {
            "tags": null
          },
          "name": "stderr",
          "output_type": "stream",
          "text": [
            "     49/100      3.18G      1.614      1.589      2.245         28        640: 100%|██████████| 16/16 [00:04<00:00,  3.58it/s]\n",
            "                 Class     Images  Instances      Box(P          R      mAP50  mAP50-95): 100%|██████████| 3/3 [00:00<00:00,  4.64it/s]"
          ]
        },
        {
          "metadata": {
            "tags": null
          },
          "name": "stdout",
          "output_type": "stream",
          "text": [
            "                   all         70        218      0.806      0.724      0.784      0.533\n"
          ]
        },
        {
          "metadata": {
            "tags": null
          },
          "name": "stderr",
          "output_type": "stream",
          "text": [
            "\n"
          ]
        },
        {
          "metadata": {
            "tags": null
          },
          "name": "stdout",
          "output_type": "stream",
          "text": [
            "\n",
            "      Epoch    GPU_mem   box_loss   cls_loss   dfl_loss  Instances       Size\n"
          ]
        },
        {
          "metadata": {
            "tags": null
          },
          "name": "stderr",
          "output_type": "stream",
          "text": [
            "     50/100       3.2G      1.674      1.663      2.261         28        640: 100%|██████████| 16/16 [00:04<00:00,  3.50it/s]\n",
            "                 Class     Images  Instances      Box(P          R      mAP50  mAP50-95): 100%|██████████| 3/3 [00:00<00:00,  3.64it/s]"
          ]
        },
        {
          "metadata": {
            "tags": null
          },
          "name": "stdout",
          "output_type": "stream",
          "text": [
            "                   all         70        218      0.802      0.676       0.77      0.542\n"
          ]
        },
        {
          "metadata": {
            "tags": null
          },
          "name": "stderr",
          "output_type": "stream",
          "text": [
            "\n"
          ]
        },
        {
          "metadata": {
            "tags": null
          },
          "name": "stdout",
          "output_type": "stream",
          "text": [
            "\n",
            "      Epoch    GPU_mem   box_loss   cls_loss   dfl_loss  Instances       Size\n"
          ]
        },
        {
          "metadata": {
            "tags": null
          },
          "name": "stderr",
          "output_type": "stream",
          "text": [
            "     51/100       3.2G      1.716      1.677      2.279         33        640: 100%|██████████| 16/16 [00:06<00:00,  2.54it/s]\n",
            "                 Class     Images  Instances      Box(P          R      mAP50  mAP50-95): 100%|██████████| 3/3 [00:00<00:00,  5.44it/s]"
          ]
        },
        {
          "metadata": {
            "tags": null
          },
          "name": "stdout",
          "output_type": "stream",
          "text": [
            "                   all         70        218      0.728      0.673      0.734      0.509\n"
          ]
        },
        {
          "metadata": {
            "tags": null
          },
          "name": "stderr",
          "output_type": "stream",
          "text": [
            "\n"
          ]
        },
        {
          "metadata": {
            "tags": null
          },
          "name": "stdout",
          "output_type": "stream",
          "text": [
            "\n",
            "      Epoch    GPU_mem   box_loss   cls_loss   dfl_loss  Instances       Size\n"
          ]
        },
        {
          "metadata": {
            "tags": null
          },
          "name": "stderr",
          "output_type": "stream",
          "text": [
            "     52/100       3.2G      1.627      1.532      2.234         20        640: 100%|██████████| 16/16 [00:04<00:00,  3.62it/s]\n",
            "                 Class     Images  Instances      Box(P          R      mAP50  mAP50-95): 100%|██████████| 3/3 [00:00<00:00,  5.14it/s]"
          ]
        },
        {
          "metadata": {
            "tags": null
          },
          "name": "stdout",
          "output_type": "stream",
          "text": [
            "                   all         70        218      0.823      0.684      0.758      0.546\n"
          ]
        },
        {
          "metadata": {
            "tags": null
          },
          "name": "stderr",
          "output_type": "stream",
          "text": [
            "\n"
          ]
        },
        {
          "metadata": {
            "tags": null
          },
          "name": "stdout",
          "output_type": "stream",
          "text": [
            "\n",
            "      Epoch    GPU_mem   box_loss   cls_loss   dfl_loss  Instances       Size\n"
          ]
        },
        {
          "metadata": {
            "tags": null
          },
          "name": "stderr",
          "output_type": "stream",
          "text": [
            "     53/100       3.2G      1.566      1.588      2.232         25        640: 100%|██████████| 16/16 [00:07<00:00,  2.28it/s]\n",
            "                 Class     Images  Instances      Box(P          R      mAP50  mAP50-95): 100%|██████████| 3/3 [00:00<00:00,  3.67it/s]"
          ]
        },
        {
          "metadata": {
            "tags": null
          },
          "name": "stdout",
          "output_type": "stream",
          "text": [
            "                   all         70        218      0.795      0.705       0.78      0.568\n"
          ]
        },
        {
          "metadata": {
            "tags": null
          },
          "name": "stderr",
          "output_type": "stream",
          "text": [
            "\n"
          ]
        },
        {
          "metadata": {
            "tags": null
          },
          "name": "stdout",
          "output_type": "stream",
          "text": [
            "\n",
            "      Epoch    GPU_mem   box_loss   cls_loss   dfl_loss  Instances       Size\n"
          ]
        },
        {
          "metadata": {
            "tags": null
          },
          "name": "stderr",
          "output_type": "stream",
          "text": [
            "     54/100      3.21G      1.603      1.574      2.247         16        640: 100%|██████████| 16/16 [00:04<00:00,  3.64it/s]\n",
            "                 Class     Images  Instances      Box(P          R      mAP50  mAP50-95): 100%|██████████| 3/3 [00:00<00:00,  5.38it/s]"
          ]
        },
        {
          "metadata": {
            "tags": null
          },
          "name": "stdout",
          "output_type": "stream",
          "text": [
            "                   all         70        218      0.795      0.705      0.776      0.572\n"
          ]
        },
        {
          "metadata": {
            "tags": null
          },
          "name": "stderr",
          "output_type": "stream",
          "text": [
            "\n"
          ]
        },
        {
          "metadata": {
            "tags": null
          },
          "name": "stdout",
          "output_type": "stream",
          "text": [
            "\n",
            "      Epoch    GPU_mem   box_loss   cls_loss   dfl_loss  Instances       Size\n"
          ]
        },
        {
          "metadata": {
            "tags": null
          },
          "name": "stderr",
          "output_type": "stream",
          "text": [
            "     55/100      3.21G      1.581      1.585      2.206         23        640: 100%|██████████| 16/16 [00:05<00:00,  3.18it/s]\n",
            "                 Class     Images  Instances      Box(P          R      mAP50  mAP50-95): 100%|██████████| 3/3 [00:00<00:00,  3.73it/s]"
          ]
        },
        {
          "metadata": {
            "tags": null
          },
          "name": "stdout",
          "output_type": "stream",
          "text": [
            "                   all         70        218      0.772      0.696      0.767      0.556\n"
          ]
        },
        {
          "metadata": {
            "tags": null
          },
          "name": "stderr",
          "output_type": "stream",
          "text": [
            "\n"
          ]
        },
        {
          "metadata": {
            "tags": null
          },
          "name": "stdout",
          "output_type": "stream",
          "text": [
            "\n",
            "      Epoch    GPU_mem   box_loss   cls_loss   dfl_loss  Instances       Size\n"
          ]
        },
        {
          "metadata": {
            "tags": null
          },
          "name": "stderr",
          "output_type": "stream",
          "text": [
            "     56/100       3.2G      1.553      1.553      2.234         23        640: 100%|██████████| 16/16 [00:05<00:00,  3.00it/s]\n",
            "                 Class     Images  Instances      Box(P          R      mAP50  mAP50-95): 100%|██████████| 3/3 [00:00<00:00,  5.05it/s]"
          ]
        },
        {
          "metadata": {
            "tags": null
          },
          "name": "stdout",
          "output_type": "stream",
          "text": [
            "                   all         70        218      0.742      0.721      0.769       0.56\n"
          ]
        },
        {
          "metadata": {
            "tags": null
          },
          "name": "stderr",
          "output_type": "stream",
          "text": [
            "\n"
          ]
        },
        {
          "metadata": {
            "tags": null
          },
          "name": "stdout",
          "output_type": "stream",
          "text": [
            "\n",
            "      Epoch    GPU_mem   box_loss   cls_loss   dfl_loss  Instances       Size\n"
          ]
        },
        {
          "metadata": {
            "tags": null
          },
          "name": "stderr",
          "output_type": "stream",
          "text": [
            "     57/100      3.21G      1.562      1.501      2.263         31        640: 100%|██████████| 16/16 [00:05<00:00,  2.69it/s]\n",
            "                 Class     Images  Instances      Box(P          R      mAP50  mAP50-95): 100%|██████████| 3/3 [00:01<00:00,  2.89it/s]"
          ]
        },
        {
          "metadata": {
            "tags": null
          },
          "name": "stdout",
          "output_type": "stream",
          "text": [
            "                   all         70        218      0.748      0.717      0.764      0.545\n"
          ]
        },
        {
          "metadata": {
            "tags": null
          },
          "name": "stderr",
          "output_type": "stream",
          "text": [
            "\n"
          ]
        },
        {
          "metadata": {
            "tags": null
          },
          "name": "stdout",
          "output_type": "stream",
          "text": [
            "\n",
            "      Epoch    GPU_mem   box_loss   cls_loss   dfl_loss  Instances       Size\n"
          ]
        },
        {
          "metadata": {
            "tags": null
          },
          "name": "stderr",
          "output_type": "stream",
          "text": [
            "     58/100       3.2G      1.513      1.455      2.199         28        640: 100%|██████████| 16/16 [00:06<00:00,  2.35it/s]\n",
            "                 Class     Images  Instances      Box(P          R      mAP50  mAP50-95): 100%|██████████| 3/3 [00:00<00:00,  5.18it/s]"
          ]
        },
        {
          "metadata": {
            "tags": null
          },
          "name": "stdout",
          "output_type": "stream",
          "text": [
            "                   all         70        218      0.835      0.716      0.779      0.556\n"
          ]
        },
        {
          "metadata": {
            "tags": null
          },
          "name": "stderr",
          "output_type": "stream",
          "text": [
            "\n"
          ]
        },
        {
          "metadata": {
            "tags": null
          },
          "name": "stdout",
          "output_type": "stream",
          "text": [
            "\n",
            "      Epoch    GPU_mem   box_loss   cls_loss   dfl_loss  Instances       Size\n"
          ]
        },
        {
          "metadata": {
            "tags": null
          },
          "name": "stderr",
          "output_type": "stream",
          "text": [
            "     59/100       3.2G      1.524      1.511       2.21         28        640: 100%|██████████| 16/16 [00:04<00:00,  3.55it/s]\n",
            "                 Class     Images  Instances      Box(P          R      mAP50  mAP50-95): 100%|██████████| 3/3 [00:00<00:00,  5.56it/s]"
          ]
        },
        {
          "metadata": {
            "tags": null
          },
          "name": "stdout",
          "output_type": "stream",
          "text": [
            "                   all         70        218      0.768      0.718      0.767      0.571\n"
          ]
        },
        {
          "metadata": {
            "tags": null
          },
          "name": "stderr",
          "output_type": "stream",
          "text": [
            "\n"
          ]
        },
        {
          "metadata": {
            "tags": null
          },
          "name": "stdout",
          "output_type": "stream",
          "text": [
            "\n",
            "      Epoch    GPU_mem   box_loss   cls_loss   dfl_loss  Instances       Size\n"
          ]
        },
        {
          "metadata": {
            "tags": null
          },
          "name": "stderr",
          "output_type": "stream",
          "text": [
            "     60/100       3.2G      1.478      1.373      2.193         29        640: 100%|██████████| 16/16 [00:06<00:00,  2.46it/s]\n",
            "                 Class     Images  Instances      Box(P          R      mAP50  mAP50-95): 100%|██████████| 3/3 [00:01<00:00,  2.83it/s]"
          ]
        },
        {
          "metadata": {
            "tags": null
          },
          "name": "stdout",
          "output_type": "stream",
          "text": [
            "                   all         70        218       0.75      0.718      0.761      0.557\n"
          ]
        },
        {
          "metadata": {
            "tags": null
          },
          "name": "stderr",
          "output_type": "stream",
          "text": [
            "\n"
          ]
        },
        {
          "metadata": {
            "tags": null
          },
          "name": "stdout",
          "output_type": "stream",
          "text": [
            "\n",
            "      Epoch    GPU_mem   box_loss   cls_loss   dfl_loss  Instances       Size\n"
          ]
        },
        {
          "metadata": {
            "tags": null
          },
          "name": "stderr",
          "output_type": "stream",
          "text": [
            "     61/100       3.2G       1.55      1.449      2.234         25        640: 100%|██████████| 16/16 [00:04<00:00,  3.67it/s]\n",
            "                 Class     Images  Instances      Box(P          R      mAP50  mAP50-95): 100%|██████████| 3/3 [00:00<00:00,  5.24it/s]"
          ]
        },
        {
          "metadata": {
            "tags": null
          },
          "name": "stdout",
          "output_type": "stream",
          "text": [
            "                   all         70        218      0.758      0.737      0.791       0.57\n"
          ]
        },
        {
          "metadata": {
            "tags": null
          },
          "name": "stderr",
          "output_type": "stream",
          "text": [
            "\n"
          ]
        },
        {
          "metadata": {
            "tags": null
          },
          "name": "stdout",
          "output_type": "stream",
          "text": [
            "\n",
            "      Epoch    GPU_mem   box_loss   cls_loss   dfl_loss  Instances       Size\n"
          ]
        },
        {
          "metadata": {
            "tags": null
          },
          "name": "stderr",
          "output_type": "stream",
          "text": [
            "     62/100       3.2G      1.483      1.369        2.2         31        640: 100%|██████████| 16/16 [00:04<00:00,  3.26it/s]\n",
            "                 Class     Images  Instances      Box(P          R      mAP50  mAP50-95): 100%|██████████| 3/3 [00:00<00:00,  3.34it/s]"
          ]
        },
        {
          "metadata": {
            "tags": null
          },
          "name": "stdout",
          "output_type": "stream",
          "text": [
            "                   all         70        218      0.818      0.722      0.789      0.602\n"
          ]
        },
        {
          "metadata": {
            "tags": null
          },
          "name": "stderr",
          "output_type": "stream",
          "text": [
            "\n"
          ]
        },
        {
          "metadata": {
            "tags": null
          },
          "name": "stdout",
          "output_type": "stream",
          "text": [
            "\n",
            "      Epoch    GPU_mem   box_loss   cls_loss   dfl_loss  Instances       Size\n"
          ]
        },
        {
          "metadata": {
            "tags": null
          },
          "name": "stderr",
          "output_type": "stream",
          "text": [
            "     63/100      3.21G       1.46      1.366      2.197         29        640: 100%|██████████| 16/16 [00:05<00:00,  2.70it/s]\n",
            "                 Class     Images  Instances      Box(P          R      mAP50  mAP50-95): 100%|██████████| 3/3 [00:00<00:00,  5.41it/s]"
          ]
        },
        {
          "metadata": {
            "tags": null
          },
          "name": "stdout",
          "output_type": "stream",
          "text": [
            "                   all         70        218      0.798      0.691      0.775      0.563\n"
          ]
        },
        {
          "metadata": {
            "tags": null
          },
          "name": "stderr",
          "output_type": "stream",
          "text": [
            "\n"
          ]
        },
        {
          "metadata": {
            "tags": null
          },
          "name": "stdout",
          "output_type": "stream",
          "text": [
            "\n",
            "      Epoch    GPU_mem   box_loss   cls_loss   dfl_loss  Instances       Size\n"
          ]
        },
        {
          "metadata": {
            "tags": null
          },
          "name": "stderr",
          "output_type": "stream",
          "text": [
            "     64/100       3.2G       1.48       1.33      2.213         25        640: 100%|██████████| 16/16 [00:04<00:00,  3.65it/s]\n",
            "                 Class     Images  Instances      Box(P          R      mAP50  mAP50-95): 100%|██████████| 3/3 [00:00<00:00,  5.23it/s]"
          ]
        },
        {
          "metadata": {
            "tags": null
          },
          "name": "stdout",
          "output_type": "stream",
          "text": [
            "                   all         70        218      0.834      0.688      0.781      0.574\n"
          ]
        },
        {
          "metadata": {
            "tags": null
          },
          "name": "stderr",
          "output_type": "stream",
          "text": [
            "\n"
          ]
        },
        {
          "metadata": {
            "tags": null
          },
          "name": "stdout",
          "output_type": "stream",
          "text": [
            "\n",
            "      Epoch    GPU_mem   box_loss   cls_loss   dfl_loss  Instances       Size\n"
          ]
        },
        {
          "metadata": {
            "tags": null
          },
          "name": "stderr",
          "output_type": "stream",
          "text": [
            "     65/100      3.21G      1.466      1.376      2.177         29        640: 100%|██████████| 16/16 [00:07<00:00,  2.25it/s]\n",
            "                 Class     Images  Instances      Box(P          R      mAP50  mAP50-95): 100%|██████████| 3/3 [00:00<00:00,  5.27it/s]"
          ]
        },
        {
          "metadata": {
            "tags": null
          },
          "name": "stdout",
          "output_type": "stream",
          "text": [
            "                   all         70        218      0.902      0.644      0.782      0.584\n"
          ]
        },
        {
          "metadata": {
            "tags": null
          },
          "name": "stderr",
          "output_type": "stream",
          "text": [
            "\n"
          ]
        },
        {
          "metadata": {
            "tags": null
          },
          "name": "stdout",
          "output_type": "stream",
          "text": [
            "\n",
            "      Epoch    GPU_mem   box_loss   cls_loss   dfl_loss  Instances       Size\n"
          ]
        },
        {
          "metadata": {
            "tags": null
          },
          "name": "stderr",
          "output_type": "stream",
          "text": [
            "     66/100      3.18G      1.463      1.427      2.137         27        640: 100%|██████████| 16/16 [00:04<00:00,  3.55it/s]\n",
            "                 Class     Images  Instances      Box(P          R      mAP50  mAP50-95): 100%|██████████| 3/3 [00:00<00:00,  5.28it/s]"
          ]
        },
        {
          "metadata": {
            "tags": null
          },
          "name": "stdout",
          "output_type": "stream",
          "text": [
            "                   all         70        218      0.867      0.684        0.8      0.609\n"
          ]
        },
        {
          "metadata": {
            "tags": null
          },
          "name": "stderr",
          "output_type": "stream",
          "text": [
            "\n"
          ]
        },
        {
          "metadata": {
            "tags": null
          },
          "name": "stdout",
          "output_type": "stream",
          "text": [
            "\n",
            "      Epoch    GPU_mem   box_loss   cls_loss   dfl_loss  Instances       Size\n"
          ]
        },
        {
          "metadata": {
            "tags": null
          },
          "name": "stderr",
          "output_type": "stream",
          "text": [
            "     67/100      3.18G      1.437      1.364      2.129         36        640: 100%|██████████| 16/16 [00:05<00:00,  2.90it/s]\n",
            "                 Class     Images  Instances      Box(P          R      mAP50  mAP50-95): 100%|██████████| 3/3 [00:00<00:00,  3.75it/s]"
          ]
        },
        {
          "metadata": {
            "tags": null
          },
          "name": "stdout",
          "output_type": "stream",
          "text": [
            "                   all         70        218      0.808      0.706      0.797        0.6\n"
          ]
        },
        {
          "metadata": {
            "tags": null
          },
          "name": "stderr",
          "output_type": "stream",
          "text": [
            "\n"
          ]
        },
        {
          "metadata": {
            "tags": null
          },
          "name": "stdout",
          "output_type": "stream",
          "text": [
            "\n",
            "      Epoch    GPU_mem   box_loss   cls_loss   dfl_loss  Instances       Size\n"
          ]
        },
        {
          "metadata": {
            "tags": null
          },
          "name": "stderr",
          "output_type": "stream",
          "text": [
            "     68/100       3.2G       1.44      1.353      2.127         31        640: 100%|██████████| 16/16 [00:04<00:00,  3.34it/s]\n",
            "                 Class     Images  Instances      Box(P          R      mAP50  mAP50-95): 100%|██████████| 3/3 [00:00<00:00,  5.22it/s]"
          ]
        },
        {
          "metadata": {
            "tags": null
          },
          "name": "stdout",
          "output_type": "stream",
          "text": [
            "                   all         70        218      0.803      0.766      0.798      0.592\n"
          ]
        },
        {
          "metadata": {
            "tags": null
          },
          "name": "stderr",
          "output_type": "stream",
          "text": [
            "\n"
          ]
        },
        {
          "metadata": {
            "tags": null
          },
          "name": "stdout",
          "output_type": "stream",
          "text": [
            "\n",
            "      Epoch    GPU_mem   box_loss   cls_loss   dfl_loss  Instances       Size\n"
          ]
        },
        {
          "metadata": {
            "tags": null
          },
          "name": "stderr",
          "output_type": "stream",
          "text": [
            "     69/100       3.2G      1.434      1.338      2.139         23        640: 100%|██████████| 16/16 [00:04<00:00,  3.65it/s]\n",
            "                 Class     Images  Instances      Box(P          R      mAP50  mAP50-95): 100%|██████████| 3/3 [00:00<00:00,  4.79it/s]"
          ]
        },
        {
          "metadata": {
            "tags": null
          },
          "name": "stdout",
          "output_type": "stream",
          "text": [
            "                   all         70        218      0.833      0.757      0.801      0.601\n"
          ]
        },
        {
          "metadata": {
            "tags": null
          },
          "name": "stderr",
          "output_type": "stream",
          "text": [
            "\n"
          ]
        },
        {
          "metadata": {
            "tags": null
          },
          "name": "stdout",
          "output_type": "stream",
          "text": [
            "\n",
            "      Epoch    GPU_mem   box_loss   cls_loss   dfl_loss  Instances       Size\n"
          ]
        },
        {
          "metadata": {
            "tags": null
          },
          "name": "stderr",
          "output_type": "stream",
          "text": [
            "     70/100       3.2G      1.398      1.334       2.18         23        640: 100%|██████████| 16/16 [00:06<00:00,  2.39it/s]\n",
            "                 Class     Images  Instances      Box(P          R      mAP50  mAP50-95): 100%|██████████| 3/3 [00:00<00:00,  4.97it/s]"
          ]
        },
        {
          "metadata": {
            "tags": null
          },
          "name": "stdout",
          "output_type": "stream",
          "text": [
            "                   all         70        218      0.835      0.661      0.773      0.578\n"
          ]
        },
        {
          "metadata": {
            "tags": null
          },
          "name": "stderr",
          "output_type": "stream",
          "text": [
            "\n"
          ]
        },
        {
          "metadata": {
            "tags": null
          },
          "name": "stdout",
          "output_type": "stream",
          "text": [
            "\n",
            "      Epoch    GPU_mem   box_loss   cls_loss   dfl_loss  Instances       Size\n"
          ]
        },
        {
          "metadata": {
            "tags": null
          },
          "name": "stderr",
          "output_type": "stream",
          "text": [
            "     71/100      3.19G      1.421      1.326      2.174         26        640: 100%|██████████| 16/16 [00:04<00:00,  3.65it/s]\n",
            "                 Class     Images  Instances      Box(P          R      mAP50  mAP50-95): 100%|██████████| 3/3 [00:00<00:00,  5.11it/s]"
          ]
        },
        {
          "metadata": {
            "tags": null
          },
          "name": "stdout",
          "output_type": "stream",
          "text": [
            "                   all         70        218      0.808      0.725      0.777       0.58\n"
          ]
        },
        {
          "metadata": {
            "tags": null
          },
          "name": "stderr",
          "output_type": "stream",
          "text": [
            "\n"
          ]
        },
        {
          "metadata": {
            "tags": null
          },
          "name": "stdout",
          "output_type": "stream",
          "text": [
            "\n",
            "      Epoch    GPU_mem   box_loss   cls_loss   dfl_loss  Instances       Size\n"
          ]
        },
        {
          "metadata": {
            "tags": null
          },
          "name": "stderr",
          "output_type": "stream",
          "text": [
            "     72/100       3.2G      1.466      1.316      2.144         39        640: 100%|██████████| 16/16 [00:06<00:00,  2.50it/s]\n",
            "                 Class     Images  Instances      Box(P          R      mAP50  mAP50-95): 100%|██████████| 3/3 [00:00<00:00,  3.12it/s]"
          ]
        },
        {
          "metadata": {
            "tags": null
          },
          "name": "stdout",
          "output_type": "stream",
          "text": [
            "                   all         70        218      0.746      0.773      0.795      0.595\n"
          ]
        },
        {
          "metadata": {
            "tags": null
          },
          "name": "stderr",
          "output_type": "stream",
          "text": [
            "\n"
          ]
        },
        {
          "metadata": {
            "tags": null
          },
          "name": "stdout",
          "output_type": "stream",
          "text": [
            "\n",
            "      Epoch    GPU_mem   box_loss   cls_loss   dfl_loss  Instances       Size\n"
          ]
        },
        {
          "metadata": {
            "tags": null
          },
          "name": "stderr",
          "output_type": "stream",
          "text": [
            "     73/100       3.2G      1.451      1.345      2.136         25        640: 100%|██████████| 16/16 [00:04<00:00,  3.61it/s]\n",
            "                 Class     Images  Instances      Box(P          R      mAP50  mAP50-95): 100%|██████████| 3/3 [00:00<00:00,  5.48it/s]"
          ]
        },
        {
          "metadata": {
            "tags": null
          },
          "name": "stdout",
          "output_type": "stream",
          "text": [
            "                   all         70        218      0.787      0.744      0.792       0.59\n"
          ]
        },
        {
          "metadata": {
            "tags": null
          },
          "name": "stderr",
          "output_type": "stream",
          "text": [
            "\n"
          ]
        },
        {
          "metadata": {
            "tags": null
          },
          "name": "stdout",
          "output_type": "stream",
          "text": [
            "\n",
            "      Epoch    GPU_mem   box_loss   cls_loss   dfl_loss  Instances       Size\n"
          ]
        },
        {
          "metadata": {
            "tags": null
          },
          "name": "stderr",
          "output_type": "stream",
          "text": [
            "     74/100       3.2G      1.396      1.246      2.152         30        640: 100%|██████████| 16/16 [00:04<00:00,  3.49it/s]\n",
            "                 Class     Images  Instances      Box(P          R      mAP50  mAP50-95): 100%|██████████| 3/3 [00:00<00:00,  3.01it/s]"
          ]
        },
        {
          "metadata": {
            "tags": null
          },
          "name": "stdout",
          "output_type": "stream",
          "text": [
            "                   all         70        218      0.812      0.732      0.785      0.576\n"
          ]
        },
        {
          "metadata": {
            "tags": null
          },
          "name": "stderr",
          "output_type": "stream",
          "text": [
            "\n"
          ]
        },
        {
          "metadata": {
            "tags": null
          },
          "name": "stdout",
          "output_type": "stream",
          "text": [
            "\n",
            "      Epoch    GPU_mem   box_loss   cls_loss   dfl_loss  Instances       Size\n"
          ]
        },
        {
          "metadata": {
            "tags": null
          },
          "name": "stderr",
          "output_type": "stream",
          "text": [
            "     75/100       3.2G      1.406      1.289      2.099         32        640: 100%|██████████| 16/16 [00:05<00:00,  2.69it/s]\n",
            "                 Class     Images  Instances      Box(P          R      mAP50  mAP50-95): 100%|██████████| 3/3 [00:00<00:00,  5.30it/s]"
          ]
        },
        {
          "metadata": {
            "tags": null
          },
          "name": "stdout",
          "output_type": "stream",
          "text": [
            "                   all         70        218      0.914      0.698      0.799      0.594\n"
          ]
        },
        {
          "metadata": {
            "tags": null
          },
          "name": "stderr",
          "output_type": "stream",
          "text": [
            "\n"
          ]
        },
        {
          "metadata": {
            "tags": null
          },
          "name": "stdout",
          "output_type": "stream",
          "text": [
            "\n",
            "      Epoch    GPU_mem   box_loss   cls_loss   dfl_loss  Instances       Size\n"
          ]
        },
        {
          "metadata": {
            "tags": null
          },
          "name": "stderr",
          "output_type": "stream",
          "text": [
            "     76/100       3.2G      1.364      1.218      2.158         28        640: 100%|██████████| 16/16 [00:04<00:00,  3.59it/s]\n",
            "                 Class     Images  Instances      Box(P          R      mAP50  mAP50-95): 100%|██████████| 3/3 [00:00<00:00,  5.43it/s]"
          ]
        },
        {
          "metadata": {
            "tags": null
          },
          "name": "stdout",
          "output_type": "stream",
          "text": [
            "                   all         70        218      0.807      0.739      0.784      0.585\n"
          ]
        },
        {
          "metadata": {
            "tags": null
          },
          "name": "stderr",
          "output_type": "stream",
          "text": [
            "\n"
          ]
        },
        {
          "metadata": {
            "tags": null
          },
          "name": "stdout",
          "output_type": "stream",
          "text": [
            "\n",
            "      Epoch    GPU_mem   box_loss   cls_loss   dfl_loss  Instances       Size\n"
          ]
        },
        {
          "metadata": {
            "tags": null
          },
          "name": "stderr",
          "output_type": "stream",
          "text": [
            "     77/100      3.18G      1.362      1.267      2.127         20        640: 100%|██████████| 16/16 [00:07<00:00,  2.19it/s]\n",
            "                 Class     Images  Instances      Box(P          R      mAP50  mAP50-95): 100%|██████████| 3/3 [00:00<00:00,  5.02it/s]"
          ]
        },
        {
          "metadata": {
            "tags": null
          },
          "name": "stdout",
          "output_type": "stream",
          "text": [
            "                   all         70        218      0.866      0.717      0.805      0.596\n"
          ]
        },
        {
          "metadata": {
            "tags": null
          },
          "name": "stderr",
          "output_type": "stream",
          "text": [
            "\n"
          ]
        },
        {
          "metadata": {
            "tags": null
          },
          "name": "stdout",
          "output_type": "stream",
          "text": [
            "\n",
            "      Epoch    GPU_mem   box_loss   cls_loss   dfl_loss  Instances       Size\n"
          ]
        },
        {
          "metadata": {
            "tags": null
          },
          "name": "stderr",
          "output_type": "stream",
          "text": [
            "     78/100       3.2G      1.349      1.245       2.11         34        640: 100%|██████████| 16/16 [00:06<00:00,  2.35it/s]\n",
            "                 Class     Images  Instances      Box(P          R      mAP50  mAP50-95): 100%|██████████| 3/3 [00:00<00:00,  5.54it/s]"
          ]
        },
        {
          "metadata": {
            "tags": null
          },
          "name": "stdout",
          "output_type": "stream",
          "text": [
            "                   all         70        218       0.86      0.721      0.816      0.612\n"
          ]
        },
        {
          "metadata": {
            "tags": null
          },
          "name": "stderr",
          "output_type": "stream",
          "text": [
            "\n"
          ]
        },
        {
          "metadata": {
            "tags": null
          },
          "name": "stdout",
          "output_type": "stream",
          "text": [
            "\n",
            "      Epoch    GPU_mem   box_loss   cls_loss   dfl_loss  Instances       Size\n"
          ]
        },
        {
          "metadata": {
            "tags": null
          },
          "name": "stderr",
          "output_type": "stream",
          "text": [
            "     79/100      3.18G      1.405       1.28      2.129         26        640: 100%|██████████| 16/16 [00:07<00:00,  2.28it/s]\n",
            "                 Class     Images  Instances      Box(P          R      mAP50  mAP50-95): 100%|██████████| 3/3 [00:00<00:00,  5.22it/s]"
          ]
        },
        {
          "metadata": {
            "tags": null
          },
          "name": "stdout",
          "output_type": "stream",
          "text": [
            "                   all         70        218      0.882      0.744      0.824      0.619\n"
          ]
        },
        {
          "metadata": {
            "tags": null
          },
          "name": "stderr",
          "output_type": "stream",
          "text": [
            "\n"
          ]
        },
        {
          "metadata": {
            "tags": null
          },
          "name": "stdout",
          "output_type": "stream",
          "text": [
            "\n",
            "      Epoch    GPU_mem   box_loss   cls_loss   dfl_loss  Instances       Size\n"
          ]
        },
        {
          "metadata": {
            "tags": null
          },
          "name": "stderr",
          "output_type": "stream",
          "text": [
            "     80/100       3.2G      1.371      1.242      2.088         32        640: 100%|██████████| 16/16 [00:04<00:00,  3.70it/s]\n",
            "                 Class     Images  Instances      Box(P          R      mAP50  mAP50-95): 100%|██████████| 3/3 [00:00<00:00,  5.39it/s]"
          ]
        },
        {
          "metadata": {
            "tags": null
          },
          "name": "stdout",
          "output_type": "stream",
          "text": [
            "                   all         70        218      0.832      0.775      0.826      0.633\n"
          ]
        },
        {
          "metadata": {
            "tags": null
          },
          "name": "stderr",
          "output_type": "stream",
          "text": [
            "\n"
          ]
        },
        {
          "metadata": {
            "tags": null
          },
          "name": "stdout",
          "output_type": "stream",
          "text": [
            "\n",
            "      Epoch    GPU_mem   box_loss   cls_loss   dfl_loss  Instances       Size\n"
          ]
        },
        {
          "metadata": {
            "tags": null
          },
          "name": "stderr",
          "output_type": "stream",
          "text": [
            "     81/100       3.2G      1.307      1.179      2.076         28        640: 100%|██████████| 16/16 [00:05<00:00,  3.02it/s]\n",
            "                 Class     Images  Instances      Box(P          R      mAP50  mAP50-95): 100%|██████████| 3/3 [00:00<00:00,  3.33it/s]"
          ]
        },
        {
          "metadata": {
            "tags": null
          },
          "name": "stdout",
          "output_type": "stream",
          "text": [
            "                   all         70        218      0.829      0.769      0.829      0.616\n"
          ]
        },
        {
          "metadata": {
            "tags": null
          },
          "name": "stderr",
          "output_type": "stream",
          "text": [
            "\n"
          ]
        },
        {
          "metadata": {
            "tags": null
          },
          "name": "stdout",
          "output_type": "stream",
          "text": [
            "\n",
            "      Epoch    GPU_mem   box_loss   cls_loss   dfl_loss  Instances       Size\n"
          ]
        },
        {
          "metadata": {
            "tags": null
          },
          "name": "stderr",
          "output_type": "stream",
          "text": [
            "     82/100      3.21G      1.309      1.152       2.06         48        640: 100%|██████████| 16/16 [00:05<00:00,  2.93it/s]\n",
            "                 Class     Images  Instances      Box(P          R      mAP50  mAP50-95): 100%|██████████| 3/3 [00:00<00:00,  4.99it/s]"
          ]
        },
        {
          "metadata": {
            "tags": null
          },
          "name": "stdout",
          "output_type": "stream",
          "text": [
            "                   all         70        218      0.822      0.737      0.806      0.609\n"
          ]
        },
        {
          "metadata": {
            "tags": null
          },
          "name": "stderr",
          "output_type": "stream",
          "text": [
            "\n"
          ]
        },
        {
          "metadata": {
            "tags": null
          },
          "name": "stdout",
          "output_type": "stream",
          "text": [
            "\n",
            "      Epoch    GPU_mem   box_loss   cls_loss   dfl_loss  Instances       Size\n"
          ]
        },
        {
          "metadata": {
            "tags": null
          },
          "name": "stderr",
          "output_type": "stream",
          "text": [
            "     83/100      3.21G      1.367      1.188        2.1         39        640: 100%|██████████| 16/16 [00:04<00:00,  3.51it/s]\n",
            "                 Class     Images  Instances      Box(P          R      mAP50  mAP50-95): 100%|██████████| 3/3 [00:00<00:00,  5.29it/s]"
          ]
        },
        {
          "metadata": {
            "tags": null
          },
          "name": "stdout",
          "output_type": "stream",
          "text": [
            "                   all         70        218       0.83      0.733      0.802      0.612\n"
          ]
        },
        {
          "metadata": {
            "tags": null
          },
          "name": "stderr",
          "output_type": "stream",
          "text": [
            "\n"
          ]
        },
        {
          "metadata": {
            "tags": null
          },
          "name": "stdout",
          "output_type": "stream",
          "text": [
            "\n",
            "      Epoch    GPU_mem   box_loss   cls_loss   dfl_loss  Instances       Size\n"
          ]
        },
        {
          "metadata": {
            "tags": null
          },
          "name": "stderr",
          "output_type": "stream",
          "text": [
            "     84/100      3.21G      1.274      1.167      2.046         27        640: 100%|██████████| 16/16 [00:06<00:00,  2.29it/s]\n",
            "                 Class     Images  Instances      Box(P          R      mAP50  mAP50-95): 100%|██████████| 3/3 [00:00<00:00,  5.23it/s]"
          ]
        },
        {
          "metadata": {
            "tags": null
          },
          "name": "stdout",
          "output_type": "stream",
          "text": [
            "                   all         70        218      0.844      0.738      0.802      0.605\n"
          ]
        },
        {
          "metadata": {
            "tags": null
          },
          "name": "stderr",
          "output_type": "stream",
          "text": [
            "\n"
          ]
        },
        {
          "metadata": {
            "tags": null
          },
          "name": "stdout",
          "output_type": "stream",
          "text": [
            "\n",
            "      Epoch    GPU_mem   box_loss   cls_loss   dfl_loss  Instances       Size\n"
          ]
        },
        {
          "metadata": {
            "tags": null
          },
          "name": "stderr",
          "output_type": "stream",
          "text": [
            "     85/100       3.2G      1.256       1.11       2.08         17        640: 100%|██████████| 16/16 [00:04<00:00,  3.63it/s]\n",
            "                 Class     Images  Instances      Box(P          R      mAP50  mAP50-95): 100%|██████████| 3/3 [00:00<00:00,  5.29it/s]"
          ]
        },
        {
          "metadata": {
            "tags": null
          },
          "name": "stdout",
          "output_type": "stream",
          "text": [
            "                   all         70        218      0.831       0.73      0.805      0.611\n"
          ]
        },
        {
          "metadata": {
            "tags": null
          },
          "name": "stderr",
          "output_type": "stream",
          "text": [
            "\n"
          ]
        },
        {
          "metadata": {
            "tags": null
          },
          "name": "stdout",
          "output_type": "stream",
          "text": [
            "\n",
            "      Epoch    GPU_mem   box_loss   cls_loss   dfl_loss  Instances       Size\n"
          ]
        },
        {
          "metadata": {
            "tags": null
          },
          "name": "stderr",
          "output_type": "stream",
          "text": [
            "     86/100       3.2G       1.18      1.063      2.031         27        640: 100%|██████████| 16/16 [00:05<00:00,  2.77it/s]\n",
            "                 Class     Images  Instances      Box(P          R      mAP50  mAP50-95): 100%|██████████| 3/3 [00:00<00:00,  3.23it/s]"
          ]
        },
        {
          "metadata": {
            "tags": null
          },
          "name": "stdout",
          "output_type": "stream",
          "text": [
            "                   all         70        218      0.795      0.794      0.819       0.62\n"
          ]
        },
        {
          "metadata": {
            "tags": null
          },
          "name": "stderr",
          "output_type": "stream",
          "text": [
            "\n"
          ]
        },
        {
          "output_type": "stream",
          "name": "stdout",
          "text": [
            "\n",
            "      Epoch    GPU_mem   box_loss   cls_loss   dfl_loss  Instances       Size\n"
          ]
        },
        {
          "output_type": "stream",
          "name": "stderr",
          "text": [
            "     87/100       3.2G      1.276       1.16      2.067         38        640: 100%|██████████| 16/16 [00:04<00:00,  3.48it/s]\n",
            "                 Class     Images  Instances      Box(P          R      mAP50  mAP50-95): 100%|██████████| 3/3 [00:00<00:00,  5.07it/s]"
          ]
        },
        {
          "output_type": "stream",
          "name": "stdout",
          "text": [
            "                   all         70        218      0.819      0.774      0.816      0.618\n"
          ]
        },
        {
          "output_type": "stream",
          "name": "stderr",
          "text": [
            "\n"
          ]
        },
        {
          "output_type": "stream",
          "name": "stdout",
          "text": [
            "\n",
            "      Epoch    GPU_mem   box_loss   cls_loss   dfl_loss  Instances       Size\n"
          ]
        },
        {
          "output_type": "stream",
          "name": "stderr",
          "text": [
            "     88/100       3.2G      1.221      1.103      2.035         25        640: 100%|██████████| 16/16 [00:04<00:00,  3.29it/s]\n",
            "                 Class     Images  Instances      Box(P          R      mAP50  mAP50-95): 100%|██████████| 3/3 [00:00<00:00,  3.19it/s]"
          ]
        },
        {
          "output_type": "stream",
          "name": "stdout",
          "text": [
            "                   all         70        218      0.797      0.778      0.805      0.611\n"
          ]
        },
        {
          "output_type": "stream",
          "name": "stderr",
          "text": [
            "\n"
          ]
        },
        {
          "output_type": "stream",
          "name": "stdout",
          "text": [
            "\n",
            "      Epoch    GPU_mem   box_loss   cls_loss   dfl_loss  Instances       Size\n"
          ]
        },
        {
          "output_type": "stream",
          "name": "stderr",
          "text": [
            "     89/100      3.21G      1.247      1.099      2.022         22        640: 100%|██████████| 16/16 [00:05<00:00,  2.67it/s]\n",
            "                 Class     Images  Instances      Box(P          R      mAP50  mAP50-95): 100%|██████████| 3/3 [00:00<00:00,  5.12it/s]"
          ]
        },
        {
          "output_type": "stream",
          "name": "stdout",
          "text": [
            "                   all         70        218      0.803      0.776      0.805      0.609\n"
          ]
        },
        {
          "output_type": "stream",
          "name": "stderr",
          "text": [
            "\n"
          ]
        },
        {
          "output_type": "stream",
          "name": "stdout",
          "text": [
            "\n",
            "      Epoch    GPU_mem   box_loss   cls_loss   dfl_loss  Instances       Size\n"
          ]
        },
        {
          "output_type": "stream",
          "name": "stderr",
          "text": [
            "     90/100      3.07G      1.222      1.129      2.022         28        640: 100%|██████████| 16/16 [00:04<00:00,  3.52it/s]\n",
            "                 Class     Images  Instances      Box(P          R      mAP50  mAP50-95): 100%|██████████| 3/3 [00:00<00:00,  5.49it/s]"
          ]
        },
        {
          "output_type": "stream",
          "name": "stdout",
          "text": [
            "                   all         70        218      0.784      0.769      0.801      0.605\n"
          ]
        },
        {
          "output_type": "stream",
          "name": "stderr",
          "text": [
            "\n"
          ]
        },
        {
          "output_type": "stream",
          "name": "stdout",
          "text": [
            "Closing dataloader mosaic\n",
            "\u001b[34m\u001b[1malbumentations: \u001b[0mBlur(p=0.01, blur_limit=(3, 7)), MedianBlur(p=0.01, blur_limit=(3, 7)), ToGray(p=0.01), CLAHE(p=0.01, clip_limit=(1, 4.0), tile_grid_size=(8, 8))\n"
          ]
        },
        {
          "output_type": "stream",
          "name": "stderr",
          "text": [
            "/usr/lib/python3.10/multiprocessing/popen_fork.py:66: RuntimeWarning: os.fork() was called. os.fork() is incompatible with multithreaded code, and JAX is multithreaded, so this will likely lead to a deadlock.\n",
            "  self.pid = os.fork()\n",
            "/usr/lib/python3.10/multiprocessing/popen_fork.py:66: RuntimeWarning: os.fork() was called. os.fork() is incompatible with multithreaded code, and JAX is multithreaded, so this will likely lead to a deadlock.\n",
            "  self.pid = os.fork()\n"
          ]
        },
        {
          "output_type": "stream",
          "name": "stdout",
          "text": [
            "\n",
            "      Epoch    GPU_mem   box_loss   cls_loss   dfl_loss  Instances       Size\n"
          ]
        },
        {
          "output_type": "stream",
          "name": "stderr",
          "text": [
            "     91/100      3.32G      1.225      1.268      1.993         20        640: 100%|██████████| 16/16 [00:09<00:00,  1.68it/s]\n",
            "                 Class     Images  Instances      Box(P          R      mAP50  mAP50-95): 100%|██████████| 3/3 [00:00<00:00,  5.11it/s]"
          ]
        },
        {
          "output_type": "stream",
          "name": "stdout",
          "text": [
            "                   all         70        218      0.907      0.709      0.814      0.614\n"
          ]
        },
        {
          "output_type": "stream",
          "name": "stderr",
          "text": [
            "\n"
          ]
        },
        {
          "output_type": "stream",
          "name": "stdout",
          "text": [
            "\n",
            "      Epoch    GPU_mem   box_loss   cls_loss   dfl_loss  Instances       Size\n"
          ]
        },
        {
          "output_type": "stream",
          "name": "stderr",
          "text": [
            "     92/100       3.2G      1.173      1.077      1.903         13        640: 100%|██████████| 16/16 [00:04<00:00,  3.75it/s]\n",
            "                 Class     Images  Instances      Box(P          R      mAP50  mAP50-95): 100%|██████████| 3/3 [00:00<00:00,  5.39it/s]"
          ]
        },
        {
          "output_type": "stream",
          "name": "stdout",
          "text": [
            "                   all         70        218      0.899      0.689      0.812      0.626\n"
          ]
        },
        {
          "output_type": "stream",
          "name": "stderr",
          "text": [
            "\n"
          ]
        },
        {
          "output_type": "stream",
          "name": "stdout",
          "text": [
            "\n",
            "      Epoch    GPU_mem   box_loss   cls_loss   dfl_loss  Instances       Size\n"
          ]
        },
        {
          "output_type": "stream",
          "name": "stderr",
          "text": [
            "     93/100       3.2G      1.183      1.109      1.963          9        640: 100%|██████████| 16/16 [00:07<00:00,  2.28it/s]\n",
            "                 Class     Images  Instances      Box(P          R      mAP50  mAP50-95): 100%|██████████| 3/3 [00:00<00:00,  3.93it/s]"
          ]
        },
        {
          "output_type": "stream",
          "name": "stdout",
          "text": [
            "                   all         70        218      0.822      0.723      0.806      0.626\n"
          ]
        },
        {
          "output_type": "stream",
          "name": "stderr",
          "text": [
            "\n"
          ]
        },
        {
          "output_type": "stream",
          "name": "stdout",
          "text": [
            "\n",
            "      Epoch    GPU_mem   box_loss   cls_loss   dfl_loss  Instances       Size\n"
          ]
        },
        {
          "output_type": "stream",
          "name": "stderr",
          "text": [
            "     94/100      3.16G      1.143       1.03      1.961         18        640: 100%|██████████| 16/16 [00:04<00:00,  3.69it/s]\n",
            "                 Class     Images  Instances      Box(P          R      mAP50  mAP50-95): 100%|██████████| 3/3 [00:00<00:00,  5.34it/s]"
          ]
        },
        {
          "output_type": "stream",
          "name": "stdout",
          "text": [
            "                   all         70        218      0.853      0.714      0.811      0.635\n"
          ]
        },
        {
          "output_type": "stream",
          "name": "stderr",
          "text": [
            "\n"
          ]
        },
        {
          "output_type": "stream",
          "name": "stdout",
          "text": [
            "\n",
            "      Epoch    GPU_mem   box_loss   cls_loss   dfl_loss  Instances       Size\n"
          ]
        },
        {
          "output_type": "stream",
          "name": "stderr",
          "text": [
            "     95/100      3.18G      1.156      1.034      1.979         16        640: 100%|██████████| 16/16 [00:04<00:00,  3.25it/s]\n",
            "                 Class     Images  Instances      Box(P          R      mAP50  mAP50-95): 100%|██████████| 3/3 [00:00<00:00,  3.43it/s]"
          ]
        },
        {
          "output_type": "stream",
          "name": "stdout",
          "text": [
            "                   all         70        218      0.868      0.684      0.811      0.636\n"
          ]
        },
        {
          "output_type": "stream",
          "name": "stderr",
          "text": [
            "\n"
          ]
        },
        {
          "output_type": "stream",
          "name": "stdout",
          "text": [
            "\n",
            "      Epoch    GPU_mem   box_loss   cls_loss   dfl_loss  Instances       Size\n"
          ]
        },
        {
          "output_type": "stream",
          "name": "stderr",
          "text": [
            "     96/100      3.18G      1.088     0.9882      1.938         12        640: 100%|██████████| 16/16 [00:05<00:00,  2.93it/s]\n",
            "                 Class     Images  Instances      Box(P          R      mAP50  mAP50-95): 100%|██████████| 3/3 [00:00<00:00,  5.14it/s]"
          ]
        },
        {
          "output_type": "stream",
          "name": "stdout",
          "text": [
            "                   all         70        218      0.785      0.775      0.811      0.639\n"
          ]
        },
        {
          "output_type": "stream",
          "name": "stderr",
          "text": [
            "\n"
          ]
        },
        {
          "output_type": "stream",
          "name": "stdout",
          "text": [
            "\n",
            "      Epoch    GPU_mem   box_loss   cls_loss   dfl_loss  Instances       Size\n"
          ]
        },
        {
          "output_type": "stream",
          "name": "stderr",
          "text": [
            "     97/100      3.16G      1.125     0.9962      1.921         16        640: 100%|██████████| 16/16 [00:04<00:00,  3.82it/s]\n",
            "                 Class     Images  Instances      Box(P          R      mAP50  mAP50-95): 100%|██████████| 3/3 [00:00<00:00,  5.19it/s]"
          ]
        },
        {
          "output_type": "stream",
          "name": "stdout",
          "text": [
            "                   all         70        218      0.852      0.707      0.815       0.64\n"
          ]
        },
        {
          "output_type": "stream",
          "name": "stderr",
          "text": [
            "\n"
          ]
        },
        {
          "output_type": "stream",
          "name": "stdout",
          "text": [
            "\n",
            "      Epoch    GPU_mem   box_loss   cls_loss   dfl_loss  Instances       Size\n"
          ]
        },
        {
          "output_type": "stream",
          "name": "stderr",
          "text": [
            "     98/100      3.18G      1.113      0.945      1.881         22        640: 100%|██████████| 16/16 [00:07<00:00,  2.14it/s]\n",
            "                 Class     Images  Instances      Box(P          R      mAP50  mAP50-95): 100%|██████████| 3/3 [00:00<00:00,  3.42it/s]"
          ]
        },
        {
          "output_type": "stream",
          "name": "stdout",
          "text": [
            "                   all         70        218      0.839       0.73      0.814      0.633\n"
          ]
        },
        {
          "output_type": "stream",
          "name": "stderr",
          "text": [
            "\n"
          ]
        },
        {
          "output_type": "stream",
          "name": "stdout",
          "text": [
            "\n",
            "      Epoch    GPU_mem   box_loss   cls_loss   dfl_loss  Instances       Size\n"
          ]
        },
        {
          "output_type": "stream",
          "name": "stderr",
          "text": [
            "     99/100      3.16G      1.079     0.9663      1.908         16        640: 100%|██████████| 16/16 [00:05<00:00,  2.84it/s]\n",
            "                 Class     Images  Instances      Box(P          R      mAP50  mAP50-95): 100%|██████████| 3/3 [00:00<00:00,  5.26it/s]"
          ]
        },
        {
          "output_type": "stream",
          "name": "stdout",
          "text": [
            "                   all         70        218      0.786      0.788      0.817       0.63\n"
          ]
        },
        {
          "output_type": "stream",
          "name": "stderr",
          "text": [
            "\n"
          ]
        },
        {
          "output_type": "stream",
          "name": "stdout",
          "text": [
            "\n",
            "      Epoch    GPU_mem   box_loss   cls_loss   dfl_loss  Instances       Size\n"
          ]
        },
        {
          "output_type": "stream",
          "name": "stderr",
          "text": [
            "    100/100      3.18G      1.092     0.9132      1.899         12        640: 100%|██████████| 16/16 [00:06<00:00,  2.37it/s]\n",
            "                 Class     Images  Instances      Box(P          R      mAP50  mAP50-95): 100%|██████████| 3/3 [00:00<00:00,  3.45it/s]"
          ]
        },
        {
          "output_type": "stream",
          "name": "stdout",
          "text": [
            "                   all         70        218      0.787      0.774      0.813      0.629\n"
          ]
        },
        {
          "output_type": "stream",
          "name": "stderr",
          "text": [
            "\n"
          ]
        },
        {
          "output_type": "stream",
          "name": "stdout",
          "text": [
            "\n",
            "100 epochs completed in 0.213 hours.\n",
            "Optimizer stripped from runs/detect/train/weights/last.pt, 5.8MB\n",
            "Optimizer stripped from runs/detect/train/weights/best.pt, 5.8MB\n",
            "\n",
            "Validating runs/detect/train/weights/best.pt...\n",
            "Ultralytics YOLOv8.2.78 🚀 Python-3.10.12 torch-2.3.1+cu121 CUDA:0 (Tesla T4, 15102MiB)\n",
            "YOLOv10n summary (fused): 285 layers, 2,695,196 parameters, 0 gradients, 8.2 GFLOPs\n"
          ]
        },
        {
          "output_type": "stream",
          "name": "stderr",
          "text": [
            "                 Class     Images  Instances      Box(P          R      mAP50  mAP50-95): 100%|██████████| 3/3 [00:00<00:00,  3.13it/s]\n"
          ]
        },
        {
          "output_type": "stream",
          "name": "stdout",
          "text": [
            "                   all         70        218      0.855      0.705      0.815      0.639\n",
            "         license-plate         70         84      0.911      0.731      0.852      0.635\n",
            "               vehicle         68        134      0.798      0.679      0.777      0.644\n",
            "Speed: 0.2ms preprocess, 3.9ms inference, 0.0ms loss, 1.1ms postprocess per image\n",
            "Results saved to \u001b[1mruns/detect/train\u001b[0m\n"
          ]
        }
      ],
      "source": [
        "from ultralytics import YOLO\n",
        "model = YOLO(\"yolov10n.pt\")\n",
        "model.info()\n",
        "results = model.train(data=\"data.yaml\", epochs=100, imgsz=640)"
      ]
    },
    {
      "cell_type": "code",
      "execution_count": 4,
      "metadata": {
        "id": "MOSjXTD1m1eK",
        "colab": {
          "base_uri": "https://localhost:8080/"
        },
        "outputId": "78e7055e-4ad0-4889-a336-8ec549a9ebe7"
      },
      "outputs": [
        {
          "output_type": "stream",
          "name": "stdout",
          "text": [
            "Files have been zipped successfully to LPyolov10\n"
          ]
        }
      ],
      "source": [
        "import shutil\n",
        "import os\n",
        "zip_filename = \"LPyolov10\"\n",
        "shutil.make_archive(base_name=zip_filename.replace('.zip', ''),\n",
        "                    format='zip',\n",
        "                    root_dir='/content/runs')\n",
        "print(f\"Files have been zipped successfully to {zip_filename}\")"
      ]
    },
    {
      "cell_type": "code",
      "source": [
        "from google.colab import files\n",
        "files.download(\"LPyolov10.zip\")"
      ],
      "metadata": {
        "colab": {
          "base_uri": "https://localhost:8080/",
          "height": 17
        },
        "id": "kExPDtEpU2Ip",
        "outputId": "6b046109-d17e-4d6e-e072-fd7e0cb8173b"
      },
      "execution_count": 5,
      "outputs": [
        {
          "output_type": "display_data",
          "data": {
            "text/plain": [
              "<IPython.core.display.Javascript object>"
            ],
            "application/javascript": [
              "\n",
              "    async function download(id, filename, size) {\n",
              "      if (!google.colab.kernel.accessAllowed) {\n",
              "        return;\n",
              "      }\n",
              "      const div = document.createElement('div');\n",
              "      const label = document.createElement('label');\n",
              "      label.textContent = `Downloading \"${filename}\": `;\n",
              "      div.appendChild(label);\n",
              "      const progress = document.createElement('progress');\n",
              "      progress.max = size;\n",
              "      div.appendChild(progress);\n",
              "      document.body.appendChild(div);\n",
              "\n",
              "      const buffers = [];\n",
              "      let downloaded = 0;\n",
              "\n",
              "      const channel = await google.colab.kernel.comms.open(id);\n",
              "      // Send a message to notify the kernel that we're ready.\n",
              "      channel.send({})\n",
              "\n",
              "      for await (const message of channel.messages) {\n",
              "        // Send a message to notify the kernel that we're ready.\n",
              "        channel.send({})\n",
              "        if (message.buffers) {\n",
              "          for (const buffer of message.buffers) {\n",
              "            buffers.push(buffer);\n",
              "            downloaded += buffer.byteLength;\n",
              "            progress.value = downloaded;\n",
              "          }\n",
              "        }\n",
              "      }\n",
              "      const blob = new Blob(buffers, {type: 'application/binary'});\n",
              "      const a = document.createElement('a');\n",
              "      a.href = window.URL.createObjectURL(blob);\n",
              "      a.download = filename;\n",
              "      div.appendChild(a);\n",
              "      a.click();\n",
              "      div.remove();\n",
              "    }\n",
              "  "
            ]
          },
          "metadata": {}
        },
        {
          "output_type": "display_data",
          "data": {
            "text/plain": [
              "<IPython.core.display.Javascript object>"
            ],
            "application/javascript": [
              "download(\"download_1fbfbc8e-2dbd-4622-abde-715f73bb836e\", \"LPyolov10.zip\", 18081474)"
            ]
          },
          "metadata": {}
        }
      ]
    },
    {
      "cell_type": "code",
      "source": [],
      "metadata": {
        "id": "Hg6liOS9jiCU"
      },
      "execution_count": null,
      "outputs": []
    }
  ],
  "metadata": {
    "accelerator": "GPU",
    "colab": {
      "gpuType": "T4",
      "provenance": []
    },
    "kernelspec": {
      "display_name": "Python 3",
      "name": "python3"
    },
    "language_info": {
      "name": "python"
    }
  },
  "nbformat": 4,
  "nbformat_minor": 0
}